{
  "cells": [
    {
      "cell_type": "code",
      "execution_count": null,
      "metadata": {
        "id": "q9g7D8yH9rWd"
      },
      "outputs": [],
      "source": [
        "#Import the required Libraries.\n",
        "import numpy as np\n",
        "import pandas as pd\n",
        "import matplotlib.pyplot as plt\n",
        "import seaborn as sns"
      ]
    },
    {
      "cell_type": "markdown",
      "metadata": {
        "id": "SlrUOuji9rWe"
      },
      "source": [
        "## Data Cleaning"
      ]
    },
    {
      "cell_type": "markdown",
      "metadata": {
        "id": "HhzXhtnd9rWf"
      },
      "source": [
        "### Data Reading & Data Types"
      ]
    },
    {
      "cell_type": "code",
      "execution_count": null,
      "metadata": {
        "id": "7rIK3zGM9rWf"
      },
      "outputs": [],
      "source": [
        "#Read the data in pandas\n",
        "inp0= pd.read_csv(\"/content/Attribute+DataSet (2) (1).csv\")\n",
        "inp1= pd.read_csv(\"/content/Dress+Sales (1) (1).csv\")"
      ]
    },
    {
      "cell_type": "markdown",
      "metadata": {
        "id": "usy6u02T9rWf"
      },
      "source": [
        "You have “Attribute DataSet” which contains a column named “Price”. Choose the correct statement from the following about its data type and variable type.\n",
        "- Integer type and numerical variable\n",
        "- Object type and categorical ordinal variable\n",
        "- Object type and categorical nominal variable\n",
        "- Float type and categorical variable.\n"
      ]
    },
    {
      "cell_type": "markdown",
      "metadata": {
        "id": "CcAfKfk69rWf"
      },
      "source": [
        "There is another column in “Attribute DataSet” named as “Recommendation”, choose the correct statement about its data type and variable type.\n",
        "- Integer type and categorical\n",
        "- Object type and categorical\n",
        "- Integer type and continuous numerical\n",
        "- Object type only.\n"
      ]
    },
    {
      "cell_type": "markdown",
      "metadata": {
        "id": "yL62uME59rWf"
      },
      "source": [
        "Which of the following column do you think are of no use in “Attribute DataSet”.\n",
        "- Dress_ID\n",
        "- Price\n",
        "- Size and material\n",
        "- NeckLine\n",
        "- None of the above\n"
      ]
    },
    {
      "cell_type": "code",
      "execution_count": null,
      "metadata": {
        "id": "iSyhq2M99rWf"
      },
      "outputs": [],
      "source": [
        "# Print the information about the attributes of inp0 and inp1.\n"
      ]
    },
    {
      "cell_type": "markdown",
      "metadata": {
        "id": "prpmAMPp9rWg"
      },
      "source": [
        "### Fixing the Rows and Columns"
      ]
    },
    {
      "cell_type": "markdown",
      "metadata": {
        "id": "XBvEuQqK9rWg"
      },
      "source": [
        "As you can see, there is a column in “Attribute Dataset” named as ‘Size’. This column contains the values in abbreviation format. Write a code in Python to convert the followings:\n",
        "\n",
        "- M into  “Medium”\n",
        "- L into  “Large”\n",
        "- XL into “Extra large”\n",
        "- free into “Free”\n",
        "- S, s & small into “Small”.\n",
        "\n",
        "Now once you are done with changes in the dataset, what is the value of the lowest percentage, the highest percentage and the percentage of Small size categories in the column named “Size”?\n"
      ]
    },
    {
      "cell_type": "code",
      "execution_count": null,
      "metadata": {
        "id": "8x4pnnsG9rWg"
      },
      "outputs": [],
      "source": [
        "# Column fixing, correcting size abbreviation. count the percentage of each size category in \"Size\" column.\n"
      ]
    },
    {
      "cell_type": "code",
      "execution_count": null,
      "metadata": {
        "id": "1JBIlLvd9rWg"
      },
      "outputs": [],
      "source": [
        "inp0['Size'] = inp0['Size'].replace({'M': 'Medium',\n",
        "                                      'L': 'Large',\n",
        "                                      'XL': 'Extra Large',\n",
        "                                      'free': 'Free',\n",
        "                                      'S': 'Small',\n",
        "                                      's': 'Small',\n",
        "                                      'small': 'Small'})"
      ]
    },
    {
      "cell_type": "code",
      "execution_count": null,
      "metadata": {
        "id": "yEjEZard9rWg"
      },
      "outputs": [],
      "source": [
        "# Print the value counts of each category in \"Size\" column.\n"
      ]
    },
    {
      "cell_type": "code",
      "execution_count": null,
      "metadata": {
        "colab": {
          "base_uri": "https://localhost:8080/",
          "height": 272
        },
        "id": "X4-xRqGL9rWg",
        "outputId": "4e40c413-54b3-42f5-8c81-0e16fa89b567"
      },
      "outputs": [
        {
          "output_type": "execute_result",
          "data": {
            "text/plain": [
              "Size\n",
              "Medium         0.356994\n",
              "Free           0.344468\n",
              "Large          0.194154\n",
              "Small          0.075157\n",
              "Extra Large    0.029228\n",
              "Name: proportion, dtype: float64"
            ],
            "text/html": [
              "<div>\n",
              "<style scoped>\n",
              "    .dataframe tbody tr th:only-of-type {\n",
              "        vertical-align: middle;\n",
              "    }\n",
              "\n",
              "    .dataframe tbody tr th {\n",
              "        vertical-align: top;\n",
              "    }\n",
              "\n",
              "    .dataframe thead th {\n",
              "        text-align: right;\n",
              "    }\n",
              "</style>\n",
              "<table border=\"1\" class=\"dataframe\">\n",
              "  <thead>\n",
              "    <tr style=\"text-align: right;\">\n",
              "      <th></th>\n",
              "      <th>proportion</th>\n",
              "    </tr>\n",
              "    <tr>\n",
              "      <th>Size</th>\n",
              "      <th></th>\n",
              "    </tr>\n",
              "  </thead>\n",
              "  <tbody>\n",
              "    <tr>\n",
              "      <th>Medium</th>\n",
              "      <td>0.356994</td>\n",
              "    </tr>\n",
              "    <tr>\n",
              "      <th>Free</th>\n",
              "      <td>0.344468</td>\n",
              "    </tr>\n",
              "    <tr>\n",
              "      <th>Large</th>\n",
              "      <td>0.194154</td>\n",
              "    </tr>\n",
              "    <tr>\n",
              "      <th>Small</th>\n",
              "      <td>0.075157</td>\n",
              "    </tr>\n",
              "    <tr>\n",
              "      <th>Extra Large</th>\n",
              "      <td>0.029228</td>\n",
              "    </tr>\n",
              "  </tbody>\n",
              "</table>\n",
              "</div><br><label><b>dtype:</b> float64</label>"
            ]
          },
          "metadata": {},
          "execution_count": 48
        }
      ],
      "source": [
        "inp0.Size.value_counts(normalize = True)"
      ]
    },
    {
      "cell_type": "markdown",
      "metadata": {
        "id": "4kFIb28g9rWg"
      },
      "source": [
        "### Impute/Remove Missing values"
      ]
    },
    {
      "cell_type": "code",
      "execution_count": null,
      "metadata": {
        "id": "G1O-oqSV9rWg"
      },
      "outputs": [],
      "source": [
        "# Print the null count of each variables of inp0 and inp1.\n"
      ]
    },
    {
      "cell_type": "code",
      "execution_count": null,
      "metadata": {
        "colab": {
          "base_uri": "https://localhost:8080/",
          "height": 491
        },
        "id": "N0I7Iszz9rWh",
        "outputId": "833b3a64-8a56-404f-82b8-116d4c3e2981"
      },
      "outputs": [
        {
          "output_type": "execute_result",
          "data": {
            "text/plain": [
              "Dress_ID            0\n",
              "Style               0\n",
              "Price               2\n",
              "Rating              0\n",
              "Size                0\n",
              "Season              2\n",
              "NeckLine            3\n",
              "SleeveLength        2\n",
              "Material          119\n",
              "FabricType        256\n",
              "Decoration        224\n",
              "Pattern Type      102\n",
              "Recommendation      0\n",
              "dtype: int64"
            ],
            "text/html": [
              "<div>\n",
              "<style scoped>\n",
              "    .dataframe tbody tr th:only-of-type {\n",
              "        vertical-align: middle;\n",
              "    }\n",
              "\n",
              "    .dataframe tbody tr th {\n",
              "        vertical-align: top;\n",
              "    }\n",
              "\n",
              "    .dataframe thead th {\n",
              "        text-align: right;\n",
              "    }\n",
              "</style>\n",
              "<table border=\"1\" class=\"dataframe\">\n",
              "  <thead>\n",
              "    <tr style=\"text-align: right;\">\n",
              "      <th></th>\n",
              "      <th>0</th>\n",
              "    </tr>\n",
              "  </thead>\n",
              "  <tbody>\n",
              "    <tr>\n",
              "      <th>Dress_ID</th>\n",
              "      <td>0</td>\n",
              "    </tr>\n",
              "    <tr>\n",
              "      <th>Style</th>\n",
              "      <td>0</td>\n",
              "    </tr>\n",
              "    <tr>\n",
              "      <th>Price</th>\n",
              "      <td>2</td>\n",
              "    </tr>\n",
              "    <tr>\n",
              "      <th>Rating</th>\n",
              "      <td>0</td>\n",
              "    </tr>\n",
              "    <tr>\n",
              "      <th>Size</th>\n",
              "      <td>0</td>\n",
              "    </tr>\n",
              "    <tr>\n",
              "      <th>Season</th>\n",
              "      <td>2</td>\n",
              "    </tr>\n",
              "    <tr>\n",
              "      <th>NeckLine</th>\n",
              "      <td>3</td>\n",
              "    </tr>\n",
              "    <tr>\n",
              "      <th>SleeveLength</th>\n",
              "      <td>2</td>\n",
              "    </tr>\n",
              "    <tr>\n",
              "      <th>Material</th>\n",
              "      <td>119</td>\n",
              "    </tr>\n",
              "    <tr>\n",
              "      <th>FabricType</th>\n",
              "      <td>256</td>\n",
              "    </tr>\n",
              "    <tr>\n",
              "      <th>Decoration</th>\n",
              "      <td>224</td>\n",
              "    </tr>\n",
              "    <tr>\n",
              "      <th>Pattern Type</th>\n",
              "      <td>102</td>\n",
              "    </tr>\n",
              "    <tr>\n",
              "      <th>Recommendation</th>\n",
              "      <td>0</td>\n",
              "    </tr>\n",
              "  </tbody>\n",
              "</table>\n",
              "</div><br><label><b>dtype:</b> int64</label>"
            ]
          },
          "metadata": {},
          "execution_count": 50
        }
      ],
      "source": [
        "inp0.isnull().sum()"
      ]
    },
    {
      "cell_type": "code",
      "execution_count": null,
      "metadata": {
        "colab": {
          "base_uri": "https://localhost:8080/",
          "height": 836
        },
        "id": "gLmwzr1Y9rWh",
        "outputId": "f7ba5ebc-b107-4b00-dd02-7d082bf4430f"
      },
      "outputs": [
        {
          "output_type": "execute_result",
          "data": {
            "text/plain": [
              "Dress_ID        0\n",
              "29-08-2013      0\n",
              "31-08-2013      0\n",
              "09-02-2013      0\n",
              "09-04-2013      0\n",
              "09-06-2013      0\n",
              "09-08-2013      0\n",
              "09-10-2013      0\n",
              "09-12-2013      0\n",
              "14-09-2013      0\n",
              "16-09-2013      0\n",
              "18-09-2013      0\n",
              "20-09-2013      0\n",
              "22-09-2013      0\n",
              "24-09-2013      0\n",
              "26-09-2013    222\n",
              "28-09-2013      0\n",
              "30-09-2013    257\n",
              "10-02-2013    259\n",
              "10-04-2013    258\n",
              "10-06-2013      0\n",
              "10-08-2013    255\n",
              "10-10-2013    255\n",
              "10-12-2013      0\n",
              "dtype: int64"
            ],
            "text/html": [
              "<div>\n",
              "<style scoped>\n",
              "    .dataframe tbody tr th:only-of-type {\n",
              "        vertical-align: middle;\n",
              "    }\n",
              "\n",
              "    .dataframe tbody tr th {\n",
              "        vertical-align: top;\n",
              "    }\n",
              "\n",
              "    .dataframe thead th {\n",
              "        text-align: right;\n",
              "    }\n",
              "</style>\n",
              "<table border=\"1\" class=\"dataframe\">\n",
              "  <thead>\n",
              "    <tr style=\"text-align: right;\">\n",
              "      <th></th>\n",
              "      <th>0</th>\n",
              "    </tr>\n",
              "  </thead>\n",
              "  <tbody>\n",
              "    <tr>\n",
              "      <th>Dress_ID</th>\n",
              "      <td>0</td>\n",
              "    </tr>\n",
              "    <tr>\n",
              "      <th>29-08-2013</th>\n",
              "      <td>0</td>\n",
              "    </tr>\n",
              "    <tr>\n",
              "      <th>31-08-2013</th>\n",
              "      <td>0</td>\n",
              "    </tr>\n",
              "    <tr>\n",
              "      <th>09-02-2013</th>\n",
              "      <td>0</td>\n",
              "    </tr>\n",
              "    <tr>\n",
              "      <th>09-04-2013</th>\n",
              "      <td>0</td>\n",
              "    </tr>\n",
              "    <tr>\n",
              "      <th>09-06-2013</th>\n",
              "      <td>0</td>\n",
              "    </tr>\n",
              "    <tr>\n",
              "      <th>09-08-2013</th>\n",
              "      <td>0</td>\n",
              "    </tr>\n",
              "    <tr>\n",
              "      <th>09-10-2013</th>\n",
              "      <td>0</td>\n",
              "    </tr>\n",
              "    <tr>\n",
              "      <th>09-12-2013</th>\n",
              "      <td>0</td>\n",
              "    </tr>\n",
              "    <tr>\n",
              "      <th>14-09-2013</th>\n",
              "      <td>0</td>\n",
              "    </tr>\n",
              "    <tr>\n",
              "      <th>16-09-2013</th>\n",
              "      <td>0</td>\n",
              "    </tr>\n",
              "    <tr>\n",
              "      <th>18-09-2013</th>\n",
              "      <td>0</td>\n",
              "    </tr>\n",
              "    <tr>\n",
              "      <th>20-09-2013</th>\n",
              "      <td>0</td>\n",
              "    </tr>\n",
              "    <tr>\n",
              "      <th>22-09-2013</th>\n",
              "      <td>0</td>\n",
              "    </tr>\n",
              "    <tr>\n",
              "      <th>24-09-2013</th>\n",
              "      <td>0</td>\n",
              "    </tr>\n",
              "    <tr>\n",
              "      <th>26-09-2013</th>\n",
              "      <td>222</td>\n",
              "    </tr>\n",
              "    <tr>\n",
              "      <th>28-09-2013</th>\n",
              "      <td>0</td>\n",
              "    </tr>\n",
              "    <tr>\n",
              "      <th>30-09-2013</th>\n",
              "      <td>257</td>\n",
              "    </tr>\n",
              "    <tr>\n",
              "      <th>10-02-2013</th>\n",
              "      <td>259</td>\n",
              "    </tr>\n",
              "    <tr>\n",
              "      <th>10-04-2013</th>\n",
              "      <td>258</td>\n",
              "    </tr>\n",
              "    <tr>\n",
              "      <th>10-06-2013</th>\n",
              "      <td>0</td>\n",
              "    </tr>\n",
              "    <tr>\n",
              "      <th>10-08-2013</th>\n",
              "      <td>255</td>\n",
              "    </tr>\n",
              "    <tr>\n",
              "      <th>10-10-2013</th>\n",
              "      <td>255</td>\n",
              "    </tr>\n",
              "    <tr>\n",
              "      <th>10-12-2013</th>\n",
              "      <td>0</td>\n",
              "    </tr>\n",
              "  </tbody>\n",
              "</table>\n",
              "</div><br><label><b>dtype:</b> int64</label>"
            ]
          },
          "metadata": {},
          "execution_count": 51
        }
      ],
      "source": [
        "inp1.isnull().sum()"
      ]
    },
    {
      "cell_type": "markdown",
      "metadata": {
        "id": "8wTZGcfn9rWh"
      },
      "source": [
        "You are given another dataset named “Dress Sales”. Now if you observe the datatypes of the columns using ‘inp1.info()’ command, you can identify that there are certain columns defined as object data type though they primarily consist of numeric data.\n",
        "\n",
        "Now if you try and convert these object data type columns into numeric data type(float), you will come across an error message. Try to correct this error.\n",
        "\n",
        "\n",
        "\n",
        "\n",
        "\n"
      ]
    },
    {
      "cell_type": "code",
      "execution_count": null,
      "metadata": {
        "id": "CvCust3e9rWh"
      },
      "outputs": [],
      "source": [
        "# Print the data types information of inp1 i.e. \"Dress Sales\" data.\n"
      ]
    },
    {
      "cell_type": "code",
      "execution_count": null,
      "metadata": {
        "colab": {
          "base_uri": "https://localhost:8080/"
        },
        "id": "pvrXbfuW9rWh",
        "outputId": "e43bb72e-e0d7-4f59-e0d9-e92d63672281"
      },
      "outputs": [
        {
          "output_type": "stream",
          "name": "stdout",
          "text": [
            "<class 'pandas.core.frame.DataFrame'>\n",
            "RangeIndex: 479 entries, 0 to 478\n",
            "Data columns (total 24 columns):\n",
            " #   Column      Non-Null Count  Dtype  \n",
            "---  ------      --------------  -----  \n",
            " 0   Dress_ID    479 non-null    float64\n",
            " 1   29-08-2013  479 non-null    int64  \n",
            " 2   31-08-2013  479 non-null    int64  \n",
            " 3   09-02-2013  479 non-null    int64  \n",
            " 4   09-04-2013  479 non-null    int64  \n",
            " 5   09-06-2013  479 non-null    int64  \n",
            " 6   09-08-2013  479 non-null    int64  \n",
            " 7   09-10-2013  479 non-null    int64  \n",
            " 8   09-12-2013  479 non-null    object \n",
            " 9   14-09-2013  479 non-null    object \n",
            " 10  16-09-2013  479 non-null    object \n",
            " 11  18-09-2013  479 non-null    object \n",
            " 12  20-09-2013  479 non-null    object \n",
            " 13  22-09-2013  479 non-null    object \n",
            " 14  24-09-2013  479 non-null    int64  \n",
            " 15  26-09-2013  257 non-null    float64\n",
            " 16  28-09-2013  479 non-null    int64  \n",
            " 17  30-09-2013  222 non-null    float64\n",
            " 18  10-02-2013  220 non-null    float64\n",
            " 19  10-04-2013  221 non-null    float64\n",
            " 20  10-06-2013  479 non-null    int64  \n",
            " 21  10-08-2013  224 non-null    float64\n",
            " 22  10-10-2013  224 non-null    float64\n",
            " 23  10-12-2013  479 non-null    int64  \n",
            "dtypes: float64(7), int64(11), object(6)\n",
            "memory usage: 89.9+ KB\n"
          ]
        }
      ],
      "source": [
        "inp1.info()"
      ]
    },
    {
      "cell_type": "code",
      "execution_count": null,
      "metadata": {
        "id": "EELJ0Pui9rWh"
      },
      "outputs": [],
      "source": [
        "# Try to convert the object type into float type of data. YOU GET ERROR MESSAGE.\n"
      ]
    },
    {
      "cell_type": "code",
      "execution_count": null,
      "metadata": {
        "colab": {
          "base_uri": "https://localhost:8080/"
        },
        "id": "Z62Xtv3r9rWh",
        "outputId": "edbbb03b-18a1-49d6-cfbe-bf017f88ed73"
      },
      "outputs": [
        {
          "output_type": "stream",
          "name": "stdout",
          "text": [
            "Error converting column '09-12-2013': could not convert string to float: 'Removed'\n",
            "Error converting column '14-09-2013': could not convert string to float: 'removed'\n",
            "Error converting column '16-09-2013': could not convert string to float: 'removed'\n",
            "Error converting column '18-09-2013': could not convert string to float: 'removed'\n",
            "Error converting column '20-09-2013': could not convert string to float: 'removed'\n",
            "Error converting column '22-09-2013': could not convert string to float: 'Orders'\n"
          ]
        }
      ],
      "source": [
        "import pandas as pd\n",
        "\n",
        "# Assuming your DataFrame is named 'inp1'\n",
        "\n",
        "# Select the columns to convert (assuming they are all except 'Dress_ID')\n",
        "columns_to_convert = inp1.columns[1:]\n",
        "\n",
        "# Attempt to convert the columns to float\n",
        "for column in columns_to_convert:\n",
        "    try:\n",
        "        inp1[column] = inp1[column].astype(float)\n",
        "    except ValueError as e:\n",
        "        print(f\"Error converting column '{column}': {e}\")"
      ]
    },
    {
      "cell_type": "code",
      "execution_count": null,
      "metadata": {
        "id": "Q1UqCdTR9rWh"
      },
      "outputs": [],
      "source": [
        "# Do the required changes in the \"Dress Sales\" data set to get null values on string values.\n"
      ]
    },
    {
      "cell_type": "code",
      "execution_count": null,
      "metadata": {
        "id": "Uzfrn4RZ9rWh"
      },
      "outputs": [],
      "source": [
        "import pandas as pd\n",
        "import numpy as np\n",
        "\n",
        "# Assuming your DataFrame is named 'inp1'\n",
        "\n",
        "# Select the columns to modify (assuming they are all except 'Dress_ID')\n",
        "columns_to_modify = inp1.columns[1:]\n",
        "\n",
        "# Replace string values with NaN in the selected columns\n",
        "for column in columns_to_modify:\n",
        "    inp1[column] = pd.to_numeric(inp1[column], errors='coerce')\n",
        "\n",
        "# Print the updated DataFrame (optional)\n",
        "# print(inp1)"
      ]
    },
    {
      "cell_type": "code",
      "execution_count": null,
      "metadata": {
        "colab": {
          "base_uri": "https://localhost:8080/",
          "height": 290
        },
        "id": "KTBs4x3v9rWh",
        "outputId": "160e4dd3-4b53-4240-a8a5-db2062c6c868"
      },
      "outputs": [
        {
          "output_type": "execute_result",
          "data": {
            "text/plain": [
              "       Dress_ID  29-08-2013  31-08-2013  09-02-2013  09-04-2013  09-06-2013  \\\n",
              "0  1.006033e+09      2114.0      2274.0      2491.0      2660.0      2727.0   \n",
              "1  1.212192e+09       151.0       275.0       570.0       750.0       813.0   \n",
              "2  1.190381e+09         6.0         7.0         7.0         7.0         8.0   \n",
              "3  9.660060e+08      1005.0      1128.0      1326.0      1455.0      1507.0   \n",
              "4  8.763395e+08       996.0      1175.0      1304.0      1396.0      1432.0   \n",
              "\n",
              "   09-08-2013  09-10-2013  09-12-2013  14-09-2013  ...  24-09-2013  \\\n",
              "0      2887.0      2930.0      3119.0      3204.0  ...      3554.0   \n",
              "1      1066.0      1164.0      1558.0      1756.0  ...      2710.0   \n",
              "2         8.0         9.0        10.0        10.0  ...        11.0   \n",
              "3      1621.0      1637.0      1723.0      1746.0  ...      1878.0   \n",
              "4      1559.0      1570.0      1638.0      1655.0  ...      2032.0   \n",
              "\n",
              "   26-09-2013  28-09-2013  30-09-2013  10-02-2013  10-04-2013  10-06-2013  \\\n",
              "0      3624.0      3706.0      3746.0      3795.0      3832.0      3897.0   \n",
              "1      2942.0      3258.0      3354.0      3475.0      3654.0      3911.0   \n",
              "2        11.0        11.0        11.0        11.0        11.0        11.0   \n",
              "3      1892.0      1914.0      1924.0      1929.0      1941.0      1952.0   \n",
              "4      2156.0      2252.0      2312.0      2387.0      2459.0      2544.0   \n",
              "\n",
              "   10-08-2013  10-10-2013  10-12-2013  \n",
              "0      3923.0      3985.0      4048.0  \n",
              "1      4024.0      4125.0      4277.0  \n",
              "2        11.0        11.0        11.0  \n",
              "3      1955.0      1959.0      1963.0  \n",
              "4      2614.0      2693.0      2736.0  \n",
              "\n",
              "[5 rows x 24 columns]"
            ],
            "text/html": [
              "\n",
              "  <div id=\"df-1c42c44f-8d64-4b2d-bfa2-cff71c465bec\" class=\"colab-df-container\">\n",
              "    <div>\n",
              "<style scoped>\n",
              "    .dataframe tbody tr th:only-of-type {\n",
              "        vertical-align: middle;\n",
              "    }\n",
              "\n",
              "    .dataframe tbody tr th {\n",
              "        vertical-align: top;\n",
              "    }\n",
              "\n",
              "    .dataframe thead th {\n",
              "        text-align: right;\n",
              "    }\n",
              "</style>\n",
              "<table border=\"1\" class=\"dataframe\">\n",
              "  <thead>\n",
              "    <tr style=\"text-align: right;\">\n",
              "      <th></th>\n",
              "      <th>Dress_ID</th>\n",
              "      <th>29-08-2013</th>\n",
              "      <th>31-08-2013</th>\n",
              "      <th>09-02-2013</th>\n",
              "      <th>09-04-2013</th>\n",
              "      <th>09-06-2013</th>\n",
              "      <th>09-08-2013</th>\n",
              "      <th>09-10-2013</th>\n",
              "      <th>09-12-2013</th>\n",
              "      <th>14-09-2013</th>\n",
              "      <th>...</th>\n",
              "      <th>24-09-2013</th>\n",
              "      <th>26-09-2013</th>\n",
              "      <th>28-09-2013</th>\n",
              "      <th>30-09-2013</th>\n",
              "      <th>10-02-2013</th>\n",
              "      <th>10-04-2013</th>\n",
              "      <th>10-06-2013</th>\n",
              "      <th>10-08-2013</th>\n",
              "      <th>10-10-2013</th>\n",
              "      <th>10-12-2013</th>\n",
              "    </tr>\n",
              "  </thead>\n",
              "  <tbody>\n",
              "    <tr>\n",
              "      <th>0</th>\n",
              "      <td>1.006033e+09</td>\n",
              "      <td>2114.0</td>\n",
              "      <td>2274.0</td>\n",
              "      <td>2491.0</td>\n",
              "      <td>2660.0</td>\n",
              "      <td>2727.0</td>\n",
              "      <td>2887.0</td>\n",
              "      <td>2930.0</td>\n",
              "      <td>3119.0</td>\n",
              "      <td>3204.0</td>\n",
              "      <td>...</td>\n",
              "      <td>3554.0</td>\n",
              "      <td>3624.0</td>\n",
              "      <td>3706.0</td>\n",
              "      <td>3746.0</td>\n",
              "      <td>3795.0</td>\n",
              "      <td>3832.0</td>\n",
              "      <td>3897.0</td>\n",
              "      <td>3923.0</td>\n",
              "      <td>3985.0</td>\n",
              "      <td>4048.0</td>\n",
              "    </tr>\n",
              "    <tr>\n",
              "      <th>1</th>\n",
              "      <td>1.212192e+09</td>\n",
              "      <td>151.0</td>\n",
              "      <td>275.0</td>\n",
              "      <td>570.0</td>\n",
              "      <td>750.0</td>\n",
              "      <td>813.0</td>\n",
              "      <td>1066.0</td>\n",
              "      <td>1164.0</td>\n",
              "      <td>1558.0</td>\n",
              "      <td>1756.0</td>\n",
              "      <td>...</td>\n",
              "      <td>2710.0</td>\n",
              "      <td>2942.0</td>\n",
              "      <td>3258.0</td>\n",
              "      <td>3354.0</td>\n",
              "      <td>3475.0</td>\n",
              "      <td>3654.0</td>\n",
              "      <td>3911.0</td>\n",
              "      <td>4024.0</td>\n",
              "      <td>4125.0</td>\n",
              "      <td>4277.0</td>\n",
              "    </tr>\n",
              "    <tr>\n",
              "      <th>2</th>\n",
              "      <td>1.190381e+09</td>\n",
              "      <td>6.0</td>\n",
              "      <td>7.0</td>\n",
              "      <td>7.0</td>\n",
              "      <td>7.0</td>\n",
              "      <td>8.0</td>\n",
              "      <td>8.0</td>\n",
              "      <td>9.0</td>\n",
              "      <td>10.0</td>\n",
              "      <td>10.0</td>\n",
              "      <td>...</td>\n",
              "      <td>11.0</td>\n",
              "      <td>11.0</td>\n",
              "      <td>11.0</td>\n",
              "      <td>11.0</td>\n",
              "      <td>11.0</td>\n",
              "      <td>11.0</td>\n",
              "      <td>11.0</td>\n",
              "      <td>11.0</td>\n",
              "      <td>11.0</td>\n",
              "      <td>11.0</td>\n",
              "    </tr>\n",
              "    <tr>\n",
              "      <th>3</th>\n",
              "      <td>9.660060e+08</td>\n",
              "      <td>1005.0</td>\n",
              "      <td>1128.0</td>\n",
              "      <td>1326.0</td>\n",
              "      <td>1455.0</td>\n",
              "      <td>1507.0</td>\n",
              "      <td>1621.0</td>\n",
              "      <td>1637.0</td>\n",
              "      <td>1723.0</td>\n",
              "      <td>1746.0</td>\n",
              "      <td>...</td>\n",
              "      <td>1878.0</td>\n",
              "      <td>1892.0</td>\n",
              "      <td>1914.0</td>\n",
              "      <td>1924.0</td>\n",
              "      <td>1929.0</td>\n",
              "      <td>1941.0</td>\n",
              "      <td>1952.0</td>\n",
              "      <td>1955.0</td>\n",
              "      <td>1959.0</td>\n",
              "      <td>1963.0</td>\n",
              "    </tr>\n",
              "    <tr>\n",
              "      <th>4</th>\n",
              "      <td>8.763395e+08</td>\n",
              "      <td>996.0</td>\n",
              "      <td>1175.0</td>\n",
              "      <td>1304.0</td>\n",
              "      <td>1396.0</td>\n",
              "      <td>1432.0</td>\n",
              "      <td>1559.0</td>\n",
              "      <td>1570.0</td>\n",
              "      <td>1638.0</td>\n",
              "      <td>1655.0</td>\n",
              "      <td>...</td>\n",
              "      <td>2032.0</td>\n",
              "      <td>2156.0</td>\n",
              "      <td>2252.0</td>\n",
              "      <td>2312.0</td>\n",
              "      <td>2387.0</td>\n",
              "      <td>2459.0</td>\n",
              "      <td>2544.0</td>\n",
              "      <td>2614.0</td>\n",
              "      <td>2693.0</td>\n",
              "      <td>2736.0</td>\n",
              "    </tr>\n",
              "  </tbody>\n",
              "</table>\n",
              "<p>5 rows × 24 columns</p>\n",
              "</div>\n",
              "    <div class=\"colab-df-buttons\">\n",
              "\n",
              "  <div class=\"colab-df-container\">\n",
              "    <button class=\"colab-df-convert\" onclick=\"convertToInteractive('df-1c42c44f-8d64-4b2d-bfa2-cff71c465bec')\"\n",
              "            title=\"Convert this dataframe to an interactive table.\"\n",
              "            style=\"display:none;\">\n",
              "\n",
              "  <svg xmlns=\"http://www.w3.org/2000/svg\" height=\"24px\" viewBox=\"0 -960 960 960\">\n",
              "    <path d=\"M120-120v-720h720v720H120Zm60-500h600v-160H180v160Zm220 220h160v-160H400v160Zm0 220h160v-160H400v160ZM180-400h160v-160H180v160Zm440 0h160v-160H620v160ZM180-180h160v-160H180v160Zm440 0h160v-160H620v160Z\"/>\n",
              "  </svg>\n",
              "    </button>\n",
              "\n",
              "  <style>\n",
              "    .colab-df-container {\n",
              "      display:flex;\n",
              "      gap: 12px;\n",
              "    }\n",
              "\n",
              "    .colab-df-convert {\n",
              "      background-color: #E8F0FE;\n",
              "      border: none;\n",
              "      border-radius: 50%;\n",
              "      cursor: pointer;\n",
              "      display: none;\n",
              "      fill: #1967D2;\n",
              "      height: 32px;\n",
              "      padding: 0 0 0 0;\n",
              "      width: 32px;\n",
              "    }\n",
              "\n",
              "    .colab-df-convert:hover {\n",
              "      background-color: #E2EBFA;\n",
              "      box-shadow: 0px 1px 2px rgba(60, 64, 67, 0.3), 0px 1px 3px 1px rgba(60, 64, 67, 0.15);\n",
              "      fill: #174EA6;\n",
              "    }\n",
              "\n",
              "    .colab-df-buttons div {\n",
              "      margin-bottom: 4px;\n",
              "    }\n",
              "\n",
              "    [theme=dark] .colab-df-convert {\n",
              "      background-color: #3B4455;\n",
              "      fill: #D2E3FC;\n",
              "    }\n",
              "\n",
              "    [theme=dark] .colab-df-convert:hover {\n",
              "      background-color: #434B5C;\n",
              "      box-shadow: 0px 1px 3px 1px rgba(0, 0, 0, 0.15);\n",
              "      filter: drop-shadow(0px 1px 2px rgba(0, 0, 0, 0.3));\n",
              "      fill: #FFFFFF;\n",
              "    }\n",
              "  </style>\n",
              "\n",
              "    <script>\n",
              "      const buttonEl =\n",
              "        document.querySelector('#df-1c42c44f-8d64-4b2d-bfa2-cff71c465bec button.colab-df-convert');\n",
              "      buttonEl.style.display =\n",
              "        google.colab.kernel.accessAllowed ? 'block' : 'none';\n",
              "\n",
              "      async function convertToInteractive(key) {\n",
              "        const element = document.querySelector('#df-1c42c44f-8d64-4b2d-bfa2-cff71c465bec');\n",
              "        const dataTable =\n",
              "          await google.colab.kernel.invokeFunction('convertToInteractive',\n",
              "                                                    [key], {});\n",
              "        if (!dataTable) return;\n",
              "\n",
              "        const docLinkHtml = 'Like what you see? Visit the ' +\n",
              "          '<a target=\"_blank\" href=https://colab.research.google.com/notebooks/data_table.ipynb>data table notebook</a>'\n",
              "          + ' to learn more about interactive tables.';\n",
              "        element.innerHTML = '';\n",
              "        dataTable['output_type'] = 'display_data';\n",
              "        await google.colab.output.renderOutput(dataTable, element);\n",
              "        const docLink = document.createElement('div');\n",
              "        docLink.innerHTML = docLinkHtml;\n",
              "        element.appendChild(docLink);\n",
              "      }\n",
              "    </script>\n",
              "  </div>\n",
              "\n",
              "\n",
              "    <div id=\"df-45c4d090-759b-45fe-9222-0a9051a8223b\">\n",
              "      <button class=\"colab-df-quickchart\" onclick=\"quickchart('df-45c4d090-759b-45fe-9222-0a9051a8223b')\"\n",
              "                title=\"Suggest charts\"\n",
              "                style=\"display:none;\">\n",
              "\n",
              "<svg xmlns=\"http://www.w3.org/2000/svg\" height=\"24px\"viewBox=\"0 0 24 24\"\n",
              "     width=\"24px\">\n",
              "    <g>\n",
              "        <path d=\"M19 3H5c-1.1 0-2 .9-2 2v14c0 1.1.9 2 2 2h14c1.1 0 2-.9 2-2V5c0-1.1-.9-2-2-2zM9 17H7v-7h2v7zm4 0h-2V7h2v10zm4 0h-2v-4h2v4z\"/>\n",
              "    </g>\n",
              "</svg>\n",
              "      </button>\n",
              "\n",
              "<style>\n",
              "  .colab-df-quickchart {\n",
              "      --bg-color: #E8F0FE;\n",
              "      --fill-color: #1967D2;\n",
              "      --hover-bg-color: #E2EBFA;\n",
              "      --hover-fill-color: #174EA6;\n",
              "      --disabled-fill-color: #AAA;\n",
              "      --disabled-bg-color: #DDD;\n",
              "  }\n",
              "\n",
              "  [theme=dark] .colab-df-quickchart {\n",
              "      --bg-color: #3B4455;\n",
              "      --fill-color: #D2E3FC;\n",
              "      --hover-bg-color: #434B5C;\n",
              "      --hover-fill-color: #FFFFFF;\n",
              "      --disabled-bg-color: #3B4455;\n",
              "      --disabled-fill-color: #666;\n",
              "  }\n",
              "\n",
              "  .colab-df-quickchart {\n",
              "    background-color: var(--bg-color);\n",
              "    border: none;\n",
              "    border-radius: 50%;\n",
              "    cursor: pointer;\n",
              "    display: none;\n",
              "    fill: var(--fill-color);\n",
              "    height: 32px;\n",
              "    padding: 0;\n",
              "    width: 32px;\n",
              "  }\n",
              "\n",
              "  .colab-df-quickchart:hover {\n",
              "    background-color: var(--hover-bg-color);\n",
              "    box-shadow: 0 1px 2px rgba(60, 64, 67, 0.3), 0 1px 3px 1px rgba(60, 64, 67, 0.15);\n",
              "    fill: var(--button-hover-fill-color);\n",
              "  }\n",
              "\n",
              "  .colab-df-quickchart-complete:disabled,\n",
              "  .colab-df-quickchart-complete:disabled:hover {\n",
              "    background-color: var(--disabled-bg-color);\n",
              "    fill: var(--disabled-fill-color);\n",
              "    box-shadow: none;\n",
              "  }\n",
              "\n",
              "  .colab-df-spinner {\n",
              "    border: 2px solid var(--fill-color);\n",
              "    border-color: transparent;\n",
              "    border-bottom-color: var(--fill-color);\n",
              "    animation:\n",
              "      spin 1s steps(1) infinite;\n",
              "  }\n",
              "\n",
              "  @keyframes spin {\n",
              "    0% {\n",
              "      border-color: transparent;\n",
              "      border-bottom-color: var(--fill-color);\n",
              "      border-left-color: var(--fill-color);\n",
              "    }\n",
              "    20% {\n",
              "      border-color: transparent;\n",
              "      border-left-color: var(--fill-color);\n",
              "      border-top-color: var(--fill-color);\n",
              "    }\n",
              "    30% {\n",
              "      border-color: transparent;\n",
              "      border-left-color: var(--fill-color);\n",
              "      border-top-color: var(--fill-color);\n",
              "      border-right-color: var(--fill-color);\n",
              "    }\n",
              "    40% {\n",
              "      border-color: transparent;\n",
              "      border-right-color: var(--fill-color);\n",
              "      border-top-color: var(--fill-color);\n",
              "    }\n",
              "    60% {\n",
              "      border-color: transparent;\n",
              "      border-right-color: var(--fill-color);\n",
              "    }\n",
              "    80% {\n",
              "      border-color: transparent;\n",
              "      border-right-color: var(--fill-color);\n",
              "      border-bottom-color: var(--fill-color);\n",
              "    }\n",
              "    90% {\n",
              "      border-color: transparent;\n",
              "      border-bottom-color: var(--fill-color);\n",
              "    }\n",
              "  }\n",
              "</style>\n",
              "\n",
              "      <script>\n",
              "        async function quickchart(key) {\n",
              "          const quickchartButtonEl =\n",
              "            document.querySelector('#' + key + ' button');\n",
              "          quickchartButtonEl.disabled = true;  // To prevent multiple clicks.\n",
              "          quickchartButtonEl.classList.add('colab-df-spinner');\n",
              "          try {\n",
              "            const charts = await google.colab.kernel.invokeFunction(\n",
              "                'suggestCharts', [key], {});\n",
              "          } catch (error) {\n",
              "            console.error('Error during call to suggestCharts:', error);\n",
              "          }\n",
              "          quickchartButtonEl.classList.remove('colab-df-spinner');\n",
              "          quickchartButtonEl.classList.add('colab-df-quickchart-complete');\n",
              "        }\n",
              "        (() => {\n",
              "          let quickchartButtonEl =\n",
              "            document.querySelector('#df-45c4d090-759b-45fe-9222-0a9051a8223b button');\n",
              "          quickchartButtonEl.style.display =\n",
              "            google.colab.kernel.accessAllowed ? 'block' : 'none';\n",
              "        })();\n",
              "      </script>\n",
              "    </div>\n",
              "\n",
              "    </div>\n",
              "  </div>\n"
            ],
            "application/vnd.google.colaboratory.intrinsic+json": {
              "type": "dataframe",
              "variable_name": "inp1"
            }
          },
          "metadata": {},
          "execution_count": 58
        }
      ],
      "source": [
        "inp1.head()"
      ]
    },
    {
      "cell_type": "code",
      "execution_count": null,
      "metadata": {
        "id": "I-ZrqB6K9rWh"
      },
      "outputs": [],
      "source": [
        "# Convert the object type columns in \"Dress Sales\" into float type of data type.\n"
      ]
    },
    {
      "cell_type": "code",
      "execution_count": null,
      "metadata": {
        "colab": {
          "base_uri": "https://localhost:8080/"
        },
        "id": "PMsEjOw-9rWh",
        "outputId": "9ed79554-358a-432e-82d9-18f225be1e35"
      },
      "outputs": [
        {
          "output_type": "stream",
          "name": "stdout",
          "text": [
            "<class 'pandas.core.frame.DataFrame'>\n",
            "RangeIndex: 479 entries, 0 to 478\n",
            "Data columns (total 24 columns):\n",
            " #   Column      Non-Null Count  Dtype  \n",
            "---  ------      --------------  -----  \n",
            " 0   Dress_ID    479 non-null    float64\n",
            " 1   29-08-2013  479 non-null    float64\n",
            " 2   31-08-2013  479 non-null    float64\n",
            " 3   09-02-2013  479 non-null    float64\n",
            " 4   09-04-2013  479 non-null    float64\n",
            " 5   09-06-2013  479 non-null    float64\n",
            " 6   09-08-2013  479 non-null    float64\n",
            " 7   09-10-2013  479 non-null    float64\n",
            " 8   09-12-2013  478 non-null    float64\n",
            " 9   14-09-2013  478 non-null    float64\n",
            " 10  16-09-2013  478 non-null    float64\n",
            " 11  18-09-2013  478 non-null    float64\n",
            " 12  20-09-2013  478 non-null    float64\n",
            " 13  22-09-2013  478 non-null    float64\n",
            " 14  24-09-2013  479 non-null    float64\n",
            " 15  26-09-2013  257 non-null    float64\n",
            " 16  28-09-2013  479 non-null    float64\n",
            " 17  30-09-2013  222 non-null    float64\n",
            " 18  10-02-2013  220 non-null    float64\n",
            " 19  10-04-2013  221 non-null    float64\n",
            " 20  10-06-2013  479 non-null    float64\n",
            " 21  10-08-2013  224 non-null    float64\n",
            " 22  10-10-2013  224 non-null    float64\n",
            " 23  10-12-2013  479 non-null    float64\n",
            "dtypes: float64(24)\n",
            "memory usage: 89.9 KB\n",
            "None\n"
          ]
        }
      ],
      "source": [
        "import pandas as pd\n",
        "\n",
        "# Assuming your DataFrame is named 'inp1' and\n",
        "# the string values have been replaced with NaN as in the previous step\n",
        "\n",
        "# Select the columns to convert (all columns except 'Dress_ID')\n",
        "columns_to_convert = inp1.columns[1:]\n",
        "\n",
        "# Convert the columns to float type\n",
        "for column in columns_to_convert:\n",
        "    inp1[column] = inp1[column].astype(float)\n",
        "\n",
        "# Print the updated DataFrame's info to confirm the data types (optional)\n",
        "print(inp1.info())"
      ]
    },
    {
      "cell_type": "markdown",
      "metadata": {
        "id": "msN2y6h19rWh"
      },
      "source": [
        "When you see the null counts in “Dress Sales” dataset after performing all the operations that have been mentioned in jupyter notebook, you will find that there are some columns in “Dress Sales” data where there are more than 40% of missing values. Based on your understanding of dealing with missing values do the following steps."
      ]
    },
    {
      "cell_type": "code",
      "execution_count": null,
      "metadata": {
        "id": "nD570eB69rWi"
      },
      "outputs": [],
      "source": [
        "# Print the null percetange of each column of inp1.\n"
      ]
    },
    {
      "cell_type": "code",
      "execution_count": null,
      "metadata": {
        "colab": {
          "base_uri": "https://localhost:8080/"
        },
        "id": "UhR6qNIQ9rWi",
        "outputId": "4d5ccb6c-5c81-48f8-acb5-0c977f4d19c3"
      },
      "outputs": [
        {
          "output_type": "stream",
          "name": "stdout",
          "text": [
            "Dress_ID       0.000000\n",
            "29-08-2013     0.000000\n",
            "31-08-2013     0.000000\n",
            "09-02-2013     0.000000\n",
            "09-04-2013     0.000000\n",
            "09-06-2013     0.000000\n",
            "09-08-2013     0.000000\n",
            "09-10-2013     0.000000\n",
            "09-12-2013     0.208768\n",
            "14-09-2013     0.208768\n",
            "16-09-2013     0.208768\n",
            "18-09-2013     0.208768\n",
            "20-09-2013     0.208768\n",
            "22-09-2013     0.208768\n",
            "24-09-2013     0.000000\n",
            "26-09-2013    46.346555\n",
            "28-09-2013     0.000000\n",
            "30-09-2013    53.653445\n",
            "10-02-2013    54.070981\n",
            "10-04-2013    53.862213\n",
            "10-06-2013     0.000000\n",
            "10-08-2013    53.235908\n",
            "10-10-2013    53.235908\n",
            "10-12-2013     0.000000\n",
            "dtype: float64\n"
          ]
        }
      ],
      "source": [
        "import pandas as pd\n",
        "\n",
        "# Assuming your DataFrame is named 'inp1'\n",
        "\n",
        "# Calculate the null percentage for each column\n",
        "null_percentages = inp1.isnull().sum() * 100 / len(inp1)\n",
        "\n",
        "# Print the null percentages\n",
        "print(null_percentages)"
      ]
    },
    {
      "cell_type": "code",
      "execution_count": null,
      "metadata": {
        "id": "F3BS41ie9rWi"
      },
      "outputs": [],
      "source": [
        "# Drop the columns in \"Dress Sales\" which have more than 40% of missing values.\n"
      ]
    },
    {
      "cell_type": "code",
      "execution_count": null,
      "metadata": {
        "id": "lWdHkD-B9rWi"
      },
      "outputs": [],
      "source": [
        "import pandas as pd\n",
        "\n",
        "# Assuming your DataFrame is named 'inp1'\n",
        "\n",
        "# Calculate the null percentage for each column\n",
        "null_percentages = inp1.isnull().sum() * 100 / len(inp1)\n",
        "\n",
        "# Get the columns with more than 40% missing values\n",
        "columns_to_drop = null_percentages[null_percentages > 40].index\n",
        "\n",
        "# Drop the columns\n",
        "inp1 = inp1.drop(columns=columns_to_drop)\n",
        "\n",
        "# Print the updated DataFrame (optional)\n",
        "# print(inp1)"
      ]
    },
    {
      "cell_type": "code",
      "execution_count": null,
      "metadata": {
        "colab": {
          "base_uri": "https://localhost:8080/",
          "height": 261
        },
        "id": "orGaispx9rWi",
        "outputId": "dbde5af3-8c61-4c8f-a061-95cc9ef464d9"
      },
      "outputs": [
        {
          "output_type": "execute_result",
          "data": {
            "text/plain": [
              "       Dress_ID  29-08-2013  31-08-2013  09-02-2013  09-04-2013  09-06-2013  \\\n",
              "0  1.006033e+09      2114.0      2274.0      2491.0      2660.0      2727.0   \n",
              "1  1.212192e+09       151.0       275.0       570.0       750.0       813.0   \n",
              "2  1.190381e+09         6.0         7.0         7.0         7.0         8.0   \n",
              "3  9.660060e+08      1005.0      1128.0      1326.0      1455.0      1507.0   \n",
              "4  8.763395e+08       996.0      1175.0      1304.0      1396.0      1432.0   \n",
              "\n",
              "   09-08-2013  09-10-2013  09-12-2013  14-09-2013  16-09-2013  18-09-2013  \\\n",
              "0      2887.0      2930.0      3119.0      3204.0      3277.0      3321.0   \n",
              "1      1066.0      1164.0      1558.0      1756.0      1878.0      1985.0   \n",
              "2         8.0         9.0        10.0        10.0        10.0        10.0   \n",
              "3      1621.0      1637.0      1723.0      1746.0      1783.0      1796.0   \n",
              "4      1559.0      1570.0      1638.0      1655.0      1681.0      1743.0   \n",
              "\n",
              "   20-09-2013  22-09-2013  24-09-2013  28-09-2013  10-06-2013  10-12-2013  \n",
              "0      3386.0      3479.0      3554.0      3706.0      3897.0      4048.0  \n",
              "1      2106.0      2454.0      2710.0      3258.0      3911.0      4277.0  \n",
              "2        10.0        11.0        11.0        11.0        11.0        11.0  \n",
              "3      1812.0      1845.0      1878.0      1914.0      1952.0      1963.0  \n",
              "4      1824.0      1919.0      2032.0      2252.0      2544.0      2736.0  "
            ],
            "text/html": [
              "\n",
              "  <div id=\"df-eb296f96-04ee-40ef-849a-5ddf896dc5b1\" class=\"colab-df-container\">\n",
              "    <div>\n",
              "<style scoped>\n",
              "    .dataframe tbody tr th:only-of-type {\n",
              "        vertical-align: middle;\n",
              "    }\n",
              "\n",
              "    .dataframe tbody tr th {\n",
              "        vertical-align: top;\n",
              "    }\n",
              "\n",
              "    .dataframe thead th {\n",
              "        text-align: right;\n",
              "    }\n",
              "</style>\n",
              "<table border=\"1\" class=\"dataframe\">\n",
              "  <thead>\n",
              "    <tr style=\"text-align: right;\">\n",
              "      <th></th>\n",
              "      <th>Dress_ID</th>\n",
              "      <th>29-08-2013</th>\n",
              "      <th>31-08-2013</th>\n",
              "      <th>09-02-2013</th>\n",
              "      <th>09-04-2013</th>\n",
              "      <th>09-06-2013</th>\n",
              "      <th>09-08-2013</th>\n",
              "      <th>09-10-2013</th>\n",
              "      <th>09-12-2013</th>\n",
              "      <th>14-09-2013</th>\n",
              "      <th>16-09-2013</th>\n",
              "      <th>18-09-2013</th>\n",
              "      <th>20-09-2013</th>\n",
              "      <th>22-09-2013</th>\n",
              "      <th>24-09-2013</th>\n",
              "      <th>28-09-2013</th>\n",
              "      <th>10-06-2013</th>\n",
              "      <th>10-12-2013</th>\n",
              "    </tr>\n",
              "  </thead>\n",
              "  <tbody>\n",
              "    <tr>\n",
              "      <th>0</th>\n",
              "      <td>1.006033e+09</td>\n",
              "      <td>2114.0</td>\n",
              "      <td>2274.0</td>\n",
              "      <td>2491.0</td>\n",
              "      <td>2660.0</td>\n",
              "      <td>2727.0</td>\n",
              "      <td>2887.0</td>\n",
              "      <td>2930.0</td>\n",
              "      <td>3119.0</td>\n",
              "      <td>3204.0</td>\n",
              "      <td>3277.0</td>\n",
              "      <td>3321.0</td>\n",
              "      <td>3386.0</td>\n",
              "      <td>3479.0</td>\n",
              "      <td>3554.0</td>\n",
              "      <td>3706.0</td>\n",
              "      <td>3897.0</td>\n",
              "      <td>4048.0</td>\n",
              "    </tr>\n",
              "    <tr>\n",
              "      <th>1</th>\n",
              "      <td>1.212192e+09</td>\n",
              "      <td>151.0</td>\n",
              "      <td>275.0</td>\n",
              "      <td>570.0</td>\n",
              "      <td>750.0</td>\n",
              "      <td>813.0</td>\n",
              "      <td>1066.0</td>\n",
              "      <td>1164.0</td>\n",
              "      <td>1558.0</td>\n",
              "      <td>1756.0</td>\n",
              "      <td>1878.0</td>\n",
              "      <td>1985.0</td>\n",
              "      <td>2106.0</td>\n",
              "      <td>2454.0</td>\n",
              "      <td>2710.0</td>\n",
              "      <td>3258.0</td>\n",
              "      <td>3911.0</td>\n",
              "      <td>4277.0</td>\n",
              "    </tr>\n",
              "    <tr>\n",
              "      <th>2</th>\n",
              "      <td>1.190381e+09</td>\n",
              "      <td>6.0</td>\n",
              "      <td>7.0</td>\n",
              "      <td>7.0</td>\n",
              "      <td>7.0</td>\n",
              "      <td>8.0</td>\n",
              "      <td>8.0</td>\n",
              "      <td>9.0</td>\n",
              "      <td>10.0</td>\n",
              "      <td>10.0</td>\n",
              "      <td>10.0</td>\n",
              "      <td>10.0</td>\n",
              "      <td>10.0</td>\n",
              "      <td>11.0</td>\n",
              "      <td>11.0</td>\n",
              "      <td>11.0</td>\n",
              "      <td>11.0</td>\n",
              "      <td>11.0</td>\n",
              "    </tr>\n",
              "    <tr>\n",
              "      <th>3</th>\n",
              "      <td>9.660060e+08</td>\n",
              "      <td>1005.0</td>\n",
              "      <td>1128.0</td>\n",
              "      <td>1326.0</td>\n",
              "      <td>1455.0</td>\n",
              "      <td>1507.0</td>\n",
              "      <td>1621.0</td>\n",
              "      <td>1637.0</td>\n",
              "      <td>1723.0</td>\n",
              "      <td>1746.0</td>\n",
              "      <td>1783.0</td>\n",
              "      <td>1796.0</td>\n",
              "      <td>1812.0</td>\n",
              "      <td>1845.0</td>\n",
              "      <td>1878.0</td>\n",
              "      <td>1914.0</td>\n",
              "      <td>1952.0</td>\n",
              "      <td>1963.0</td>\n",
              "    </tr>\n",
              "    <tr>\n",
              "      <th>4</th>\n",
              "      <td>8.763395e+08</td>\n",
              "      <td>996.0</td>\n",
              "      <td>1175.0</td>\n",
              "      <td>1304.0</td>\n",
              "      <td>1396.0</td>\n",
              "      <td>1432.0</td>\n",
              "      <td>1559.0</td>\n",
              "      <td>1570.0</td>\n",
              "      <td>1638.0</td>\n",
              "      <td>1655.0</td>\n",
              "      <td>1681.0</td>\n",
              "      <td>1743.0</td>\n",
              "      <td>1824.0</td>\n",
              "      <td>1919.0</td>\n",
              "      <td>2032.0</td>\n",
              "      <td>2252.0</td>\n",
              "      <td>2544.0</td>\n",
              "      <td>2736.0</td>\n",
              "    </tr>\n",
              "  </tbody>\n",
              "</table>\n",
              "</div>\n",
              "    <div class=\"colab-df-buttons\">\n",
              "\n",
              "  <div class=\"colab-df-container\">\n",
              "    <button class=\"colab-df-convert\" onclick=\"convertToInteractive('df-eb296f96-04ee-40ef-849a-5ddf896dc5b1')\"\n",
              "            title=\"Convert this dataframe to an interactive table.\"\n",
              "            style=\"display:none;\">\n",
              "\n",
              "  <svg xmlns=\"http://www.w3.org/2000/svg\" height=\"24px\" viewBox=\"0 -960 960 960\">\n",
              "    <path d=\"M120-120v-720h720v720H120Zm60-500h600v-160H180v160Zm220 220h160v-160H400v160Zm0 220h160v-160H400v160ZM180-400h160v-160H180v160Zm440 0h160v-160H620v160ZM180-180h160v-160H180v160Zm440 0h160v-160H620v160Z\"/>\n",
              "  </svg>\n",
              "    </button>\n",
              "\n",
              "  <style>\n",
              "    .colab-df-container {\n",
              "      display:flex;\n",
              "      gap: 12px;\n",
              "    }\n",
              "\n",
              "    .colab-df-convert {\n",
              "      background-color: #E8F0FE;\n",
              "      border: none;\n",
              "      border-radius: 50%;\n",
              "      cursor: pointer;\n",
              "      display: none;\n",
              "      fill: #1967D2;\n",
              "      height: 32px;\n",
              "      padding: 0 0 0 0;\n",
              "      width: 32px;\n",
              "    }\n",
              "\n",
              "    .colab-df-convert:hover {\n",
              "      background-color: #E2EBFA;\n",
              "      box-shadow: 0px 1px 2px rgba(60, 64, 67, 0.3), 0px 1px 3px 1px rgba(60, 64, 67, 0.15);\n",
              "      fill: #174EA6;\n",
              "    }\n",
              "\n",
              "    .colab-df-buttons div {\n",
              "      margin-bottom: 4px;\n",
              "    }\n",
              "\n",
              "    [theme=dark] .colab-df-convert {\n",
              "      background-color: #3B4455;\n",
              "      fill: #D2E3FC;\n",
              "    }\n",
              "\n",
              "    [theme=dark] .colab-df-convert:hover {\n",
              "      background-color: #434B5C;\n",
              "      box-shadow: 0px 1px 3px 1px rgba(0, 0, 0, 0.15);\n",
              "      filter: drop-shadow(0px 1px 2px rgba(0, 0, 0, 0.3));\n",
              "      fill: #FFFFFF;\n",
              "    }\n",
              "  </style>\n",
              "\n",
              "    <script>\n",
              "      const buttonEl =\n",
              "        document.querySelector('#df-eb296f96-04ee-40ef-849a-5ddf896dc5b1 button.colab-df-convert');\n",
              "      buttonEl.style.display =\n",
              "        google.colab.kernel.accessAllowed ? 'block' : 'none';\n",
              "\n",
              "      async function convertToInteractive(key) {\n",
              "        const element = document.querySelector('#df-eb296f96-04ee-40ef-849a-5ddf896dc5b1');\n",
              "        const dataTable =\n",
              "          await google.colab.kernel.invokeFunction('convertToInteractive',\n",
              "                                                    [key], {});\n",
              "        if (!dataTable) return;\n",
              "\n",
              "        const docLinkHtml = 'Like what you see? Visit the ' +\n",
              "          '<a target=\"_blank\" href=https://colab.research.google.com/notebooks/data_table.ipynb>data table notebook</a>'\n",
              "          + ' to learn more about interactive tables.';\n",
              "        element.innerHTML = '';\n",
              "        dataTable['output_type'] = 'display_data';\n",
              "        await google.colab.output.renderOutput(dataTable, element);\n",
              "        const docLink = document.createElement('div');\n",
              "        docLink.innerHTML = docLinkHtml;\n",
              "        element.appendChild(docLink);\n",
              "      }\n",
              "    </script>\n",
              "  </div>\n",
              "\n",
              "\n",
              "    <div id=\"df-1518e8d1-cdc3-4b30-8496-5216191149fd\">\n",
              "      <button class=\"colab-df-quickchart\" onclick=\"quickchart('df-1518e8d1-cdc3-4b30-8496-5216191149fd')\"\n",
              "                title=\"Suggest charts\"\n",
              "                style=\"display:none;\">\n",
              "\n",
              "<svg xmlns=\"http://www.w3.org/2000/svg\" height=\"24px\"viewBox=\"0 0 24 24\"\n",
              "     width=\"24px\">\n",
              "    <g>\n",
              "        <path d=\"M19 3H5c-1.1 0-2 .9-2 2v14c0 1.1.9 2 2 2h14c1.1 0 2-.9 2-2V5c0-1.1-.9-2-2-2zM9 17H7v-7h2v7zm4 0h-2V7h2v10zm4 0h-2v-4h2v4z\"/>\n",
              "    </g>\n",
              "</svg>\n",
              "      </button>\n",
              "\n",
              "<style>\n",
              "  .colab-df-quickchart {\n",
              "      --bg-color: #E8F0FE;\n",
              "      --fill-color: #1967D2;\n",
              "      --hover-bg-color: #E2EBFA;\n",
              "      --hover-fill-color: #174EA6;\n",
              "      --disabled-fill-color: #AAA;\n",
              "      --disabled-bg-color: #DDD;\n",
              "  }\n",
              "\n",
              "  [theme=dark] .colab-df-quickchart {\n",
              "      --bg-color: #3B4455;\n",
              "      --fill-color: #D2E3FC;\n",
              "      --hover-bg-color: #434B5C;\n",
              "      --hover-fill-color: #FFFFFF;\n",
              "      --disabled-bg-color: #3B4455;\n",
              "      --disabled-fill-color: #666;\n",
              "  }\n",
              "\n",
              "  .colab-df-quickchart {\n",
              "    background-color: var(--bg-color);\n",
              "    border: none;\n",
              "    border-radius: 50%;\n",
              "    cursor: pointer;\n",
              "    display: none;\n",
              "    fill: var(--fill-color);\n",
              "    height: 32px;\n",
              "    padding: 0;\n",
              "    width: 32px;\n",
              "  }\n",
              "\n",
              "  .colab-df-quickchart:hover {\n",
              "    background-color: var(--hover-bg-color);\n",
              "    box-shadow: 0 1px 2px rgba(60, 64, 67, 0.3), 0 1px 3px 1px rgba(60, 64, 67, 0.15);\n",
              "    fill: var(--button-hover-fill-color);\n",
              "  }\n",
              "\n",
              "  .colab-df-quickchart-complete:disabled,\n",
              "  .colab-df-quickchart-complete:disabled:hover {\n",
              "    background-color: var(--disabled-bg-color);\n",
              "    fill: var(--disabled-fill-color);\n",
              "    box-shadow: none;\n",
              "  }\n",
              "\n",
              "  .colab-df-spinner {\n",
              "    border: 2px solid var(--fill-color);\n",
              "    border-color: transparent;\n",
              "    border-bottom-color: var(--fill-color);\n",
              "    animation:\n",
              "      spin 1s steps(1) infinite;\n",
              "  }\n",
              "\n",
              "  @keyframes spin {\n",
              "    0% {\n",
              "      border-color: transparent;\n",
              "      border-bottom-color: var(--fill-color);\n",
              "      border-left-color: var(--fill-color);\n",
              "    }\n",
              "    20% {\n",
              "      border-color: transparent;\n",
              "      border-left-color: var(--fill-color);\n",
              "      border-top-color: var(--fill-color);\n",
              "    }\n",
              "    30% {\n",
              "      border-color: transparent;\n",
              "      border-left-color: var(--fill-color);\n",
              "      border-top-color: var(--fill-color);\n",
              "      border-right-color: var(--fill-color);\n",
              "    }\n",
              "    40% {\n",
              "      border-color: transparent;\n",
              "      border-right-color: var(--fill-color);\n",
              "      border-top-color: var(--fill-color);\n",
              "    }\n",
              "    60% {\n",
              "      border-color: transparent;\n",
              "      border-right-color: var(--fill-color);\n",
              "    }\n",
              "    80% {\n",
              "      border-color: transparent;\n",
              "      border-right-color: var(--fill-color);\n",
              "      border-bottom-color: var(--fill-color);\n",
              "    }\n",
              "    90% {\n",
              "      border-color: transparent;\n",
              "      border-bottom-color: var(--fill-color);\n",
              "    }\n",
              "  }\n",
              "</style>\n",
              "\n",
              "      <script>\n",
              "        async function quickchart(key) {\n",
              "          const quickchartButtonEl =\n",
              "            document.querySelector('#' + key + ' button');\n",
              "          quickchartButtonEl.disabled = true;  // To prevent multiple clicks.\n",
              "          quickchartButtonEl.classList.add('colab-df-spinner');\n",
              "          try {\n",
              "            const charts = await google.colab.kernel.invokeFunction(\n",
              "                'suggestCharts', [key], {});\n",
              "          } catch (error) {\n",
              "            console.error('Error during call to suggestCharts:', error);\n",
              "          }\n",
              "          quickchartButtonEl.classList.remove('colab-df-spinner');\n",
              "          quickchartButtonEl.classList.add('colab-df-quickchart-complete');\n",
              "        }\n",
              "        (() => {\n",
              "          let quickchartButtonEl =\n",
              "            document.querySelector('#df-1518e8d1-cdc3-4b30-8496-5216191149fd button');\n",
              "          quickchartButtonEl.style.display =\n",
              "            google.colab.kernel.accessAllowed ? 'block' : 'none';\n",
              "        })();\n",
              "      </script>\n",
              "    </div>\n",
              "\n",
              "    </div>\n",
              "  </div>\n"
            ],
            "application/vnd.google.colaboratory.intrinsic+json": {
              "type": "dataframe",
              "variable_name": "inp1",
              "summary": "{\n  \"name\": \"inp1\",\n  \"rows\": 479,\n  \"fields\": [\n    {\n      \"column\": \"Dress_ID\",\n      \"properties\": {\n        \"dtype\": \"number\",\n        \"std\": 182235169.44812056,\n        \"min\": 123456789.0,\n        \"max\": 1253973206.0,\n        \"num_unique_values\": 479,\n        \"samples\": [\n          876708804.0,\n          856139963.0,\n          1153442065.0\n        ],\n        \"semantic_type\": \"\",\n        \"description\": \"\"\n      }\n    },\n    {\n      \"column\": \"29-08-2013\",\n      \"properties\": {\n        \"dtype\": \"number\",\n        \"std\": 579.1893221571372,\n        \"min\": 0.0,\n        \"max\": 7455.0,\n        \"num_unique_values\": 171,\n        \"samples\": [\n          202.0,\n          238.0,\n          24.0\n        ],\n        \"semantic_type\": \"\",\n        \"description\": \"\"\n      }\n    },\n    {\n      \"column\": \"31-08-2013\",\n      \"properties\": {\n        \"dtype\": \"number\",\n        \"std\": 590.8361656857668,\n        \"min\": 0.0,\n        \"max\": 7467.0,\n        \"num_unique_values\": 184,\n        \"samples\": [\n          967.0,\n          142.0,\n          343.0\n        ],\n        \"semantic_type\": \"\",\n        \"description\": \"\"\n      }\n    },\n    {\n      \"column\": \"09-02-2013\",\n      \"properties\": {\n        \"dtype\": \"number\",\n        \"std\": 603.098222078807,\n        \"min\": 0.0,\n        \"max\": 7479.0,\n        \"num_unique_values\": 191,\n        \"samples\": [\n          39.0,\n          190.0,\n          51.0\n        ],\n        \"semantic_type\": \"\",\n        \"description\": \"\"\n      }\n    },\n    {\n      \"column\": \"09-04-2013\",\n      \"properties\": {\n        \"dtype\": \"number\",\n        \"std\": 601.7165145282377,\n        \"min\": 1.0,\n        \"max\": 7374.0,\n        \"num_unique_values\": 292,\n        \"samples\": [\n          14.0,\n          107.0,\n          5484.0\n        ],\n        \"semantic_type\": \"\",\n        \"description\": \"\"\n      }\n    },\n    {\n      \"column\": \"09-06-2013\",\n      \"properties\": {\n        \"dtype\": \"number\",\n        \"std\": 603.8542574846047,\n        \"min\": 1.0,\n        \"max\": 7351.0,\n        \"num_unique_values\": 291,\n        \"samples\": [\n          199.0,\n          208.0,\n          23.0\n        ],\n        \"semantic_type\": \"\",\n        \"description\": \"\"\n      }\n    },\n    {\n      \"column\": \"09-08-2013\",\n      \"properties\": {\n        \"dtype\": \"number\",\n        \"std\": 609.0705367935782,\n        \"min\": 1.0,\n        \"max\": 7255.0,\n        \"num_unique_values\": 288,\n        \"samples\": [\n          5514.0,\n          1822.0,\n          696.0\n        ],\n        \"semantic_type\": \"\",\n        \"description\": \"\"\n      }\n    },\n    {\n      \"column\": \"09-10-2013\",\n      \"properties\": {\n        \"dtype\": \"number\",\n        \"std\": 610.3606814706473,\n        \"min\": 1.0,\n        \"max\": 7240.0,\n        \"num_unique_values\": 307,\n        \"samples\": [\n          222.0,\n          257.0,\n          31.0\n        ],\n        \"semantic_type\": \"\",\n        \"description\": \"\"\n      }\n    },\n    {\n      \"column\": \"09-12-2013\",\n      \"properties\": {\n        \"dtype\": \"number\",\n        \"std\": 618.2766972710467,\n        \"min\": 0.0,\n        \"max\": 7156.0,\n        \"num_unique_values\": 310,\n        \"samples\": [\n          51.0,\n          13.0,\n          359.0\n        ],\n        \"semantic_type\": \"\",\n        \"description\": \"\"\n      }\n    },\n    {\n      \"column\": \"14-09-2013\",\n      \"properties\": {\n        \"dtype\": \"number\",\n        \"std\": 623.3298611240149,\n        \"min\": 0.0,\n        \"max\": 7124.0,\n        \"num_unique_values\": 311,\n        \"samples\": [\n          82.0,\n          13.0,\n          8.0\n        ],\n        \"semantic_type\": \"\",\n        \"description\": \"\"\n      }\n    },\n    {\n      \"column\": \"16-09-2013\",\n      \"properties\": {\n        \"dtype\": \"number\",\n        \"std\": 626.2037828620671,\n        \"min\": 0.0,\n        \"max\": 7115.0,\n        \"num_unique_values\": 304,\n        \"samples\": [\n          168.0,\n          50.0,\n          261.0\n        ],\n        \"semantic_type\": \"\",\n        \"description\": \"\"\n      }\n    },\n    {\n      \"column\": \"18-09-2013\",\n      \"properties\": {\n        \"dtype\": \"number\",\n        \"std\": 627.2509631717525,\n        \"min\": 0.0,\n        \"max\": 7015.0,\n        \"num_unique_values\": 303,\n        \"samples\": [\n          774.0,\n          1251.0,\n          699.0\n        ],\n        \"semantic_type\": \"\",\n        \"description\": \"\"\n      }\n    },\n    {\n      \"column\": \"20-09-2013\",\n      \"properties\": {\n        \"dtype\": \"number\",\n        \"std\": 631.5119645240161,\n        \"min\": 0.0,\n        \"max\": 6992.0,\n        \"num_unique_values\": 311,\n        \"samples\": [\n          298.0,\n          14.0,\n          412.0\n        ],\n        \"semantic_type\": \"\",\n        \"description\": \"\"\n      }\n    },\n    {\n      \"column\": \"22-09-2013\",\n      \"properties\": {\n        \"dtype\": \"number\",\n        \"std\": 638.6961427819078,\n        \"min\": 0.0,\n        \"max\": 6926.0,\n        \"num_unique_values\": 329,\n        \"samples\": [\n          14.0,\n          608.0,\n          1896.0\n        ],\n        \"semantic_type\": \"\",\n        \"description\": \"\"\n      }\n    },\n    {\n      \"column\": \"24-09-2013\",\n      \"properties\": {\n        \"dtype\": \"number\",\n        \"std\": 631.6749952896515,\n        \"min\": 0.0,\n        \"max\": 6644.0,\n        \"num_unique_values\": 325,\n        \"samples\": [\n          42.0,\n          1294.0,\n          71.0\n        ],\n        \"semantic_type\": \"\",\n        \"description\": \"\"\n      }\n    },\n    {\n      \"column\": \"28-09-2013\",\n      \"properties\": {\n        \"dtype\": \"number\",\n        \"std\": 646.9897268841963,\n        \"min\": 0.0,\n        \"max\": 6476.0,\n        \"num_unique_values\": 319,\n        \"samples\": [\n          92.0,\n          480.0,\n          2580.0\n        ],\n        \"semantic_type\": \"\",\n        \"description\": \"\"\n      }\n    },\n    {\n      \"column\": \"10-06-2013\",\n      \"properties\": {\n        \"dtype\": \"number\",\n        \"std\": 666.8274408284013,\n        \"min\": 0.0,\n        \"max\": 6049.0,\n        \"num_unique_values\": 336,\n        \"samples\": [\n          74.0,\n          637.0,\n          30.0\n        ],\n        \"semantic_type\": \"\",\n        \"description\": \"\"\n      }\n    },\n    {\n      \"column\": \"10-12-2013\",\n      \"properties\": {\n        \"dtype\": \"number\",\n        \"std\": 684.1465928082079,\n        \"min\": 0.0,\n        \"max\": 5753.0,\n        \"num_unique_values\": 333,\n        \"samples\": [\n          29.0,\n          598.0,\n          1793.0\n        ],\n        \"semantic_type\": \"\",\n        \"description\": \"\"\n      }\n    }\n  ]\n}"
            }
          },
          "metadata": {},
          "execution_count": 65
        }
      ],
      "source": [
        "inp1.head()"
      ]
    },
    {
      "cell_type": "markdown",
      "metadata": {
        "id": "LqhDEup89rWi"
      },
      "source": [
        "You should categorise the dates into seasons in “Dress Sales” data to simplify the analysis according to the following criteria:\n",
        "- June, July and August: Summer.\n",
        "- September, October and November: Autumn.\n",
        "- December, January and February: WInter.\n",
        "- March, April and May: Spring.\n",
        "\n",
        "\n"
      ]
    },
    {
      "cell_type": "code",
      "execution_count": null,
      "metadata": {
        "id": "iokhx0iI9rWi"
      },
      "outputs": [],
      "source": [
        "# Create the four seasons columns in inp1, according to the above criteria.\n"
      ]
    },
    {
      "cell_type": "code",
      "execution_count": null,
      "metadata": {
        "id": "PnJgZFze9rWi"
      },
      "outputs": [],
      "source": [
        "import pandas as pd\n",
        "\n",
        "# Assuming your DataFrame is named 'inp1' and has date columns\n",
        "# like '29-08-2013', '31-08-2013', etc.\n",
        "\n",
        "# Get the date columns (excluding 'Dress_ID')\n",
        "date_columns = inp1.columns[1:]\n",
        "\n",
        "# Create new columns for seasons and initialize with 0\n",
        "for season in ['Summer', 'Autumn', 'Winter', 'Spring']:\n",
        "    inp1[season] = 0\n",
        "\n",
        "# Categorize dates into seasons and sum sales\n",
        "for date_column in date_columns:\n",
        "    # Extract month from the column name (assuming DD-MM-YYYY format)\n",
        "    month = int(date_column[3:5])\n",
        "\n",
        "    # Convert the column to numeric, handling errors\n",
        "    inp1[date_column] = pd.to_numeric(inp1[date_column], errors='coerce')\n",
        "\n",
        "    # Add sales to the corresponding season's column\n",
        "    if month in [6, 7, 8]:\n",
        "        inp1['Summer'] += inp1[date_column]\n",
        "    elif month in [9, 10, 11]:\n",
        "        inp1['Autumn'] += inp1[date_column]\n",
        "    elif month in [12, 1, 2]:\n",
        "        inp1['Winter'] += inp1[date_column]\n",
        "    elif month in [3, 4, 5]:\n",
        "        inp1['Spring'] += inp1[date_column]\n",
        "\n",
        "# You can now drop the original date columns if needed:\n",
        "# inp1 = inp1.drop(columns=date_columns)\n",
        "\n",
        "# Print the updated DataFrame (optional)\n",
        "# print(inp1)"
      ]
    },
    {
      "cell_type": "code",
      "execution_count": null,
      "metadata": {
        "colab": {
          "base_uri": "https://localhost:8080/",
          "height": 290
        },
        "id": "uMI36mNV9rWi",
        "outputId": "2c26b778-7e34-47de-cb32-353ddff1fe8d"
      },
      "outputs": [
        {
          "output_type": "execute_result",
          "data": {
            "text/plain": [
              "       Dress_ID  29-08-2013  31-08-2013  09-02-2013  09-04-2013  09-06-2013  \\\n",
              "0  1.006033e+09      2114.0      2274.0      2491.0      2660.0      2727.0   \n",
              "1  1.212192e+09       151.0       275.0       570.0       750.0       813.0   \n",
              "2  1.190381e+09         6.0         7.0         7.0         7.0         8.0   \n",
              "3  9.660060e+08      1005.0      1128.0      1326.0      1455.0      1507.0   \n",
              "4  8.763395e+08       996.0      1175.0      1304.0      1396.0      1432.0   \n",
              "\n",
              "   09-08-2013  09-10-2013  09-12-2013  14-09-2013  ...  20-09-2013  \\\n",
              "0      2887.0      2930.0      3119.0      3204.0  ...      3386.0   \n",
              "1      1066.0      1164.0      1558.0      1756.0  ...      2106.0   \n",
              "2         8.0         9.0        10.0        10.0  ...        10.0   \n",
              "3      1621.0      1637.0      1723.0      1746.0  ...      1812.0   \n",
              "4      1559.0      1570.0      1638.0      1655.0  ...      1824.0   \n",
              "\n",
              "   22-09-2013  24-09-2013  28-09-2013  10-06-2013  10-12-2013   Summer  \\\n",
              "0      3479.0      3554.0      3706.0      3897.0      4048.0  13899.0   \n",
              "1      2454.0      2710.0      3258.0      3911.0      4277.0   6216.0   \n",
              "2        11.0        11.0        11.0        11.0        11.0     40.0   \n",
              "3      1845.0      1878.0      1914.0      1952.0      1963.0   7213.0   \n",
              "4      1919.0      2032.0      2252.0      2544.0      2736.0   7706.0   \n",
              "\n",
              "    Autumn  Winter  Spring  \n",
              "0  26857.0  9658.0  2660.0  \n",
              "1  17311.0  6405.0   750.0  \n",
              "2     82.0    28.0     7.0  \n",
              "3  14411.0  5012.0  1455.0  \n",
              "4  14676.0  5678.0  1396.0  \n",
              "\n",
              "[5 rows x 22 columns]"
            ],
            "text/html": [
              "\n",
              "  <div id=\"df-1d329009-9762-4586-872f-223ae246a0c8\" class=\"colab-df-container\">\n",
              "    <div>\n",
              "<style scoped>\n",
              "    .dataframe tbody tr th:only-of-type {\n",
              "        vertical-align: middle;\n",
              "    }\n",
              "\n",
              "    .dataframe tbody tr th {\n",
              "        vertical-align: top;\n",
              "    }\n",
              "\n",
              "    .dataframe thead th {\n",
              "        text-align: right;\n",
              "    }\n",
              "</style>\n",
              "<table border=\"1\" class=\"dataframe\">\n",
              "  <thead>\n",
              "    <tr style=\"text-align: right;\">\n",
              "      <th></th>\n",
              "      <th>Dress_ID</th>\n",
              "      <th>29-08-2013</th>\n",
              "      <th>31-08-2013</th>\n",
              "      <th>09-02-2013</th>\n",
              "      <th>09-04-2013</th>\n",
              "      <th>09-06-2013</th>\n",
              "      <th>09-08-2013</th>\n",
              "      <th>09-10-2013</th>\n",
              "      <th>09-12-2013</th>\n",
              "      <th>14-09-2013</th>\n",
              "      <th>...</th>\n",
              "      <th>20-09-2013</th>\n",
              "      <th>22-09-2013</th>\n",
              "      <th>24-09-2013</th>\n",
              "      <th>28-09-2013</th>\n",
              "      <th>10-06-2013</th>\n",
              "      <th>10-12-2013</th>\n",
              "      <th>Summer</th>\n",
              "      <th>Autumn</th>\n",
              "      <th>Winter</th>\n",
              "      <th>Spring</th>\n",
              "    </tr>\n",
              "  </thead>\n",
              "  <tbody>\n",
              "    <tr>\n",
              "      <th>0</th>\n",
              "      <td>1.006033e+09</td>\n",
              "      <td>2114.0</td>\n",
              "      <td>2274.0</td>\n",
              "      <td>2491.0</td>\n",
              "      <td>2660.0</td>\n",
              "      <td>2727.0</td>\n",
              "      <td>2887.0</td>\n",
              "      <td>2930.0</td>\n",
              "      <td>3119.0</td>\n",
              "      <td>3204.0</td>\n",
              "      <td>...</td>\n",
              "      <td>3386.0</td>\n",
              "      <td>3479.0</td>\n",
              "      <td>3554.0</td>\n",
              "      <td>3706.0</td>\n",
              "      <td>3897.0</td>\n",
              "      <td>4048.0</td>\n",
              "      <td>13899.0</td>\n",
              "      <td>26857.0</td>\n",
              "      <td>9658.0</td>\n",
              "      <td>2660.0</td>\n",
              "    </tr>\n",
              "    <tr>\n",
              "      <th>1</th>\n",
              "      <td>1.212192e+09</td>\n",
              "      <td>151.0</td>\n",
              "      <td>275.0</td>\n",
              "      <td>570.0</td>\n",
              "      <td>750.0</td>\n",
              "      <td>813.0</td>\n",
              "      <td>1066.0</td>\n",
              "      <td>1164.0</td>\n",
              "      <td>1558.0</td>\n",
              "      <td>1756.0</td>\n",
              "      <td>...</td>\n",
              "      <td>2106.0</td>\n",
              "      <td>2454.0</td>\n",
              "      <td>2710.0</td>\n",
              "      <td>3258.0</td>\n",
              "      <td>3911.0</td>\n",
              "      <td>4277.0</td>\n",
              "      <td>6216.0</td>\n",
              "      <td>17311.0</td>\n",
              "      <td>6405.0</td>\n",
              "      <td>750.0</td>\n",
              "    </tr>\n",
              "    <tr>\n",
              "      <th>2</th>\n",
              "      <td>1.190381e+09</td>\n",
              "      <td>6.0</td>\n",
              "      <td>7.0</td>\n",
              "      <td>7.0</td>\n",
              "      <td>7.0</td>\n",
              "      <td>8.0</td>\n",
              "      <td>8.0</td>\n",
              "      <td>9.0</td>\n",
              "      <td>10.0</td>\n",
              "      <td>10.0</td>\n",
              "      <td>...</td>\n",
              "      <td>10.0</td>\n",
              "      <td>11.0</td>\n",
              "      <td>11.0</td>\n",
              "      <td>11.0</td>\n",
              "      <td>11.0</td>\n",
              "      <td>11.0</td>\n",
              "      <td>40.0</td>\n",
              "      <td>82.0</td>\n",
              "      <td>28.0</td>\n",
              "      <td>7.0</td>\n",
              "    </tr>\n",
              "    <tr>\n",
              "      <th>3</th>\n",
              "      <td>9.660060e+08</td>\n",
              "      <td>1005.0</td>\n",
              "      <td>1128.0</td>\n",
              "      <td>1326.0</td>\n",
              "      <td>1455.0</td>\n",
              "      <td>1507.0</td>\n",
              "      <td>1621.0</td>\n",
              "      <td>1637.0</td>\n",
              "      <td>1723.0</td>\n",
              "      <td>1746.0</td>\n",
              "      <td>...</td>\n",
              "      <td>1812.0</td>\n",
              "      <td>1845.0</td>\n",
              "      <td>1878.0</td>\n",
              "      <td>1914.0</td>\n",
              "      <td>1952.0</td>\n",
              "      <td>1963.0</td>\n",
              "      <td>7213.0</td>\n",
              "      <td>14411.0</td>\n",
              "      <td>5012.0</td>\n",
              "      <td>1455.0</td>\n",
              "    </tr>\n",
              "    <tr>\n",
              "      <th>4</th>\n",
              "      <td>8.763395e+08</td>\n",
              "      <td>996.0</td>\n",
              "      <td>1175.0</td>\n",
              "      <td>1304.0</td>\n",
              "      <td>1396.0</td>\n",
              "      <td>1432.0</td>\n",
              "      <td>1559.0</td>\n",
              "      <td>1570.0</td>\n",
              "      <td>1638.0</td>\n",
              "      <td>1655.0</td>\n",
              "      <td>...</td>\n",
              "      <td>1824.0</td>\n",
              "      <td>1919.0</td>\n",
              "      <td>2032.0</td>\n",
              "      <td>2252.0</td>\n",
              "      <td>2544.0</td>\n",
              "      <td>2736.0</td>\n",
              "      <td>7706.0</td>\n",
              "      <td>14676.0</td>\n",
              "      <td>5678.0</td>\n",
              "      <td>1396.0</td>\n",
              "    </tr>\n",
              "  </tbody>\n",
              "</table>\n",
              "<p>5 rows × 22 columns</p>\n",
              "</div>\n",
              "    <div class=\"colab-df-buttons\">\n",
              "\n",
              "  <div class=\"colab-df-container\">\n",
              "    <button class=\"colab-df-convert\" onclick=\"convertToInteractive('df-1d329009-9762-4586-872f-223ae246a0c8')\"\n",
              "            title=\"Convert this dataframe to an interactive table.\"\n",
              "            style=\"display:none;\">\n",
              "\n",
              "  <svg xmlns=\"http://www.w3.org/2000/svg\" height=\"24px\" viewBox=\"0 -960 960 960\">\n",
              "    <path d=\"M120-120v-720h720v720H120Zm60-500h600v-160H180v160Zm220 220h160v-160H400v160Zm0 220h160v-160H400v160ZM180-400h160v-160H180v160Zm440 0h160v-160H620v160ZM180-180h160v-160H180v160Zm440 0h160v-160H620v160Z\"/>\n",
              "  </svg>\n",
              "    </button>\n",
              "\n",
              "  <style>\n",
              "    .colab-df-container {\n",
              "      display:flex;\n",
              "      gap: 12px;\n",
              "    }\n",
              "\n",
              "    .colab-df-convert {\n",
              "      background-color: #E8F0FE;\n",
              "      border: none;\n",
              "      border-radius: 50%;\n",
              "      cursor: pointer;\n",
              "      display: none;\n",
              "      fill: #1967D2;\n",
              "      height: 32px;\n",
              "      padding: 0 0 0 0;\n",
              "      width: 32px;\n",
              "    }\n",
              "\n",
              "    .colab-df-convert:hover {\n",
              "      background-color: #E2EBFA;\n",
              "      box-shadow: 0px 1px 2px rgba(60, 64, 67, 0.3), 0px 1px 3px 1px rgba(60, 64, 67, 0.15);\n",
              "      fill: #174EA6;\n",
              "    }\n",
              "\n",
              "    .colab-df-buttons div {\n",
              "      margin-bottom: 4px;\n",
              "    }\n",
              "\n",
              "    [theme=dark] .colab-df-convert {\n",
              "      background-color: #3B4455;\n",
              "      fill: #D2E3FC;\n",
              "    }\n",
              "\n",
              "    [theme=dark] .colab-df-convert:hover {\n",
              "      background-color: #434B5C;\n",
              "      box-shadow: 0px 1px 3px 1px rgba(0, 0, 0, 0.15);\n",
              "      filter: drop-shadow(0px 1px 2px rgba(0, 0, 0, 0.3));\n",
              "      fill: #FFFFFF;\n",
              "    }\n",
              "  </style>\n",
              "\n",
              "    <script>\n",
              "      const buttonEl =\n",
              "        document.querySelector('#df-1d329009-9762-4586-872f-223ae246a0c8 button.colab-df-convert');\n",
              "      buttonEl.style.display =\n",
              "        google.colab.kernel.accessAllowed ? 'block' : 'none';\n",
              "\n",
              "      async function convertToInteractive(key) {\n",
              "        const element = document.querySelector('#df-1d329009-9762-4586-872f-223ae246a0c8');\n",
              "        const dataTable =\n",
              "          await google.colab.kernel.invokeFunction('convertToInteractive',\n",
              "                                                    [key], {});\n",
              "        if (!dataTable) return;\n",
              "\n",
              "        const docLinkHtml = 'Like what you see? Visit the ' +\n",
              "          '<a target=\"_blank\" href=https://colab.research.google.com/notebooks/data_table.ipynb>data table notebook</a>'\n",
              "          + ' to learn more about interactive tables.';\n",
              "        element.innerHTML = '';\n",
              "        dataTable['output_type'] = 'display_data';\n",
              "        await google.colab.output.renderOutput(dataTable, element);\n",
              "        const docLink = document.createElement('div');\n",
              "        docLink.innerHTML = docLinkHtml;\n",
              "        element.appendChild(docLink);\n",
              "      }\n",
              "    </script>\n",
              "  </div>\n",
              "\n",
              "\n",
              "    <div id=\"df-f150fc62-3b87-4bc1-92c5-221f3b85375c\">\n",
              "      <button class=\"colab-df-quickchart\" onclick=\"quickchart('df-f150fc62-3b87-4bc1-92c5-221f3b85375c')\"\n",
              "                title=\"Suggest charts\"\n",
              "                style=\"display:none;\">\n",
              "\n",
              "<svg xmlns=\"http://www.w3.org/2000/svg\" height=\"24px\"viewBox=\"0 0 24 24\"\n",
              "     width=\"24px\">\n",
              "    <g>\n",
              "        <path d=\"M19 3H5c-1.1 0-2 .9-2 2v14c0 1.1.9 2 2 2h14c1.1 0 2-.9 2-2V5c0-1.1-.9-2-2-2zM9 17H7v-7h2v7zm4 0h-2V7h2v10zm4 0h-2v-4h2v4z\"/>\n",
              "    </g>\n",
              "</svg>\n",
              "      </button>\n",
              "\n",
              "<style>\n",
              "  .colab-df-quickchart {\n",
              "      --bg-color: #E8F0FE;\n",
              "      --fill-color: #1967D2;\n",
              "      --hover-bg-color: #E2EBFA;\n",
              "      --hover-fill-color: #174EA6;\n",
              "      --disabled-fill-color: #AAA;\n",
              "      --disabled-bg-color: #DDD;\n",
              "  }\n",
              "\n",
              "  [theme=dark] .colab-df-quickchart {\n",
              "      --bg-color: #3B4455;\n",
              "      --fill-color: #D2E3FC;\n",
              "      --hover-bg-color: #434B5C;\n",
              "      --hover-fill-color: #FFFFFF;\n",
              "      --disabled-bg-color: #3B4455;\n",
              "      --disabled-fill-color: #666;\n",
              "  }\n",
              "\n",
              "  .colab-df-quickchart {\n",
              "    background-color: var(--bg-color);\n",
              "    border: none;\n",
              "    border-radius: 50%;\n",
              "    cursor: pointer;\n",
              "    display: none;\n",
              "    fill: var(--fill-color);\n",
              "    height: 32px;\n",
              "    padding: 0;\n",
              "    width: 32px;\n",
              "  }\n",
              "\n",
              "  .colab-df-quickchart:hover {\n",
              "    background-color: var(--hover-bg-color);\n",
              "    box-shadow: 0 1px 2px rgba(60, 64, 67, 0.3), 0 1px 3px 1px rgba(60, 64, 67, 0.15);\n",
              "    fill: var(--button-hover-fill-color);\n",
              "  }\n",
              "\n",
              "  .colab-df-quickchart-complete:disabled,\n",
              "  .colab-df-quickchart-complete:disabled:hover {\n",
              "    background-color: var(--disabled-bg-color);\n",
              "    fill: var(--disabled-fill-color);\n",
              "    box-shadow: none;\n",
              "  }\n",
              "\n",
              "  .colab-df-spinner {\n",
              "    border: 2px solid var(--fill-color);\n",
              "    border-color: transparent;\n",
              "    border-bottom-color: var(--fill-color);\n",
              "    animation:\n",
              "      spin 1s steps(1) infinite;\n",
              "  }\n",
              "\n",
              "  @keyframes spin {\n",
              "    0% {\n",
              "      border-color: transparent;\n",
              "      border-bottom-color: var(--fill-color);\n",
              "      border-left-color: var(--fill-color);\n",
              "    }\n",
              "    20% {\n",
              "      border-color: transparent;\n",
              "      border-left-color: var(--fill-color);\n",
              "      border-top-color: var(--fill-color);\n",
              "    }\n",
              "    30% {\n",
              "      border-color: transparent;\n",
              "      border-left-color: var(--fill-color);\n",
              "      border-top-color: var(--fill-color);\n",
              "      border-right-color: var(--fill-color);\n",
              "    }\n",
              "    40% {\n",
              "      border-color: transparent;\n",
              "      border-right-color: var(--fill-color);\n",
              "      border-top-color: var(--fill-color);\n",
              "    }\n",
              "    60% {\n",
              "      border-color: transparent;\n",
              "      border-right-color: var(--fill-color);\n",
              "    }\n",
              "    80% {\n",
              "      border-color: transparent;\n",
              "      border-right-color: var(--fill-color);\n",
              "      border-bottom-color: var(--fill-color);\n",
              "    }\n",
              "    90% {\n",
              "      border-color: transparent;\n",
              "      border-bottom-color: var(--fill-color);\n",
              "    }\n",
              "  }\n",
              "</style>\n",
              "\n",
              "      <script>\n",
              "        async function quickchart(key) {\n",
              "          const quickchartButtonEl =\n",
              "            document.querySelector('#' + key + ' button');\n",
              "          quickchartButtonEl.disabled = true;  // To prevent multiple clicks.\n",
              "          quickchartButtonEl.classList.add('colab-df-spinner');\n",
              "          try {\n",
              "            const charts = await google.colab.kernel.invokeFunction(\n",
              "                'suggestCharts', [key], {});\n",
              "          } catch (error) {\n",
              "            console.error('Error during call to suggestCharts:', error);\n",
              "          }\n",
              "          quickchartButtonEl.classList.remove('colab-df-spinner');\n",
              "          quickchartButtonEl.classList.add('colab-df-quickchart-complete');\n",
              "        }\n",
              "        (() => {\n",
              "          let quickchartButtonEl =\n",
              "            document.querySelector('#df-f150fc62-3b87-4bc1-92c5-221f3b85375c button');\n",
              "          quickchartButtonEl.style.display =\n",
              "            google.colab.kernel.accessAllowed ? 'block' : 'none';\n",
              "        })();\n",
              "      </script>\n",
              "    </div>\n",
              "\n",
              "    </div>\n",
              "  </div>\n"
            ],
            "application/vnd.google.colaboratory.intrinsic+json": {
              "type": "dataframe",
              "variable_name": "inp1"
            }
          },
          "metadata": {},
          "execution_count": 68
        }
      ],
      "source": [
        "inp1.head()"
      ]
    },
    {
      "cell_type": "code",
      "execution_count": null,
      "metadata": {
        "id": "Ij-xLl0k9rWi"
      },
      "outputs": [],
      "source": [
        "# calculate the sum of sales in each seasons in inp1 i.e. \"Dress Sales\".\n"
      ]
    },
    {
      "cell_type": "code",
      "execution_count": null,
      "metadata": {
        "colab": {
          "base_uri": "https://localhost:8080/"
        },
        "id": "LcrGena19rWm",
        "outputId": "a240e41a-5810-45b5-a7fe-962e946e804c"
      },
      "outputs": [
        {
          "output_type": "stream",
          "name": "stdout",
          "text": [
            "Total Summer Sales: 691907.0\n",
            "Total Autumn Sales: 1353543.0\n",
            "Total Winter Sales: 473640.0\n",
            "Total Spring Sales: 143600.0\n"
          ]
        }
      ],
      "source": [
        "import pandas as pd\n",
        "\n",
        "# Assuming your DataFrame is named 'inp1' and has season columns\n",
        "# 'Summer', 'Autumn', 'Winter', and 'Spring'\n",
        "\n",
        "# Calculate the sum of sales for each season\n",
        "total_summer_sales = inp1['Summer'].sum()\n",
        "total_autumn_sales = inp1['Autumn'].sum()\n",
        "total_winter_sales = inp1['Winter'].sum()\n",
        "total_spring_sales = inp1['Spring'].sum()\n",
        "\n",
        "# Print the total sales for each season\n",
        "print(\"Total Summer Sales:\", total_summer_sales)\n",
        "print(\"Total Autumn Sales:\", total_autumn_sales)\n",
        "print(\"Total Winter Sales:\", total_winter_sales)\n",
        "print(\"Total Spring Sales:\", total_spring_sales)"
      ]
    },
    {
      "cell_type": "markdown",
      "metadata": {
        "id": "iXIlSW249rWm"
      },
      "source": [
        "Now let's merge inp1 with inp0 with left join manner, so that the information of inp0 should remain intact."
      ]
    },
    {
      "cell_type": "code",
      "execution_count": null,
      "metadata": {
        "colab": {
          "base_uri": "https://localhost:8080/",
          "height": 243
        },
        "id": "9AKMOdFu9rWm",
        "outputId": "50fd403a-f60c-467a-a1b4-5e34035f7718"
      },
      "outputs": [
        {
          "output_type": "execute_result",
          "data": {
            "text/plain": [
              "     Dress_ID    Style    Price  Rating    Size  Season NeckLine SleeveLength  \\\n",
              "0  1006032852     Sexy      Low     4.6  Medium  Summer   o-neck    sleevless   \n",
              "1  1212192089   Casual      Low     0.0   Large  Summer   o-neck        Petal   \n",
              "2  1190380701  vintage     High     0.0   Large  Automn   o-neck         full   \n",
              "3   966005983    Brief  Average     4.6   Large  Spring   o-neck         full   \n",
              "4   876339541     cute      Low     4.5  Medium  Summer   o-neck    butterfly   \n",
              "\n",
              "        Material FabricType  Decoration Pattern Type  Recommendation  \n",
              "0            NaN    chiffon     ruffles       animal               1  \n",
              "1     microfiber        NaN     ruffles       animal               0  \n",
              "2       polyster        NaN         NaN        print               0  \n",
              "3           silk    chiffon  embroidary        print               1  \n",
              "4  chiffonfabric    chiffon         bow          dot               0  "
            ],
            "text/html": [
              "\n",
              "  <div id=\"df-12c0141a-c678-4c6b-90b5-160e0a2fea7c\" class=\"colab-df-container\">\n",
              "    <div>\n",
              "<style scoped>\n",
              "    .dataframe tbody tr th:only-of-type {\n",
              "        vertical-align: middle;\n",
              "    }\n",
              "\n",
              "    .dataframe tbody tr th {\n",
              "        vertical-align: top;\n",
              "    }\n",
              "\n",
              "    .dataframe thead th {\n",
              "        text-align: right;\n",
              "    }\n",
              "</style>\n",
              "<table border=\"1\" class=\"dataframe\">\n",
              "  <thead>\n",
              "    <tr style=\"text-align: right;\">\n",
              "      <th></th>\n",
              "      <th>Dress_ID</th>\n",
              "      <th>Style</th>\n",
              "      <th>Price</th>\n",
              "      <th>Rating</th>\n",
              "      <th>Size</th>\n",
              "      <th>Season</th>\n",
              "      <th>NeckLine</th>\n",
              "      <th>SleeveLength</th>\n",
              "      <th>Material</th>\n",
              "      <th>FabricType</th>\n",
              "      <th>Decoration</th>\n",
              "      <th>Pattern Type</th>\n",
              "      <th>Recommendation</th>\n",
              "    </tr>\n",
              "  </thead>\n",
              "  <tbody>\n",
              "    <tr>\n",
              "      <th>0</th>\n",
              "      <td>1006032852</td>\n",
              "      <td>Sexy</td>\n",
              "      <td>Low</td>\n",
              "      <td>4.6</td>\n",
              "      <td>Medium</td>\n",
              "      <td>Summer</td>\n",
              "      <td>o-neck</td>\n",
              "      <td>sleevless</td>\n",
              "      <td>NaN</td>\n",
              "      <td>chiffon</td>\n",
              "      <td>ruffles</td>\n",
              "      <td>animal</td>\n",
              "      <td>1</td>\n",
              "    </tr>\n",
              "    <tr>\n",
              "      <th>1</th>\n",
              "      <td>1212192089</td>\n",
              "      <td>Casual</td>\n",
              "      <td>Low</td>\n",
              "      <td>0.0</td>\n",
              "      <td>Large</td>\n",
              "      <td>Summer</td>\n",
              "      <td>o-neck</td>\n",
              "      <td>Petal</td>\n",
              "      <td>microfiber</td>\n",
              "      <td>NaN</td>\n",
              "      <td>ruffles</td>\n",
              "      <td>animal</td>\n",
              "      <td>0</td>\n",
              "    </tr>\n",
              "    <tr>\n",
              "      <th>2</th>\n",
              "      <td>1190380701</td>\n",
              "      <td>vintage</td>\n",
              "      <td>High</td>\n",
              "      <td>0.0</td>\n",
              "      <td>Large</td>\n",
              "      <td>Automn</td>\n",
              "      <td>o-neck</td>\n",
              "      <td>full</td>\n",
              "      <td>polyster</td>\n",
              "      <td>NaN</td>\n",
              "      <td>NaN</td>\n",
              "      <td>print</td>\n",
              "      <td>0</td>\n",
              "    </tr>\n",
              "    <tr>\n",
              "      <th>3</th>\n",
              "      <td>966005983</td>\n",
              "      <td>Brief</td>\n",
              "      <td>Average</td>\n",
              "      <td>4.6</td>\n",
              "      <td>Large</td>\n",
              "      <td>Spring</td>\n",
              "      <td>o-neck</td>\n",
              "      <td>full</td>\n",
              "      <td>silk</td>\n",
              "      <td>chiffon</td>\n",
              "      <td>embroidary</td>\n",
              "      <td>print</td>\n",
              "      <td>1</td>\n",
              "    </tr>\n",
              "    <tr>\n",
              "      <th>4</th>\n",
              "      <td>876339541</td>\n",
              "      <td>cute</td>\n",
              "      <td>Low</td>\n",
              "      <td>4.5</td>\n",
              "      <td>Medium</td>\n",
              "      <td>Summer</td>\n",
              "      <td>o-neck</td>\n",
              "      <td>butterfly</td>\n",
              "      <td>chiffonfabric</td>\n",
              "      <td>chiffon</td>\n",
              "      <td>bow</td>\n",
              "      <td>dot</td>\n",
              "      <td>0</td>\n",
              "    </tr>\n",
              "  </tbody>\n",
              "</table>\n",
              "</div>\n",
              "    <div class=\"colab-df-buttons\">\n",
              "\n",
              "  <div class=\"colab-df-container\">\n",
              "    <button class=\"colab-df-convert\" onclick=\"convertToInteractive('df-12c0141a-c678-4c6b-90b5-160e0a2fea7c')\"\n",
              "            title=\"Convert this dataframe to an interactive table.\"\n",
              "            style=\"display:none;\">\n",
              "\n",
              "  <svg xmlns=\"http://www.w3.org/2000/svg\" height=\"24px\" viewBox=\"0 -960 960 960\">\n",
              "    <path d=\"M120-120v-720h720v720H120Zm60-500h600v-160H180v160Zm220 220h160v-160H400v160Zm0 220h160v-160H400v160ZM180-400h160v-160H180v160Zm440 0h160v-160H620v160ZM180-180h160v-160H180v160Zm440 0h160v-160H620v160Z\"/>\n",
              "  </svg>\n",
              "    </button>\n",
              "\n",
              "  <style>\n",
              "    .colab-df-container {\n",
              "      display:flex;\n",
              "      gap: 12px;\n",
              "    }\n",
              "\n",
              "    .colab-df-convert {\n",
              "      background-color: #E8F0FE;\n",
              "      border: none;\n",
              "      border-radius: 50%;\n",
              "      cursor: pointer;\n",
              "      display: none;\n",
              "      fill: #1967D2;\n",
              "      height: 32px;\n",
              "      padding: 0 0 0 0;\n",
              "      width: 32px;\n",
              "    }\n",
              "\n",
              "    .colab-df-convert:hover {\n",
              "      background-color: #E2EBFA;\n",
              "      box-shadow: 0px 1px 2px rgba(60, 64, 67, 0.3), 0px 1px 3px 1px rgba(60, 64, 67, 0.15);\n",
              "      fill: #174EA6;\n",
              "    }\n",
              "\n",
              "    .colab-df-buttons div {\n",
              "      margin-bottom: 4px;\n",
              "    }\n",
              "\n",
              "    [theme=dark] .colab-df-convert {\n",
              "      background-color: #3B4455;\n",
              "      fill: #D2E3FC;\n",
              "    }\n",
              "\n",
              "    [theme=dark] .colab-df-convert:hover {\n",
              "      background-color: #434B5C;\n",
              "      box-shadow: 0px 1px 3px 1px rgba(0, 0, 0, 0.15);\n",
              "      filter: drop-shadow(0px 1px 2px rgba(0, 0, 0, 0.3));\n",
              "      fill: #FFFFFF;\n",
              "    }\n",
              "  </style>\n",
              "\n",
              "    <script>\n",
              "      const buttonEl =\n",
              "        document.querySelector('#df-12c0141a-c678-4c6b-90b5-160e0a2fea7c button.colab-df-convert');\n",
              "      buttonEl.style.display =\n",
              "        google.colab.kernel.accessAllowed ? 'block' : 'none';\n",
              "\n",
              "      async function convertToInteractive(key) {\n",
              "        const element = document.querySelector('#df-12c0141a-c678-4c6b-90b5-160e0a2fea7c');\n",
              "        const dataTable =\n",
              "          await google.colab.kernel.invokeFunction('convertToInteractive',\n",
              "                                                    [key], {});\n",
              "        if (!dataTable) return;\n",
              "\n",
              "        const docLinkHtml = 'Like what you see? Visit the ' +\n",
              "          '<a target=\"_blank\" href=https://colab.research.google.com/notebooks/data_table.ipynb>data table notebook</a>'\n",
              "          + ' to learn more about interactive tables.';\n",
              "        element.innerHTML = '';\n",
              "        dataTable['output_type'] = 'display_data';\n",
              "        await google.colab.output.renderOutput(dataTable, element);\n",
              "        const docLink = document.createElement('div');\n",
              "        docLink.innerHTML = docLinkHtml;\n",
              "        element.appendChild(docLink);\n",
              "      }\n",
              "    </script>\n",
              "  </div>\n",
              "\n",
              "\n",
              "    <div id=\"df-1f67d090-a47d-41cd-a874-60cb4ecf3b42\">\n",
              "      <button class=\"colab-df-quickchart\" onclick=\"quickchart('df-1f67d090-a47d-41cd-a874-60cb4ecf3b42')\"\n",
              "                title=\"Suggest charts\"\n",
              "                style=\"display:none;\">\n",
              "\n",
              "<svg xmlns=\"http://www.w3.org/2000/svg\" height=\"24px\"viewBox=\"0 0 24 24\"\n",
              "     width=\"24px\">\n",
              "    <g>\n",
              "        <path d=\"M19 3H5c-1.1 0-2 .9-2 2v14c0 1.1.9 2 2 2h14c1.1 0 2-.9 2-2V5c0-1.1-.9-2-2-2zM9 17H7v-7h2v7zm4 0h-2V7h2v10zm4 0h-2v-4h2v4z\"/>\n",
              "    </g>\n",
              "</svg>\n",
              "      </button>\n",
              "\n",
              "<style>\n",
              "  .colab-df-quickchart {\n",
              "      --bg-color: #E8F0FE;\n",
              "      --fill-color: #1967D2;\n",
              "      --hover-bg-color: #E2EBFA;\n",
              "      --hover-fill-color: #174EA6;\n",
              "      --disabled-fill-color: #AAA;\n",
              "      --disabled-bg-color: #DDD;\n",
              "  }\n",
              "\n",
              "  [theme=dark] .colab-df-quickchart {\n",
              "      --bg-color: #3B4455;\n",
              "      --fill-color: #D2E3FC;\n",
              "      --hover-bg-color: #434B5C;\n",
              "      --hover-fill-color: #FFFFFF;\n",
              "      --disabled-bg-color: #3B4455;\n",
              "      --disabled-fill-color: #666;\n",
              "  }\n",
              "\n",
              "  .colab-df-quickchart {\n",
              "    background-color: var(--bg-color);\n",
              "    border: none;\n",
              "    border-radius: 50%;\n",
              "    cursor: pointer;\n",
              "    display: none;\n",
              "    fill: var(--fill-color);\n",
              "    height: 32px;\n",
              "    padding: 0;\n",
              "    width: 32px;\n",
              "  }\n",
              "\n",
              "  .colab-df-quickchart:hover {\n",
              "    background-color: var(--hover-bg-color);\n",
              "    box-shadow: 0 1px 2px rgba(60, 64, 67, 0.3), 0 1px 3px 1px rgba(60, 64, 67, 0.15);\n",
              "    fill: var(--button-hover-fill-color);\n",
              "  }\n",
              "\n",
              "  .colab-df-quickchart-complete:disabled,\n",
              "  .colab-df-quickchart-complete:disabled:hover {\n",
              "    background-color: var(--disabled-bg-color);\n",
              "    fill: var(--disabled-fill-color);\n",
              "    box-shadow: none;\n",
              "  }\n",
              "\n",
              "  .colab-df-spinner {\n",
              "    border: 2px solid var(--fill-color);\n",
              "    border-color: transparent;\n",
              "    border-bottom-color: var(--fill-color);\n",
              "    animation:\n",
              "      spin 1s steps(1) infinite;\n",
              "  }\n",
              "\n",
              "  @keyframes spin {\n",
              "    0% {\n",
              "      border-color: transparent;\n",
              "      border-bottom-color: var(--fill-color);\n",
              "      border-left-color: var(--fill-color);\n",
              "    }\n",
              "    20% {\n",
              "      border-color: transparent;\n",
              "      border-left-color: var(--fill-color);\n",
              "      border-top-color: var(--fill-color);\n",
              "    }\n",
              "    30% {\n",
              "      border-color: transparent;\n",
              "      border-left-color: var(--fill-color);\n",
              "      border-top-color: var(--fill-color);\n",
              "      border-right-color: var(--fill-color);\n",
              "    }\n",
              "    40% {\n",
              "      border-color: transparent;\n",
              "      border-right-color: var(--fill-color);\n",
              "      border-top-color: var(--fill-color);\n",
              "    }\n",
              "    60% {\n",
              "      border-color: transparent;\n",
              "      border-right-color: var(--fill-color);\n",
              "    }\n",
              "    80% {\n",
              "      border-color: transparent;\n",
              "      border-right-color: var(--fill-color);\n",
              "      border-bottom-color: var(--fill-color);\n",
              "    }\n",
              "    90% {\n",
              "      border-color: transparent;\n",
              "      border-bottom-color: var(--fill-color);\n",
              "    }\n",
              "  }\n",
              "</style>\n",
              "\n",
              "      <script>\n",
              "        async function quickchart(key) {\n",
              "          const quickchartButtonEl =\n",
              "            document.querySelector('#' + key + ' button');\n",
              "          quickchartButtonEl.disabled = true;  // To prevent multiple clicks.\n",
              "          quickchartButtonEl.classList.add('colab-df-spinner');\n",
              "          try {\n",
              "            const charts = await google.colab.kernel.invokeFunction(\n",
              "                'suggestCharts', [key], {});\n",
              "          } catch (error) {\n",
              "            console.error('Error during call to suggestCharts:', error);\n",
              "          }\n",
              "          quickchartButtonEl.classList.remove('colab-df-spinner');\n",
              "          quickchartButtonEl.classList.add('colab-df-quickchart-complete');\n",
              "        }\n",
              "        (() => {\n",
              "          let quickchartButtonEl =\n",
              "            document.querySelector('#df-1f67d090-a47d-41cd-a874-60cb4ecf3b42 button');\n",
              "          quickchartButtonEl.style.display =\n",
              "            google.colab.kernel.accessAllowed ? 'block' : 'none';\n",
              "        })();\n",
              "      </script>\n",
              "    </div>\n",
              "\n",
              "    </div>\n",
              "  </div>\n"
            ],
            "application/vnd.google.colaboratory.intrinsic+json": {
              "type": "dataframe",
              "variable_name": "inp0",
              "summary": "{\n  \"name\": \"inp0\",\n  \"rows\": 479,\n  \"fields\": [\n    {\n      \"column\": \"Dress_ID\",\n      \"properties\": {\n        \"dtype\": \"number\",\n        \"std\": 182235169,\n        \"min\": 123456789,\n        \"max\": 1253973206,\n        \"num_unique_values\": 479,\n        \"samples\": [\n          1118628066,\n          1219677488,\n          743729613\n        ],\n        \"semantic_type\": \"\",\n        \"description\": \"\"\n      }\n    },\n    {\n      \"column\": \"Style\",\n      \"properties\": {\n        \"dtype\": \"category\",\n        \"num_unique_values\": 13,\n        \"samples\": [\n          \"OL\",\n          \"Novelty\",\n          \"Sexy\"\n        ],\n        \"semantic_type\": \"\",\n        \"description\": \"\"\n      }\n    },\n    {\n      \"column\": \"Price\",\n      \"properties\": {\n        \"dtype\": \"category\",\n        \"num_unique_values\": 5,\n        \"samples\": [\n          \"High\",\n          \"very-high\",\n          \"Average\"\n        ],\n        \"semantic_type\": \"\",\n        \"description\": \"\"\n      }\n    },\n    {\n      \"column\": \"Rating\",\n      \"properties\": {\n        \"dtype\": \"number\",\n        \"std\": 2.028941073943482,\n        \"min\": 0.0,\n        \"max\": 5.0,\n        \"num_unique_values\": 17,\n        \"samples\": [\n          4.6,\n          0.0,\n          4.8\n        ],\n        \"semantic_type\": \"\",\n        \"description\": \"\"\n      }\n    },\n    {\n      \"column\": \"Size\",\n      \"properties\": {\n        \"dtype\": \"category\",\n        \"num_unique_values\": 5,\n        \"samples\": [\n          \"Large\",\n          \"Small\",\n          \"Extra Large\"\n        ],\n        \"semantic_type\": \"\",\n        \"description\": \"\"\n      }\n    },\n    {\n      \"column\": \"Season\",\n      \"properties\": {\n        \"dtype\": \"category\",\n        \"num_unique_values\": 7,\n        \"samples\": [\n          \"Summer\",\n          \"Automn\",\n          \"winter\"\n        ],\n        \"semantic_type\": \"\",\n        \"description\": \"\"\n      }\n    },\n    {\n      \"column\": \"NeckLine\",\n      \"properties\": {\n        \"dtype\": \"category\",\n        \"num_unique_values\": 16,\n        \"samples\": [\n          \"o-neck\",\n          \"v-neck\",\n          \"turndowncollor\"\n        ],\n        \"semantic_type\": \"\",\n        \"description\": \"\"\n      }\n    },\n    {\n      \"column\": \"SleeveLength\",\n      \"properties\": {\n        \"dtype\": \"category\",\n        \"num_unique_values\": 17,\n        \"samples\": [\n          \"sleevless\",\n          \"Petal\",\n          \"threequarter\"\n        ],\n        \"semantic_type\": \"\",\n        \"description\": \"\"\n      }\n    },\n    {\n      \"column\": \"Material\",\n      \"properties\": {\n        \"dtype\": \"category\",\n        \"num_unique_values\": 22,\n        \"samples\": [\n          \"microfiber\",\n          \"spandex\",\n          \"linen\"\n        ],\n        \"semantic_type\": \"\",\n        \"description\": \"\"\n      }\n    },\n    {\n      \"column\": \"FabricType\",\n      \"properties\": {\n        \"dtype\": \"category\",\n        \"num_unique_values\": 22,\n        \"samples\": [\n          \"chiffon\",\n          \"tulle\",\n          \"woolen\"\n        ],\n        \"semantic_type\": \"\",\n        \"description\": \"\"\n      }\n    },\n    {\n      \"column\": \"Decoration\",\n      \"properties\": {\n        \"dtype\": \"category\",\n        \"num_unique_values\": 24,\n        \"samples\": [\n          \"sequined\",\n          \"pleat\",\n          \"ruffles\"\n        ],\n        \"semantic_type\": \"\",\n        \"description\": \"\"\n      }\n    },\n    {\n      \"column\": \"Pattern Type\",\n      \"properties\": {\n        \"dtype\": \"category\",\n        \"num_unique_values\": 14,\n        \"samples\": [\n          \"floral\",\n          \"splice\",\n          \"animal\"\n        ],\n        \"semantic_type\": \"\",\n        \"description\": \"\"\n      }\n    },\n    {\n      \"column\": \"Recommendation\",\n      \"properties\": {\n        \"dtype\": \"number\",\n        \"std\": 0,\n        \"min\": 0,\n        \"max\": 1,\n        \"num_unique_values\": 2,\n        \"samples\": [\n          0,\n          1\n        ],\n        \"semantic_type\": \"\",\n        \"description\": \"\"\n      }\n    }\n  ]\n}"
            }
          },
          "metadata": {},
          "execution_count": 71
        }
      ],
      "source": [
        "inp0.head()"
      ]
    },
    {
      "cell_type": "code",
      "execution_count": null,
      "metadata": {
        "id": "9o9Cvjc79rWm"
      },
      "outputs": [],
      "source": [
        "# Merge inp0 with inp1 into inp0. this is also called left merge.\n",
        "inp0 = pd.merge(left=inp0,right=inp1, how='left', left_on='Dress_ID', right_on='Dress_ID')"
      ]
    },
    {
      "cell_type": "code",
      "execution_count": null,
      "metadata": {
        "colab": {
          "base_uri": "https://localhost:8080/"
        },
        "id": "1F9Exlj29rWm",
        "outputId": "0b357fed-77fb-445e-ffc8-de88b76678d5"
      },
      "outputs": [
        {
          "output_type": "execute_result",
          "data": {
            "text/plain": [
              "Index(['Dress_ID', 'Style', 'Price', 'Rating', 'Size', 'Season', 'NeckLine',\n",
              "       'SleeveLength', 'Material', 'FabricType', 'Decoration', 'Pattern Type',\n",
              "       'Recommendation', '29-08-2013', '31-08-2013', '09-02-2013',\n",
              "       '09-04-2013', '09-06-2013', '09-08-2013', '09-10-2013', '09-12-2013',\n",
              "       '14-09-2013', '16-09-2013', '18-09-2013', '20-09-2013', '22-09-2013',\n",
              "       '24-09-2013', '28-09-2013', '10-06-2013', '10-12-2013', 'Summer',\n",
              "       'Autumn', 'Winter', 'Spring'],\n",
              "      dtype='object')"
            ]
          },
          "metadata": {},
          "execution_count": 73
        }
      ],
      "source": [
        "inp0.columns"
      ]
    },
    {
      "cell_type": "code",
      "execution_count": null,
      "metadata": {
        "colab": {
          "base_uri": "https://localhost:8080/",
          "height": 617
        },
        "id": "Y7kP77sn9rWm",
        "outputId": "97d2b306-f570-4775-b236-b09421a4c312"
      },
      "outputs": [
        {
          "output_type": "execute_result",
          "data": {
            "text/plain": [
              "Dress_ID            0\n",
              "Style               0\n",
              "Price               2\n",
              "Rating              0\n",
              "Size                0\n",
              "Season              2\n",
              "NeckLine            3\n",
              "SleeveLength        2\n",
              "Material          119\n",
              "FabricType        256\n",
              "Decoration        224\n",
              "Pattern Type      102\n",
              "Recommendation      0\n",
              "Summer              0\n",
              "Autumn              2\n",
              "Winter              1\n",
              "Spring              0\n",
              "dtype: int64"
            ],
            "text/html": [
              "<div>\n",
              "<style scoped>\n",
              "    .dataframe tbody tr th:only-of-type {\n",
              "        vertical-align: middle;\n",
              "    }\n",
              "\n",
              "    .dataframe tbody tr th {\n",
              "        vertical-align: top;\n",
              "    }\n",
              "\n",
              "    .dataframe thead th {\n",
              "        text-align: right;\n",
              "    }\n",
              "</style>\n",
              "<table border=\"1\" class=\"dataframe\">\n",
              "  <thead>\n",
              "    <tr style=\"text-align: right;\">\n",
              "      <th></th>\n",
              "      <th>0</th>\n",
              "    </tr>\n",
              "  </thead>\n",
              "  <tbody>\n",
              "    <tr>\n",
              "      <th>Dress_ID</th>\n",
              "      <td>0</td>\n",
              "    </tr>\n",
              "    <tr>\n",
              "      <th>Style</th>\n",
              "      <td>0</td>\n",
              "    </tr>\n",
              "    <tr>\n",
              "      <th>Price</th>\n",
              "      <td>2</td>\n",
              "    </tr>\n",
              "    <tr>\n",
              "      <th>Rating</th>\n",
              "      <td>0</td>\n",
              "    </tr>\n",
              "    <tr>\n",
              "      <th>Size</th>\n",
              "      <td>0</td>\n",
              "    </tr>\n",
              "    <tr>\n",
              "      <th>Season</th>\n",
              "      <td>2</td>\n",
              "    </tr>\n",
              "    <tr>\n",
              "      <th>NeckLine</th>\n",
              "      <td>3</td>\n",
              "    </tr>\n",
              "    <tr>\n",
              "      <th>SleeveLength</th>\n",
              "      <td>2</td>\n",
              "    </tr>\n",
              "    <tr>\n",
              "      <th>Material</th>\n",
              "      <td>119</td>\n",
              "    </tr>\n",
              "    <tr>\n",
              "      <th>FabricType</th>\n",
              "      <td>256</td>\n",
              "    </tr>\n",
              "    <tr>\n",
              "      <th>Decoration</th>\n",
              "      <td>224</td>\n",
              "    </tr>\n",
              "    <tr>\n",
              "      <th>Pattern Type</th>\n",
              "      <td>102</td>\n",
              "    </tr>\n",
              "    <tr>\n",
              "      <th>Recommendation</th>\n",
              "      <td>0</td>\n",
              "    </tr>\n",
              "    <tr>\n",
              "      <th>Summer</th>\n",
              "      <td>0</td>\n",
              "    </tr>\n",
              "    <tr>\n",
              "      <th>Autumn</th>\n",
              "      <td>2</td>\n",
              "    </tr>\n",
              "    <tr>\n",
              "      <th>Winter</th>\n",
              "      <td>1</td>\n",
              "    </tr>\n",
              "    <tr>\n",
              "      <th>Spring</th>\n",
              "      <td>0</td>\n",
              "    </tr>\n",
              "  </tbody>\n",
              "</table>\n",
              "</div><br><label><b>dtype:</b> int64</label>"
            ]
          },
          "metadata": {},
          "execution_count": 74
        }
      ],
      "source": [
        "inp0.drop(inp0.loc[:,'29-08-2013':'10-12-2013'].columns, axis= 1, inplace= True)\n",
        "inp0.isnull().sum()"
      ]
    },
    {
      "cell_type": "markdown",
      "metadata": {
        "id": "gcHeHAiC9rWn"
      },
      "source": [
        "Print the null count of inp0 to get the idea about the missing values in data set."
      ]
    },
    {
      "cell_type": "code",
      "execution_count": null,
      "metadata": {
        "colab": {
          "base_uri": "https://localhost:8080/"
        },
        "id": "OMhLCfrw9rWn",
        "outputId": "0d732c0f-3e3b-4e0c-cda1-be5952ee2927"
      },
      "outputs": [
        {
          "output_type": "execute_result",
          "data": {
            "text/plain": [
              "Index(['Dress_ID', 'Style', 'Price', 'Rating', 'Size', 'Season', 'NeckLine',\n",
              "       'SleeveLength', 'Material', 'FabricType', 'Decoration', 'Pattern Type',\n",
              "       'Recommendation', 'Summer', 'Autumn', 'Winter', 'Spring'],\n",
              "      dtype='object')"
            ]
          },
          "metadata": {},
          "execution_count": 75
        }
      ],
      "source": [
        "inp0.columns"
      ]
    },
    {
      "cell_type": "code",
      "execution_count": null,
      "metadata": {
        "id": "vD3iL3jy9rWn"
      },
      "outputs": [],
      "source": [
        "columns_to_drop = ['31-08-2013_x', 'Summer_x', 'Autumn_x', 'Winter_x', 'Spring_x',\n",
        "                    '31-08-2013_y', 'Summer_y', 'Autumn_y', 'Winter_y', 'Spring_y']\n",
        "inp0.drop(columns=columns_to_drop, axis=1, inplace=True, errors='ignore')"
      ]
    },
    {
      "cell_type": "code",
      "execution_count": null,
      "metadata": {
        "colab": {
          "base_uri": "https://localhost:8080/",
          "height": 243
        },
        "id": "N8F_jCK_9rWn",
        "outputId": "42cb4ef4-6d8f-4a56-d0b7-ab1b12c2ddd2"
      },
      "outputs": [
        {
          "output_type": "execute_result",
          "data": {
            "text/plain": [
              "     Dress_ID    Style    Price  Rating    Size  Season NeckLine SleeveLength  \\\n",
              "0  1006032852     Sexy      Low     4.6  Medium  Summer   o-neck    sleevless   \n",
              "1  1212192089   Casual      Low     0.0   Large  Summer   o-neck        Petal   \n",
              "2  1190380701  vintage     High     0.0   Large  Automn   o-neck         full   \n",
              "3   966005983    Brief  Average     4.6   Large  Spring   o-neck         full   \n",
              "4   876339541     cute      Low     4.5  Medium  Summer   o-neck    butterfly   \n",
              "\n",
              "        Material FabricType  Decoration Pattern Type  Recommendation   Summer  \\\n",
              "0            NaN    chiffon     ruffles       animal               1  13899.0   \n",
              "1     microfiber        NaN     ruffles       animal               0   6216.0   \n",
              "2       polyster        NaN         NaN        print               0     40.0   \n",
              "3           silk    chiffon  embroidary        print               1   7213.0   \n",
              "4  chiffonfabric    chiffon         bow          dot               0   7706.0   \n",
              "\n",
              "    Autumn  Winter  Spring  \n",
              "0  26857.0  9658.0  2660.0  \n",
              "1  17311.0  6405.0   750.0  \n",
              "2     82.0    28.0     7.0  \n",
              "3  14411.0  5012.0  1455.0  \n",
              "4  14676.0  5678.0  1396.0  "
            ],
            "text/html": [
              "\n",
              "  <div id=\"df-19fb053f-2bcc-418d-8915-e0b5f0a0270d\" class=\"colab-df-container\">\n",
              "    <div>\n",
              "<style scoped>\n",
              "    .dataframe tbody tr th:only-of-type {\n",
              "        vertical-align: middle;\n",
              "    }\n",
              "\n",
              "    .dataframe tbody tr th {\n",
              "        vertical-align: top;\n",
              "    }\n",
              "\n",
              "    .dataframe thead th {\n",
              "        text-align: right;\n",
              "    }\n",
              "</style>\n",
              "<table border=\"1\" class=\"dataframe\">\n",
              "  <thead>\n",
              "    <tr style=\"text-align: right;\">\n",
              "      <th></th>\n",
              "      <th>Dress_ID</th>\n",
              "      <th>Style</th>\n",
              "      <th>Price</th>\n",
              "      <th>Rating</th>\n",
              "      <th>Size</th>\n",
              "      <th>Season</th>\n",
              "      <th>NeckLine</th>\n",
              "      <th>SleeveLength</th>\n",
              "      <th>Material</th>\n",
              "      <th>FabricType</th>\n",
              "      <th>Decoration</th>\n",
              "      <th>Pattern Type</th>\n",
              "      <th>Recommendation</th>\n",
              "      <th>Summer</th>\n",
              "      <th>Autumn</th>\n",
              "      <th>Winter</th>\n",
              "      <th>Spring</th>\n",
              "    </tr>\n",
              "  </thead>\n",
              "  <tbody>\n",
              "    <tr>\n",
              "      <th>0</th>\n",
              "      <td>1006032852</td>\n",
              "      <td>Sexy</td>\n",
              "      <td>Low</td>\n",
              "      <td>4.6</td>\n",
              "      <td>Medium</td>\n",
              "      <td>Summer</td>\n",
              "      <td>o-neck</td>\n",
              "      <td>sleevless</td>\n",
              "      <td>NaN</td>\n",
              "      <td>chiffon</td>\n",
              "      <td>ruffles</td>\n",
              "      <td>animal</td>\n",
              "      <td>1</td>\n",
              "      <td>13899.0</td>\n",
              "      <td>26857.0</td>\n",
              "      <td>9658.0</td>\n",
              "      <td>2660.0</td>\n",
              "    </tr>\n",
              "    <tr>\n",
              "      <th>1</th>\n",
              "      <td>1212192089</td>\n",
              "      <td>Casual</td>\n",
              "      <td>Low</td>\n",
              "      <td>0.0</td>\n",
              "      <td>Large</td>\n",
              "      <td>Summer</td>\n",
              "      <td>o-neck</td>\n",
              "      <td>Petal</td>\n",
              "      <td>microfiber</td>\n",
              "      <td>NaN</td>\n",
              "      <td>ruffles</td>\n",
              "      <td>animal</td>\n",
              "      <td>0</td>\n",
              "      <td>6216.0</td>\n",
              "      <td>17311.0</td>\n",
              "      <td>6405.0</td>\n",
              "      <td>750.0</td>\n",
              "    </tr>\n",
              "    <tr>\n",
              "      <th>2</th>\n",
              "      <td>1190380701</td>\n",
              "      <td>vintage</td>\n",
              "      <td>High</td>\n",
              "      <td>0.0</td>\n",
              "      <td>Large</td>\n",
              "      <td>Automn</td>\n",
              "      <td>o-neck</td>\n",
              "      <td>full</td>\n",
              "      <td>polyster</td>\n",
              "      <td>NaN</td>\n",
              "      <td>NaN</td>\n",
              "      <td>print</td>\n",
              "      <td>0</td>\n",
              "      <td>40.0</td>\n",
              "      <td>82.0</td>\n",
              "      <td>28.0</td>\n",
              "      <td>7.0</td>\n",
              "    </tr>\n",
              "    <tr>\n",
              "      <th>3</th>\n",
              "      <td>966005983</td>\n",
              "      <td>Brief</td>\n",
              "      <td>Average</td>\n",
              "      <td>4.6</td>\n",
              "      <td>Large</td>\n",
              "      <td>Spring</td>\n",
              "      <td>o-neck</td>\n",
              "      <td>full</td>\n",
              "      <td>silk</td>\n",
              "      <td>chiffon</td>\n",
              "      <td>embroidary</td>\n",
              "      <td>print</td>\n",
              "      <td>1</td>\n",
              "      <td>7213.0</td>\n",
              "      <td>14411.0</td>\n",
              "      <td>5012.0</td>\n",
              "      <td>1455.0</td>\n",
              "    </tr>\n",
              "    <tr>\n",
              "      <th>4</th>\n",
              "      <td>876339541</td>\n",
              "      <td>cute</td>\n",
              "      <td>Low</td>\n",
              "      <td>4.5</td>\n",
              "      <td>Medium</td>\n",
              "      <td>Summer</td>\n",
              "      <td>o-neck</td>\n",
              "      <td>butterfly</td>\n",
              "      <td>chiffonfabric</td>\n",
              "      <td>chiffon</td>\n",
              "      <td>bow</td>\n",
              "      <td>dot</td>\n",
              "      <td>0</td>\n",
              "      <td>7706.0</td>\n",
              "      <td>14676.0</td>\n",
              "      <td>5678.0</td>\n",
              "      <td>1396.0</td>\n",
              "    </tr>\n",
              "  </tbody>\n",
              "</table>\n",
              "</div>\n",
              "    <div class=\"colab-df-buttons\">\n",
              "\n",
              "  <div class=\"colab-df-container\">\n",
              "    <button class=\"colab-df-convert\" onclick=\"convertToInteractive('df-19fb053f-2bcc-418d-8915-e0b5f0a0270d')\"\n",
              "            title=\"Convert this dataframe to an interactive table.\"\n",
              "            style=\"display:none;\">\n",
              "\n",
              "  <svg xmlns=\"http://www.w3.org/2000/svg\" height=\"24px\" viewBox=\"0 -960 960 960\">\n",
              "    <path d=\"M120-120v-720h720v720H120Zm60-500h600v-160H180v160Zm220 220h160v-160H400v160Zm0 220h160v-160H400v160ZM180-400h160v-160H180v160Zm440 0h160v-160H620v160ZM180-180h160v-160H180v160Zm440 0h160v-160H620v160Z\"/>\n",
              "  </svg>\n",
              "    </button>\n",
              "\n",
              "  <style>\n",
              "    .colab-df-container {\n",
              "      display:flex;\n",
              "      gap: 12px;\n",
              "    }\n",
              "\n",
              "    .colab-df-convert {\n",
              "      background-color: #E8F0FE;\n",
              "      border: none;\n",
              "      border-radius: 50%;\n",
              "      cursor: pointer;\n",
              "      display: none;\n",
              "      fill: #1967D2;\n",
              "      height: 32px;\n",
              "      padding: 0 0 0 0;\n",
              "      width: 32px;\n",
              "    }\n",
              "\n",
              "    .colab-df-convert:hover {\n",
              "      background-color: #E2EBFA;\n",
              "      box-shadow: 0px 1px 2px rgba(60, 64, 67, 0.3), 0px 1px 3px 1px rgba(60, 64, 67, 0.15);\n",
              "      fill: #174EA6;\n",
              "    }\n",
              "\n",
              "    .colab-df-buttons div {\n",
              "      margin-bottom: 4px;\n",
              "    }\n",
              "\n",
              "    [theme=dark] .colab-df-convert {\n",
              "      background-color: #3B4455;\n",
              "      fill: #D2E3FC;\n",
              "    }\n",
              "\n",
              "    [theme=dark] .colab-df-convert:hover {\n",
              "      background-color: #434B5C;\n",
              "      box-shadow: 0px 1px 3px 1px rgba(0, 0, 0, 0.15);\n",
              "      filter: drop-shadow(0px 1px 2px rgba(0, 0, 0, 0.3));\n",
              "      fill: #FFFFFF;\n",
              "    }\n",
              "  </style>\n",
              "\n",
              "    <script>\n",
              "      const buttonEl =\n",
              "        document.querySelector('#df-19fb053f-2bcc-418d-8915-e0b5f0a0270d button.colab-df-convert');\n",
              "      buttonEl.style.display =\n",
              "        google.colab.kernel.accessAllowed ? 'block' : 'none';\n",
              "\n",
              "      async function convertToInteractive(key) {\n",
              "        const element = document.querySelector('#df-19fb053f-2bcc-418d-8915-e0b5f0a0270d');\n",
              "        const dataTable =\n",
              "          await google.colab.kernel.invokeFunction('convertToInteractive',\n",
              "                                                    [key], {});\n",
              "        if (!dataTable) return;\n",
              "\n",
              "        const docLinkHtml = 'Like what you see? Visit the ' +\n",
              "          '<a target=\"_blank\" href=https://colab.research.google.com/notebooks/data_table.ipynb>data table notebook</a>'\n",
              "          + ' to learn more about interactive tables.';\n",
              "        element.innerHTML = '';\n",
              "        dataTable['output_type'] = 'display_data';\n",
              "        await google.colab.output.renderOutput(dataTable, element);\n",
              "        const docLink = document.createElement('div');\n",
              "        docLink.innerHTML = docLinkHtml;\n",
              "        element.appendChild(docLink);\n",
              "      }\n",
              "    </script>\n",
              "  </div>\n",
              "\n",
              "\n",
              "    <div id=\"df-986e348e-47ca-40f8-8ac7-7e4435fbe22e\">\n",
              "      <button class=\"colab-df-quickchart\" onclick=\"quickchart('df-986e348e-47ca-40f8-8ac7-7e4435fbe22e')\"\n",
              "                title=\"Suggest charts\"\n",
              "                style=\"display:none;\">\n",
              "\n",
              "<svg xmlns=\"http://www.w3.org/2000/svg\" height=\"24px\"viewBox=\"0 0 24 24\"\n",
              "     width=\"24px\">\n",
              "    <g>\n",
              "        <path d=\"M19 3H5c-1.1 0-2 .9-2 2v14c0 1.1.9 2 2 2h14c1.1 0 2-.9 2-2V5c0-1.1-.9-2-2-2zM9 17H7v-7h2v7zm4 0h-2V7h2v10zm4 0h-2v-4h2v4z\"/>\n",
              "    </g>\n",
              "</svg>\n",
              "      </button>\n",
              "\n",
              "<style>\n",
              "  .colab-df-quickchart {\n",
              "      --bg-color: #E8F0FE;\n",
              "      --fill-color: #1967D2;\n",
              "      --hover-bg-color: #E2EBFA;\n",
              "      --hover-fill-color: #174EA6;\n",
              "      --disabled-fill-color: #AAA;\n",
              "      --disabled-bg-color: #DDD;\n",
              "  }\n",
              "\n",
              "  [theme=dark] .colab-df-quickchart {\n",
              "      --bg-color: #3B4455;\n",
              "      --fill-color: #D2E3FC;\n",
              "      --hover-bg-color: #434B5C;\n",
              "      --hover-fill-color: #FFFFFF;\n",
              "      --disabled-bg-color: #3B4455;\n",
              "      --disabled-fill-color: #666;\n",
              "  }\n",
              "\n",
              "  .colab-df-quickchart {\n",
              "    background-color: var(--bg-color);\n",
              "    border: none;\n",
              "    border-radius: 50%;\n",
              "    cursor: pointer;\n",
              "    display: none;\n",
              "    fill: var(--fill-color);\n",
              "    height: 32px;\n",
              "    padding: 0;\n",
              "    width: 32px;\n",
              "  }\n",
              "\n",
              "  .colab-df-quickchart:hover {\n",
              "    background-color: var(--hover-bg-color);\n",
              "    box-shadow: 0 1px 2px rgba(60, 64, 67, 0.3), 0 1px 3px 1px rgba(60, 64, 67, 0.15);\n",
              "    fill: var(--button-hover-fill-color);\n",
              "  }\n",
              "\n",
              "  .colab-df-quickchart-complete:disabled,\n",
              "  .colab-df-quickchart-complete:disabled:hover {\n",
              "    background-color: var(--disabled-bg-color);\n",
              "    fill: var(--disabled-fill-color);\n",
              "    box-shadow: none;\n",
              "  }\n",
              "\n",
              "  .colab-df-spinner {\n",
              "    border: 2px solid var(--fill-color);\n",
              "    border-color: transparent;\n",
              "    border-bottom-color: var(--fill-color);\n",
              "    animation:\n",
              "      spin 1s steps(1) infinite;\n",
              "  }\n",
              "\n",
              "  @keyframes spin {\n",
              "    0% {\n",
              "      border-color: transparent;\n",
              "      border-bottom-color: var(--fill-color);\n",
              "      border-left-color: var(--fill-color);\n",
              "    }\n",
              "    20% {\n",
              "      border-color: transparent;\n",
              "      border-left-color: var(--fill-color);\n",
              "      border-top-color: var(--fill-color);\n",
              "    }\n",
              "    30% {\n",
              "      border-color: transparent;\n",
              "      border-left-color: var(--fill-color);\n",
              "      border-top-color: var(--fill-color);\n",
              "      border-right-color: var(--fill-color);\n",
              "    }\n",
              "    40% {\n",
              "      border-color: transparent;\n",
              "      border-right-color: var(--fill-color);\n",
              "      border-top-color: var(--fill-color);\n",
              "    }\n",
              "    60% {\n",
              "      border-color: transparent;\n",
              "      border-right-color: var(--fill-color);\n",
              "    }\n",
              "    80% {\n",
              "      border-color: transparent;\n",
              "      border-right-color: var(--fill-color);\n",
              "      border-bottom-color: var(--fill-color);\n",
              "    }\n",
              "    90% {\n",
              "      border-color: transparent;\n",
              "      border-bottom-color: var(--fill-color);\n",
              "    }\n",
              "  }\n",
              "</style>\n",
              "\n",
              "      <script>\n",
              "        async function quickchart(key) {\n",
              "          const quickchartButtonEl =\n",
              "            document.querySelector('#' + key + ' button');\n",
              "          quickchartButtonEl.disabled = true;  // To prevent multiple clicks.\n",
              "          quickchartButtonEl.classList.add('colab-df-spinner');\n",
              "          try {\n",
              "            const charts = await google.colab.kernel.invokeFunction(\n",
              "                'suggestCharts', [key], {});\n",
              "          } catch (error) {\n",
              "            console.error('Error during call to suggestCharts:', error);\n",
              "          }\n",
              "          quickchartButtonEl.classList.remove('colab-df-spinner');\n",
              "          quickchartButtonEl.classList.add('colab-df-quickchart-complete');\n",
              "        }\n",
              "        (() => {\n",
              "          let quickchartButtonEl =\n",
              "            document.querySelector('#df-986e348e-47ca-40f8-8ac7-7e4435fbe22e button');\n",
              "          quickchartButtonEl.style.display =\n",
              "            google.colab.kernel.accessAllowed ? 'block' : 'none';\n",
              "        })();\n",
              "      </script>\n",
              "    </div>\n",
              "\n",
              "    </div>\n",
              "  </div>\n"
            ],
            "application/vnd.google.colaboratory.intrinsic+json": {
              "type": "dataframe",
              "variable_name": "inp0",
              "summary": "{\n  \"name\": \"inp0\",\n  \"rows\": 479,\n  \"fields\": [\n    {\n      \"column\": \"Dress_ID\",\n      \"properties\": {\n        \"dtype\": \"number\",\n        \"std\": 182235169,\n        \"min\": 123456789,\n        \"max\": 1253973206,\n        \"num_unique_values\": 479,\n        \"samples\": [\n          1118628066,\n          1219677488,\n          743729613\n        ],\n        \"semantic_type\": \"\",\n        \"description\": \"\"\n      }\n    },\n    {\n      \"column\": \"Style\",\n      \"properties\": {\n        \"dtype\": \"category\",\n        \"num_unique_values\": 13,\n        \"samples\": [\n          \"OL\",\n          \"Novelty\",\n          \"Sexy\"\n        ],\n        \"semantic_type\": \"\",\n        \"description\": \"\"\n      }\n    },\n    {\n      \"column\": \"Price\",\n      \"properties\": {\n        \"dtype\": \"category\",\n        \"num_unique_values\": 5,\n        \"samples\": [\n          \"High\",\n          \"very-high\",\n          \"Average\"\n        ],\n        \"semantic_type\": \"\",\n        \"description\": \"\"\n      }\n    },\n    {\n      \"column\": \"Rating\",\n      \"properties\": {\n        \"dtype\": \"number\",\n        \"std\": 2.028941073943482,\n        \"min\": 0.0,\n        \"max\": 5.0,\n        \"num_unique_values\": 17,\n        \"samples\": [\n          4.6,\n          0.0,\n          4.8\n        ],\n        \"semantic_type\": \"\",\n        \"description\": \"\"\n      }\n    },\n    {\n      \"column\": \"Size\",\n      \"properties\": {\n        \"dtype\": \"category\",\n        \"num_unique_values\": 5,\n        \"samples\": [\n          \"Large\",\n          \"Small\",\n          \"Extra Large\"\n        ],\n        \"semantic_type\": \"\",\n        \"description\": \"\"\n      }\n    },\n    {\n      \"column\": \"Season\",\n      \"properties\": {\n        \"dtype\": \"category\",\n        \"num_unique_values\": 7,\n        \"samples\": [\n          \"Summer\",\n          \"Automn\",\n          \"winter\"\n        ],\n        \"semantic_type\": \"\",\n        \"description\": \"\"\n      }\n    },\n    {\n      \"column\": \"NeckLine\",\n      \"properties\": {\n        \"dtype\": \"category\",\n        \"num_unique_values\": 16,\n        \"samples\": [\n          \"o-neck\",\n          \"v-neck\",\n          \"turndowncollor\"\n        ],\n        \"semantic_type\": \"\",\n        \"description\": \"\"\n      }\n    },\n    {\n      \"column\": \"SleeveLength\",\n      \"properties\": {\n        \"dtype\": \"category\",\n        \"num_unique_values\": 17,\n        \"samples\": [\n          \"sleevless\",\n          \"Petal\",\n          \"threequarter\"\n        ],\n        \"semantic_type\": \"\",\n        \"description\": \"\"\n      }\n    },\n    {\n      \"column\": \"Material\",\n      \"properties\": {\n        \"dtype\": \"category\",\n        \"num_unique_values\": 22,\n        \"samples\": [\n          \"microfiber\",\n          \"spandex\",\n          \"linen\"\n        ],\n        \"semantic_type\": \"\",\n        \"description\": \"\"\n      }\n    },\n    {\n      \"column\": \"FabricType\",\n      \"properties\": {\n        \"dtype\": \"category\",\n        \"num_unique_values\": 22,\n        \"samples\": [\n          \"chiffon\",\n          \"tulle\",\n          \"woolen\"\n        ],\n        \"semantic_type\": \"\",\n        \"description\": \"\"\n      }\n    },\n    {\n      \"column\": \"Decoration\",\n      \"properties\": {\n        \"dtype\": \"category\",\n        \"num_unique_values\": 24,\n        \"samples\": [\n          \"sequined\",\n          \"pleat\",\n          \"ruffles\"\n        ],\n        \"semantic_type\": \"\",\n        \"description\": \"\"\n      }\n    },\n    {\n      \"column\": \"Pattern Type\",\n      \"properties\": {\n        \"dtype\": \"category\",\n        \"num_unique_values\": 14,\n        \"samples\": [\n          \"floral\",\n          \"splice\",\n          \"animal\"\n        ],\n        \"semantic_type\": \"\",\n        \"description\": \"\"\n      }\n    },\n    {\n      \"column\": \"Recommendation\",\n      \"properties\": {\n        \"dtype\": \"number\",\n        \"std\": 0,\n        \"min\": 0,\n        \"max\": 1,\n        \"num_unique_values\": 2,\n        \"samples\": [\n          0,\n          1\n        ],\n        \"semantic_type\": \"\",\n        \"description\": \"\"\n      }\n    },\n    {\n      \"column\": \"Summer\",\n      \"properties\": {\n        \"dtype\": \"number\",\n        \"std\": 2976.99395911954,\n        \"min\": 2.0,\n        \"max\": 35577.0,\n        \"num_unique_values\": 415,\n        \"samples\": [\n          2456.0,\n          1923.0\n        ],\n        \"semantic_type\": \"\",\n        \"description\": \"\"\n      }\n    },\n    {\n      \"column\": \"Autumn\",\n      \"properties\": {\n        \"dtype\": \"number\",\n        \"std\": 5010.790795535449,\n        \"min\": 1.0,\n        \"max\": 55532.0,\n        \"num_unique_values\": 443,\n        \"samples\": [\n          372.0,\n          546.0\n        ],\n        \"semantic_type\": \"\",\n        \"description\": \"\"\n      }\n    },\n    {\n      \"column\": \"Winter\",\n      \"properties\": {\n        \"dtype\": \"number\",\n        \"std\": 1851.6912440343358,\n        \"min\": 0.0,\n        \"max\": 20388.0,\n        \"num_unique_values\": 396,\n        \"samples\": [\n          1384.0,\n          76.0\n        ],\n        \"semantic_type\": \"\",\n        \"description\": \"\"\n      }\n    },\n    {\n      \"column\": \"Spring\",\n      \"properties\": {\n        \"dtype\": \"number\",\n        \"std\": 601.7165145282377,\n        \"min\": 1.0,\n        \"max\": 7374.0,\n        \"num_unique_values\": 292,\n        \"samples\": [\n          675.0,\n          10.0\n        ],\n        \"semantic_type\": \"\",\n        \"description\": \"\"\n      }\n    }\n  ]\n}"
            }
          },
          "metadata": {},
          "execution_count": 78
        }
      ],
      "source": [
        "inp0.head()"
      ]
    },
    {
      "cell_type": "code",
      "execution_count": null,
      "metadata": {
        "id": "k0Qhvw009rWn"
      },
      "outputs": [],
      "source": [
        "# Print the null count of each columns in inp0 dataframe i.e. combined data frame of inp0 and inp1 without date columns.\n"
      ]
    },
    {
      "cell_type": "code",
      "execution_count": null,
      "metadata": {
        "colab": {
          "base_uri": "https://localhost:8080/",
          "height": 617
        },
        "id": "kDHoi8yN9rWn",
        "outputId": "980d24e3-5314-4696-b63c-884df22b5d7b"
      },
      "outputs": [
        {
          "output_type": "execute_result",
          "data": {
            "text/plain": [
              "Dress_ID            0\n",
              "Style               0\n",
              "Price               2\n",
              "Rating              0\n",
              "Size                0\n",
              "Season              2\n",
              "NeckLine            3\n",
              "SleeveLength        2\n",
              "Material          119\n",
              "FabricType        256\n",
              "Decoration        224\n",
              "Pattern Type      102\n",
              "Recommendation      0\n",
              "Summer              0\n",
              "Autumn              2\n",
              "Winter              1\n",
              "Spring              0\n",
              "dtype: int64"
            ],
            "text/html": [
              "<div>\n",
              "<style scoped>\n",
              "    .dataframe tbody tr th:only-of-type {\n",
              "        vertical-align: middle;\n",
              "    }\n",
              "\n",
              "    .dataframe tbody tr th {\n",
              "        vertical-align: top;\n",
              "    }\n",
              "\n",
              "    .dataframe thead th {\n",
              "        text-align: right;\n",
              "    }\n",
              "</style>\n",
              "<table border=\"1\" class=\"dataframe\">\n",
              "  <thead>\n",
              "    <tr style=\"text-align: right;\">\n",
              "      <th></th>\n",
              "      <th>0</th>\n",
              "    </tr>\n",
              "  </thead>\n",
              "  <tbody>\n",
              "    <tr>\n",
              "      <th>Dress_ID</th>\n",
              "      <td>0</td>\n",
              "    </tr>\n",
              "    <tr>\n",
              "      <th>Style</th>\n",
              "      <td>0</td>\n",
              "    </tr>\n",
              "    <tr>\n",
              "      <th>Price</th>\n",
              "      <td>2</td>\n",
              "    </tr>\n",
              "    <tr>\n",
              "      <th>Rating</th>\n",
              "      <td>0</td>\n",
              "    </tr>\n",
              "    <tr>\n",
              "      <th>Size</th>\n",
              "      <td>0</td>\n",
              "    </tr>\n",
              "    <tr>\n",
              "      <th>Season</th>\n",
              "      <td>2</td>\n",
              "    </tr>\n",
              "    <tr>\n",
              "      <th>NeckLine</th>\n",
              "      <td>3</td>\n",
              "    </tr>\n",
              "    <tr>\n",
              "      <th>SleeveLength</th>\n",
              "      <td>2</td>\n",
              "    </tr>\n",
              "    <tr>\n",
              "      <th>Material</th>\n",
              "      <td>119</td>\n",
              "    </tr>\n",
              "    <tr>\n",
              "      <th>FabricType</th>\n",
              "      <td>256</td>\n",
              "    </tr>\n",
              "    <tr>\n",
              "      <th>Decoration</th>\n",
              "      <td>224</td>\n",
              "    </tr>\n",
              "    <tr>\n",
              "      <th>Pattern Type</th>\n",
              "      <td>102</td>\n",
              "    </tr>\n",
              "    <tr>\n",
              "      <th>Recommendation</th>\n",
              "      <td>0</td>\n",
              "    </tr>\n",
              "    <tr>\n",
              "      <th>Summer</th>\n",
              "      <td>0</td>\n",
              "    </tr>\n",
              "    <tr>\n",
              "      <th>Autumn</th>\n",
              "      <td>2</td>\n",
              "    </tr>\n",
              "    <tr>\n",
              "      <th>Winter</th>\n",
              "      <td>1</td>\n",
              "    </tr>\n",
              "    <tr>\n",
              "      <th>Spring</th>\n",
              "      <td>0</td>\n",
              "    </tr>\n",
              "  </tbody>\n",
              "</table>\n",
              "</div><br><label><b>dtype:</b> int64</label>"
            ]
          },
          "metadata": {},
          "execution_count": 80
        }
      ],
      "source": [
        "inp0.isnull().sum()"
      ]
    },
    {
      "cell_type": "markdown",
      "metadata": {
        "id": "s5ubfmbQ9rWn"
      },
      "source": [
        "You can see that there are two types of variables one with a large number of missing values and another is very less number of missing values. These two columns can be categorized as:\n",
        "\n",
        "Type-1: Missing values are very less (around 2 or 3 missing values): Price, Season, NeckLine, SleeveLength, Winter and Autumn.\n",
        "\n",
        "Type-2: Missing values are large in numbers (more than 15%): Material, FabricType, Decoration and Pattern Type.\n",
        "\n"
      ]
    },
    {
      "cell_type": "code",
      "execution_count": null,
      "metadata": {
        "id": "NILOQetb9rWn"
      },
      "outputs": [],
      "source": [
        "# Deal with the missing values of Type-1 columns: Price, Season, NeckLine, SleeveLength, Winter and Autumn.\n"
      ]
    },
    {
      "cell_type": "code",
      "execution_count": null,
      "metadata": {
        "id": "k8Kr0E4-9rWn"
      },
      "outputs": [],
      "source": []
    },
    {
      "cell_type": "code",
      "execution_count": null,
      "metadata": {
        "id": "eFU8ZR7W9rWn"
      },
      "outputs": [],
      "source": [
        "# Deal with the missing values for Type-2 columns: Material, FabricType, Decoration and Pattern Type.\n"
      ]
    },
    {
      "cell_type": "code",
      "execution_count": null,
      "metadata": {
        "id": "1OZLCjZJ9rWn"
      },
      "outputs": [],
      "source": [
        "import pandas as pd\n",
        "\n",
        "# Assuming your DataFrame is named 'inp0'\n",
        "\n",
        "# Impute numerical columns with the median\n",
        "numerical_cols = ['Winter', 'Autumn']\n",
        "for col in numerical_cols:\n",
        "    inp0[col] = inp0[col].fillna(inp0[col].median())\n",
        "\n",
        "# Impute categorical columns with the mode\n",
        "categorical_cols = ['Season', 'NeckLine', 'SleeveLength']\n",
        "for col in categorical_cols:\n",
        "    inp0[col] = inp0[col].fillna(inp0[col].mode()[0])  # Use mode()[0] to get the most frequent value\n",
        "\n",
        "# Print the updated DataFrame (optional)\n",
        "# print(inp0)"
      ]
    },
    {
      "cell_type": "code",
      "execution_count": null,
      "metadata": {
        "colab": {
          "base_uri": "https://localhost:8080/",
          "height": 243
        },
        "id": "Ih3h2l7E9rWn",
        "outputId": "39a62492-85d5-47e5-84c8-5dadce6a92f3"
      },
      "outputs": [
        {
          "output_type": "execute_result",
          "data": {
            "text/plain": [
              "     Dress_ID    Style    Price  Rating    Size  Season NeckLine SleeveLength  \\\n",
              "0  1006032852     Sexy      Low     4.6  Medium  Summer   o-neck    sleevless   \n",
              "1  1212192089   Casual      Low     0.0   Large  Summer   o-neck        Petal   \n",
              "2  1190380701  vintage     High     0.0   Large  Automn   o-neck         full   \n",
              "3   966005983    Brief  Average     4.6   Large  Spring   o-neck         full   \n",
              "4   876339541     cute      Low     4.5  Medium  Summer   o-neck    butterfly   \n",
              "\n",
              "        Material FabricType  Decoration Pattern Type  Recommendation   Summer  \\\n",
              "0            NaN    chiffon     ruffles       animal               1  13899.0   \n",
              "1     microfiber        NaN     ruffles       animal               0   6216.0   \n",
              "2       polyster        NaN         NaN        print               0     40.0   \n",
              "3           silk    chiffon  embroidary        print               1   7213.0   \n",
              "4  chiffonfabric    chiffon         bow          dot               0   7706.0   \n",
              "\n",
              "    Autumn  Winter  Spring  \n",
              "0  26857.0  9658.0  2660.0  \n",
              "1  17311.0  6405.0   750.0  \n",
              "2     82.0    28.0     7.0  \n",
              "3  14411.0  5012.0  1455.0  \n",
              "4  14676.0  5678.0  1396.0  "
            ],
            "text/html": [
              "\n",
              "  <div id=\"df-799dcacb-2e0e-4cbd-8832-dcf4e5a44a5d\" class=\"colab-df-container\">\n",
              "    <div>\n",
              "<style scoped>\n",
              "    .dataframe tbody tr th:only-of-type {\n",
              "        vertical-align: middle;\n",
              "    }\n",
              "\n",
              "    .dataframe tbody tr th {\n",
              "        vertical-align: top;\n",
              "    }\n",
              "\n",
              "    .dataframe thead th {\n",
              "        text-align: right;\n",
              "    }\n",
              "</style>\n",
              "<table border=\"1\" class=\"dataframe\">\n",
              "  <thead>\n",
              "    <tr style=\"text-align: right;\">\n",
              "      <th></th>\n",
              "      <th>Dress_ID</th>\n",
              "      <th>Style</th>\n",
              "      <th>Price</th>\n",
              "      <th>Rating</th>\n",
              "      <th>Size</th>\n",
              "      <th>Season</th>\n",
              "      <th>NeckLine</th>\n",
              "      <th>SleeveLength</th>\n",
              "      <th>Material</th>\n",
              "      <th>FabricType</th>\n",
              "      <th>Decoration</th>\n",
              "      <th>Pattern Type</th>\n",
              "      <th>Recommendation</th>\n",
              "      <th>Summer</th>\n",
              "      <th>Autumn</th>\n",
              "      <th>Winter</th>\n",
              "      <th>Spring</th>\n",
              "    </tr>\n",
              "  </thead>\n",
              "  <tbody>\n",
              "    <tr>\n",
              "      <th>0</th>\n",
              "      <td>1006032852</td>\n",
              "      <td>Sexy</td>\n",
              "      <td>Low</td>\n",
              "      <td>4.6</td>\n",
              "      <td>Medium</td>\n",
              "      <td>Summer</td>\n",
              "      <td>o-neck</td>\n",
              "      <td>sleevless</td>\n",
              "      <td>NaN</td>\n",
              "      <td>chiffon</td>\n",
              "      <td>ruffles</td>\n",
              "      <td>animal</td>\n",
              "      <td>1</td>\n",
              "      <td>13899.0</td>\n",
              "      <td>26857.0</td>\n",
              "      <td>9658.0</td>\n",
              "      <td>2660.0</td>\n",
              "    </tr>\n",
              "    <tr>\n",
              "      <th>1</th>\n",
              "      <td>1212192089</td>\n",
              "      <td>Casual</td>\n",
              "      <td>Low</td>\n",
              "      <td>0.0</td>\n",
              "      <td>Large</td>\n",
              "      <td>Summer</td>\n",
              "      <td>o-neck</td>\n",
              "      <td>Petal</td>\n",
              "      <td>microfiber</td>\n",
              "      <td>NaN</td>\n",
              "      <td>ruffles</td>\n",
              "      <td>animal</td>\n",
              "      <td>0</td>\n",
              "      <td>6216.0</td>\n",
              "      <td>17311.0</td>\n",
              "      <td>6405.0</td>\n",
              "      <td>750.0</td>\n",
              "    </tr>\n",
              "    <tr>\n",
              "      <th>2</th>\n",
              "      <td>1190380701</td>\n",
              "      <td>vintage</td>\n",
              "      <td>High</td>\n",
              "      <td>0.0</td>\n",
              "      <td>Large</td>\n",
              "      <td>Automn</td>\n",
              "      <td>o-neck</td>\n",
              "      <td>full</td>\n",
              "      <td>polyster</td>\n",
              "      <td>NaN</td>\n",
              "      <td>NaN</td>\n",
              "      <td>print</td>\n",
              "      <td>0</td>\n",
              "      <td>40.0</td>\n",
              "      <td>82.0</td>\n",
              "      <td>28.0</td>\n",
              "      <td>7.0</td>\n",
              "    </tr>\n",
              "    <tr>\n",
              "      <th>3</th>\n",
              "      <td>966005983</td>\n",
              "      <td>Brief</td>\n",
              "      <td>Average</td>\n",
              "      <td>4.6</td>\n",
              "      <td>Large</td>\n",
              "      <td>Spring</td>\n",
              "      <td>o-neck</td>\n",
              "      <td>full</td>\n",
              "      <td>silk</td>\n",
              "      <td>chiffon</td>\n",
              "      <td>embroidary</td>\n",
              "      <td>print</td>\n",
              "      <td>1</td>\n",
              "      <td>7213.0</td>\n",
              "      <td>14411.0</td>\n",
              "      <td>5012.0</td>\n",
              "      <td>1455.0</td>\n",
              "    </tr>\n",
              "    <tr>\n",
              "      <th>4</th>\n",
              "      <td>876339541</td>\n",
              "      <td>cute</td>\n",
              "      <td>Low</td>\n",
              "      <td>4.5</td>\n",
              "      <td>Medium</td>\n",
              "      <td>Summer</td>\n",
              "      <td>o-neck</td>\n",
              "      <td>butterfly</td>\n",
              "      <td>chiffonfabric</td>\n",
              "      <td>chiffon</td>\n",
              "      <td>bow</td>\n",
              "      <td>dot</td>\n",
              "      <td>0</td>\n",
              "      <td>7706.0</td>\n",
              "      <td>14676.0</td>\n",
              "      <td>5678.0</td>\n",
              "      <td>1396.0</td>\n",
              "    </tr>\n",
              "  </tbody>\n",
              "</table>\n",
              "</div>\n",
              "    <div class=\"colab-df-buttons\">\n",
              "\n",
              "  <div class=\"colab-df-container\">\n",
              "    <button class=\"colab-df-convert\" onclick=\"convertToInteractive('df-799dcacb-2e0e-4cbd-8832-dcf4e5a44a5d')\"\n",
              "            title=\"Convert this dataframe to an interactive table.\"\n",
              "            style=\"display:none;\">\n",
              "\n",
              "  <svg xmlns=\"http://www.w3.org/2000/svg\" height=\"24px\" viewBox=\"0 -960 960 960\">\n",
              "    <path d=\"M120-120v-720h720v720H120Zm60-500h600v-160H180v160Zm220 220h160v-160H400v160Zm0 220h160v-160H400v160ZM180-400h160v-160H180v160Zm440 0h160v-160H620v160ZM180-180h160v-160H180v160Zm440 0h160v-160H620v160Z\"/>\n",
              "  </svg>\n",
              "    </button>\n",
              "\n",
              "  <style>\n",
              "    .colab-df-container {\n",
              "      display:flex;\n",
              "      gap: 12px;\n",
              "    }\n",
              "\n",
              "    .colab-df-convert {\n",
              "      background-color: #E8F0FE;\n",
              "      border: none;\n",
              "      border-radius: 50%;\n",
              "      cursor: pointer;\n",
              "      display: none;\n",
              "      fill: #1967D2;\n",
              "      height: 32px;\n",
              "      padding: 0 0 0 0;\n",
              "      width: 32px;\n",
              "    }\n",
              "\n",
              "    .colab-df-convert:hover {\n",
              "      background-color: #E2EBFA;\n",
              "      box-shadow: 0px 1px 2px rgba(60, 64, 67, 0.3), 0px 1px 3px 1px rgba(60, 64, 67, 0.15);\n",
              "      fill: #174EA6;\n",
              "    }\n",
              "\n",
              "    .colab-df-buttons div {\n",
              "      margin-bottom: 4px;\n",
              "    }\n",
              "\n",
              "    [theme=dark] .colab-df-convert {\n",
              "      background-color: #3B4455;\n",
              "      fill: #D2E3FC;\n",
              "    }\n",
              "\n",
              "    [theme=dark] .colab-df-convert:hover {\n",
              "      background-color: #434B5C;\n",
              "      box-shadow: 0px 1px 3px 1px rgba(0, 0, 0, 0.15);\n",
              "      filter: drop-shadow(0px 1px 2px rgba(0, 0, 0, 0.3));\n",
              "      fill: #FFFFFF;\n",
              "    }\n",
              "  </style>\n",
              "\n",
              "    <script>\n",
              "      const buttonEl =\n",
              "        document.querySelector('#df-799dcacb-2e0e-4cbd-8832-dcf4e5a44a5d button.colab-df-convert');\n",
              "      buttonEl.style.display =\n",
              "        google.colab.kernel.accessAllowed ? 'block' : 'none';\n",
              "\n",
              "      async function convertToInteractive(key) {\n",
              "        const element = document.querySelector('#df-799dcacb-2e0e-4cbd-8832-dcf4e5a44a5d');\n",
              "        const dataTable =\n",
              "          await google.colab.kernel.invokeFunction('convertToInteractive',\n",
              "                                                    [key], {});\n",
              "        if (!dataTable) return;\n",
              "\n",
              "        const docLinkHtml = 'Like what you see? Visit the ' +\n",
              "          '<a target=\"_blank\" href=https://colab.research.google.com/notebooks/data_table.ipynb>data table notebook</a>'\n",
              "          + ' to learn more about interactive tables.';\n",
              "        element.innerHTML = '';\n",
              "        dataTable['output_type'] = 'display_data';\n",
              "        await google.colab.output.renderOutput(dataTable, element);\n",
              "        const docLink = document.createElement('div');\n",
              "        docLink.innerHTML = docLinkHtml;\n",
              "        element.appendChild(docLink);\n",
              "      }\n",
              "    </script>\n",
              "  </div>\n",
              "\n",
              "\n",
              "    <div id=\"df-43bbb937-62ff-4af5-acc5-e573f5b9bec7\">\n",
              "      <button class=\"colab-df-quickchart\" onclick=\"quickchart('df-43bbb937-62ff-4af5-acc5-e573f5b9bec7')\"\n",
              "                title=\"Suggest charts\"\n",
              "                style=\"display:none;\">\n",
              "\n",
              "<svg xmlns=\"http://www.w3.org/2000/svg\" height=\"24px\"viewBox=\"0 0 24 24\"\n",
              "     width=\"24px\">\n",
              "    <g>\n",
              "        <path d=\"M19 3H5c-1.1 0-2 .9-2 2v14c0 1.1.9 2 2 2h14c1.1 0 2-.9 2-2V5c0-1.1-.9-2-2-2zM9 17H7v-7h2v7zm4 0h-2V7h2v10zm4 0h-2v-4h2v4z\"/>\n",
              "    </g>\n",
              "</svg>\n",
              "      </button>\n",
              "\n",
              "<style>\n",
              "  .colab-df-quickchart {\n",
              "      --bg-color: #E8F0FE;\n",
              "      --fill-color: #1967D2;\n",
              "      --hover-bg-color: #E2EBFA;\n",
              "      --hover-fill-color: #174EA6;\n",
              "      --disabled-fill-color: #AAA;\n",
              "      --disabled-bg-color: #DDD;\n",
              "  }\n",
              "\n",
              "  [theme=dark] .colab-df-quickchart {\n",
              "      --bg-color: #3B4455;\n",
              "      --fill-color: #D2E3FC;\n",
              "      --hover-bg-color: #434B5C;\n",
              "      --hover-fill-color: #FFFFFF;\n",
              "      --disabled-bg-color: #3B4455;\n",
              "      --disabled-fill-color: #666;\n",
              "  }\n",
              "\n",
              "  .colab-df-quickchart {\n",
              "    background-color: var(--bg-color);\n",
              "    border: none;\n",
              "    border-radius: 50%;\n",
              "    cursor: pointer;\n",
              "    display: none;\n",
              "    fill: var(--fill-color);\n",
              "    height: 32px;\n",
              "    padding: 0;\n",
              "    width: 32px;\n",
              "  }\n",
              "\n",
              "  .colab-df-quickchart:hover {\n",
              "    background-color: var(--hover-bg-color);\n",
              "    box-shadow: 0 1px 2px rgba(60, 64, 67, 0.3), 0 1px 3px 1px rgba(60, 64, 67, 0.15);\n",
              "    fill: var(--button-hover-fill-color);\n",
              "  }\n",
              "\n",
              "  .colab-df-quickchart-complete:disabled,\n",
              "  .colab-df-quickchart-complete:disabled:hover {\n",
              "    background-color: var(--disabled-bg-color);\n",
              "    fill: var(--disabled-fill-color);\n",
              "    box-shadow: none;\n",
              "  }\n",
              "\n",
              "  .colab-df-spinner {\n",
              "    border: 2px solid var(--fill-color);\n",
              "    border-color: transparent;\n",
              "    border-bottom-color: var(--fill-color);\n",
              "    animation:\n",
              "      spin 1s steps(1) infinite;\n",
              "  }\n",
              "\n",
              "  @keyframes spin {\n",
              "    0% {\n",
              "      border-color: transparent;\n",
              "      border-bottom-color: var(--fill-color);\n",
              "      border-left-color: var(--fill-color);\n",
              "    }\n",
              "    20% {\n",
              "      border-color: transparent;\n",
              "      border-left-color: var(--fill-color);\n",
              "      border-top-color: var(--fill-color);\n",
              "    }\n",
              "    30% {\n",
              "      border-color: transparent;\n",
              "      border-left-color: var(--fill-color);\n",
              "      border-top-color: var(--fill-color);\n",
              "      border-right-color: var(--fill-color);\n",
              "    }\n",
              "    40% {\n",
              "      border-color: transparent;\n",
              "      border-right-color: var(--fill-color);\n",
              "      border-top-color: var(--fill-color);\n",
              "    }\n",
              "    60% {\n",
              "      border-color: transparent;\n",
              "      border-right-color: var(--fill-color);\n",
              "    }\n",
              "    80% {\n",
              "      border-color: transparent;\n",
              "      border-right-color: var(--fill-color);\n",
              "      border-bottom-color: var(--fill-color);\n",
              "    }\n",
              "    90% {\n",
              "      border-color: transparent;\n",
              "      border-bottom-color: var(--fill-color);\n",
              "    }\n",
              "  }\n",
              "</style>\n",
              "\n",
              "      <script>\n",
              "        async function quickchart(key) {\n",
              "          const quickchartButtonEl =\n",
              "            document.querySelector('#' + key + ' button');\n",
              "          quickchartButtonEl.disabled = true;  // To prevent multiple clicks.\n",
              "          quickchartButtonEl.classList.add('colab-df-spinner');\n",
              "          try {\n",
              "            const charts = await google.colab.kernel.invokeFunction(\n",
              "                'suggestCharts', [key], {});\n",
              "          } catch (error) {\n",
              "            console.error('Error during call to suggestCharts:', error);\n",
              "          }\n",
              "          quickchartButtonEl.classList.remove('colab-df-spinner');\n",
              "          quickchartButtonEl.classList.add('colab-df-quickchart-complete');\n",
              "        }\n",
              "        (() => {\n",
              "          let quickchartButtonEl =\n",
              "            document.querySelector('#df-43bbb937-62ff-4af5-acc5-e573f5b9bec7 button');\n",
              "          quickchartButtonEl.style.display =\n",
              "            google.colab.kernel.accessAllowed ? 'block' : 'none';\n",
              "        })();\n",
              "      </script>\n",
              "    </div>\n",
              "\n",
              "    </div>\n",
              "  </div>\n"
            ],
            "application/vnd.google.colaboratory.intrinsic+json": {
              "type": "dataframe",
              "variable_name": "inp0",
              "summary": "{\n  \"name\": \"inp0\",\n  \"rows\": 479,\n  \"fields\": [\n    {\n      \"column\": \"Dress_ID\",\n      \"properties\": {\n        \"dtype\": \"number\",\n        \"std\": 182235169,\n        \"min\": 123456789,\n        \"max\": 1253973206,\n        \"num_unique_values\": 479,\n        \"samples\": [\n          1118628066,\n          1219677488,\n          743729613\n        ],\n        \"semantic_type\": \"\",\n        \"description\": \"\"\n      }\n    },\n    {\n      \"column\": \"Style\",\n      \"properties\": {\n        \"dtype\": \"category\",\n        \"num_unique_values\": 13,\n        \"samples\": [\n          \"OL\",\n          \"Novelty\",\n          \"Sexy\"\n        ],\n        \"semantic_type\": \"\",\n        \"description\": \"\"\n      }\n    },\n    {\n      \"column\": \"Price\",\n      \"properties\": {\n        \"dtype\": \"category\",\n        \"num_unique_values\": 5,\n        \"samples\": [\n          \"High\",\n          \"very-high\",\n          \"Average\"\n        ],\n        \"semantic_type\": \"\",\n        \"description\": \"\"\n      }\n    },\n    {\n      \"column\": \"Rating\",\n      \"properties\": {\n        \"dtype\": \"number\",\n        \"std\": 2.028941073943482,\n        \"min\": 0.0,\n        \"max\": 5.0,\n        \"num_unique_values\": 17,\n        \"samples\": [\n          4.6,\n          0.0,\n          4.8\n        ],\n        \"semantic_type\": \"\",\n        \"description\": \"\"\n      }\n    },\n    {\n      \"column\": \"Size\",\n      \"properties\": {\n        \"dtype\": \"category\",\n        \"num_unique_values\": 5,\n        \"samples\": [\n          \"Large\",\n          \"Small\",\n          \"Extra Large\"\n        ],\n        \"semantic_type\": \"\",\n        \"description\": \"\"\n      }\n    },\n    {\n      \"column\": \"Season\",\n      \"properties\": {\n        \"dtype\": \"category\",\n        \"num_unique_values\": 7,\n        \"samples\": [\n          \"Summer\",\n          \"Automn\",\n          \"winter\"\n        ],\n        \"semantic_type\": \"\",\n        \"description\": \"\"\n      }\n    },\n    {\n      \"column\": \"NeckLine\",\n      \"properties\": {\n        \"dtype\": \"category\",\n        \"num_unique_values\": 16,\n        \"samples\": [\n          \"o-neck\",\n          \"v-neck\",\n          \"turndowncollor\"\n        ],\n        \"semantic_type\": \"\",\n        \"description\": \"\"\n      }\n    },\n    {\n      \"column\": \"SleeveLength\",\n      \"properties\": {\n        \"dtype\": \"category\",\n        \"num_unique_values\": 17,\n        \"samples\": [\n          \"sleevless\",\n          \"Petal\",\n          \"threequarter\"\n        ],\n        \"semantic_type\": \"\",\n        \"description\": \"\"\n      }\n    },\n    {\n      \"column\": \"Material\",\n      \"properties\": {\n        \"dtype\": \"category\",\n        \"num_unique_values\": 22,\n        \"samples\": [\n          \"microfiber\",\n          \"spandex\",\n          \"linen\"\n        ],\n        \"semantic_type\": \"\",\n        \"description\": \"\"\n      }\n    },\n    {\n      \"column\": \"FabricType\",\n      \"properties\": {\n        \"dtype\": \"category\",\n        \"num_unique_values\": 22,\n        \"samples\": [\n          \"chiffon\",\n          \"tulle\",\n          \"woolen\"\n        ],\n        \"semantic_type\": \"\",\n        \"description\": \"\"\n      }\n    },\n    {\n      \"column\": \"Decoration\",\n      \"properties\": {\n        \"dtype\": \"category\",\n        \"num_unique_values\": 24,\n        \"samples\": [\n          \"sequined\",\n          \"pleat\",\n          \"ruffles\"\n        ],\n        \"semantic_type\": \"\",\n        \"description\": \"\"\n      }\n    },\n    {\n      \"column\": \"Pattern Type\",\n      \"properties\": {\n        \"dtype\": \"category\",\n        \"num_unique_values\": 14,\n        \"samples\": [\n          \"floral\",\n          \"splice\",\n          \"animal\"\n        ],\n        \"semantic_type\": \"\",\n        \"description\": \"\"\n      }\n    },\n    {\n      \"column\": \"Recommendation\",\n      \"properties\": {\n        \"dtype\": \"number\",\n        \"std\": 0,\n        \"min\": 0,\n        \"max\": 1,\n        \"num_unique_values\": 2,\n        \"samples\": [\n          0,\n          1\n        ],\n        \"semantic_type\": \"\",\n        \"description\": \"\"\n      }\n    },\n    {\n      \"column\": \"Summer\",\n      \"properties\": {\n        \"dtype\": \"number\",\n        \"std\": 2976.99395911954,\n        \"min\": 2.0,\n        \"max\": 35577.0,\n        \"num_unique_values\": 415,\n        \"samples\": [\n          2456.0,\n          1923.0\n        ],\n        \"semantic_type\": \"\",\n        \"description\": \"\"\n      }\n    },\n    {\n      \"column\": \"Autumn\",\n      \"properties\": {\n        \"dtype\": \"number\",\n        \"std\": 5001.245128180262,\n        \"min\": 1.0,\n        \"max\": 55532.0,\n        \"num_unique_values\": 443,\n        \"samples\": [\n          372.0,\n          546.0\n        ],\n        \"semantic_type\": \"\",\n        \"description\": \"\"\n      }\n    },\n    {\n      \"column\": \"Winter\",\n      \"properties\": {\n        \"dtype\": \"number\",\n        \"std\": 1849.950327087275,\n        \"min\": 0.0,\n        \"max\": 20388.0,\n        \"num_unique_values\": 397,\n        \"samples\": [\n          3769.0,\n          76.0\n        ],\n        \"semantic_type\": \"\",\n        \"description\": \"\"\n      }\n    },\n    {\n      \"column\": \"Spring\",\n      \"properties\": {\n        \"dtype\": \"number\",\n        \"std\": 601.7165145282377,\n        \"min\": 1.0,\n        \"max\": 7374.0,\n        \"num_unique_values\": 292,\n        \"samples\": [\n          675.0,\n          10.0\n        ],\n        \"semantic_type\": \"\",\n        \"description\": \"\"\n      }\n    }\n  ]\n}"
            }
          },
          "metadata": {},
          "execution_count": 84
        }
      ],
      "source": [
        "inp0.head()"
      ]
    },
    {
      "cell_type": "markdown",
      "metadata": {
        "id": "ki8T-uI59rWo"
      },
      "source": [
        "### Standardise value"
      ]
    },
    {
      "cell_type": "markdown",
      "metadata": {
        "id": "XRwmEhON9rWo"
      },
      "source": [
        "In the given dataset, there are certain discrepancies with the categorical names such as irregular spellings. Choose the correct option of columns with irregular categories and update them.\n",
        "\n",
        "- Season, NeckLine\n",
        "- Price, Material\n",
        "- fabricType, Decoration\n",
        "- Season, SleeveLength\n"
      ]
    },
    {
      "cell_type": "code",
      "execution_count": null,
      "metadata": {
        "id": "tAt0QZPw9rWo"
      },
      "outputs": [],
      "source": [
        "#correcting the spellings.\n"
      ]
    },
    {
      "cell_type": "code",
      "execution_count": null,
      "metadata": {
        "id": "tEi3GQvG9rWo"
      },
      "outputs": [],
      "source": [
        "inp0['Season'] = inp0['Season'].replace({'spring': 'Spring', 'summer': 'Summer', 'Automn': 'Autumn', 'winter': 'Winter'})\n",
        "inp0['SleeveLength'] = inp0['SleeveLength'].replace({\n",
        "    'sleevless': 'sleeveless',\n",
        "    'sleveless': 'sleeveless',\n",
        "    'threequater': 'threequarter',\n",
        "    'thressqatar': 'threequarter',\n",
        "    'urmshoulder': 'murdershoulder'\n",
        "})"
      ]
    },
    {
      "cell_type": "code",
      "execution_count": null,
      "metadata": {
        "colab": {
          "base_uri": "https://localhost:8080/",
          "height": 243
        },
        "id": "uvhq_uVt9rWo",
        "outputId": "77dbab6a-4591-419f-df61-9f8dd45b5c8f"
      },
      "outputs": [
        {
          "output_type": "execute_result",
          "data": {
            "text/plain": [
              "     Dress_ID    Style    Price  Rating    Size  Season NeckLine SleeveLength  \\\n",
              "0  1006032852     Sexy      Low     4.6  Medium  Summer   o-neck   sleeveless   \n",
              "1  1212192089   Casual      Low     0.0   Large  Summer   o-neck        Petal   \n",
              "2  1190380701  vintage     High     0.0   Large  Autumn   o-neck         full   \n",
              "3   966005983    Brief  Average     4.6   Large  Spring   o-neck         full   \n",
              "4   876339541     cute      Low     4.5  Medium  Summer   o-neck    butterfly   \n",
              "\n",
              "        Material FabricType  Decoration Pattern Type  Recommendation   Summer  \\\n",
              "0            NaN    chiffon     ruffles       animal               1  13899.0   \n",
              "1     microfiber        NaN     ruffles       animal               0   6216.0   \n",
              "2       polyster        NaN         NaN        print               0     40.0   \n",
              "3           silk    chiffon  embroidary        print               1   7213.0   \n",
              "4  chiffonfabric    chiffon         bow          dot               0   7706.0   \n",
              "\n",
              "    Autumn  Winter  Spring  \n",
              "0  26857.0  9658.0  2660.0  \n",
              "1  17311.0  6405.0   750.0  \n",
              "2     82.0    28.0     7.0  \n",
              "3  14411.0  5012.0  1455.0  \n",
              "4  14676.0  5678.0  1396.0  "
            ],
            "text/html": [
              "\n",
              "  <div id=\"df-e6a8f932-472e-487a-a2ac-62d367d4c446\" class=\"colab-df-container\">\n",
              "    <div>\n",
              "<style scoped>\n",
              "    .dataframe tbody tr th:only-of-type {\n",
              "        vertical-align: middle;\n",
              "    }\n",
              "\n",
              "    .dataframe tbody tr th {\n",
              "        vertical-align: top;\n",
              "    }\n",
              "\n",
              "    .dataframe thead th {\n",
              "        text-align: right;\n",
              "    }\n",
              "</style>\n",
              "<table border=\"1\" class=\"dataframe\">\n",
              "  <thead>\n",
              "    <tr style=\"text-align: right;\">\n",
              "      <th></th>\n",
              "      <th>Dress_ID</th>\n",
              "      <th>Style</th>\n",
              "      <th>Price</th>\n",
              "      <th>Rating</th>\n",
              "      <th>Size</th>\n",
              "      <th>Season</th>\n",
              "      <th>NeckLine</th>\n",
              "      <th>SleeveLength</th>\n",
              "      <th>Material</th>\n",
              "      <th>FabricType</th>\n",
              "      <th>Decoration</th>\n",
              "      <th>Pattern Type</th>\n",
              "      <th>Recommendation</th>\n",
              "      <th>Summer</th>\n",
              "      <th>Autumn</th>\n",
              "      <th>Winter</th>\n",
              "      <th>Spring</th>\n",
              "    </tr>\n",
              "  </thead>\n",
              "  <tbody>\n",
              "    <tr>\n",
              "      <th>0</th>\n",
              "      <td>1006032852</td>\n",
              "      <td>Sexy</td>\n",
              "      <td>Low</td>\n",
              "      <td>4.6</td>\n",
              "      <td>Medium</td>\n",
              "      <td>Summer</td>\n",
              "      <td>o-neck</td>\n",
              "      <td>sleeveless</td>\n",
              "      <td>NaN</td>\n",
              "      <td>chiffon</td>\n",
              "      <td>ruffles</td>\n",
              "      <td>animal</td>\n",
              "      <td>1</td>\n",
              "      <td>13899.0</td>\n",
              "      <td>26857.0</td>\n",
              "      <td>9658.0</td>\n",
              "      <td>2660.0</td>\n",
              "    </tr>\n",
              "    <tr>\n",
              "      <th>1</th>\n",
              "      <td>1212192089</td>\n",
              "      <td>Casual</td>\n",
              "      <td>Low</td>\n",
              "      <td>0.0</td>\n",
              "      <td>Large</td>\n",
              "      <td>Summer</td>\n",
              "      <td>o-neck</td>\n",
              "      <td>Petal</td>\n",
              "      <td>microfiber</td>\n",
              "      <td>NaN</td>\n",
              "      <td>ruffles</td>\n",
              "      <td>animal</td>\n",
              "      <td>0</td>\n",
              "      <td>6216.0</td>\n",
              "      <td>17311.0</td>\n",
              "      <td>6405.0</td>\n",
              "      <td>750.0</td>\n",
              "    </tr>\n",
              "    <tr>\n",
              "      <th>2</th>\n",
              "      <td>1190380701</td>\n",
              "      <td>vintage</td>\n",
              "      <td>High</td>\n",
              "      <td>0.0</td>\n",
              "      <td>Large</td>\n",
              "      <td>Autumn</td>\n",
              "      <td>o-neck</td>\n",
              "      <td>full</td>\n",
              "      <td>polyster</td>\n",
              "      <td>NaN</td>\n",
              "      <td>NaN</td>\n",
              "      <td>print</td>\n",
              "      <td>0</td>\n",
              "      <td>40.0</td>\n",
              "      <td>82.0</td>\n",
              "      <td>28.0</td>\n",
              "      <td>7.0</td>\n",
              "    </tr>\n",
              "    <tr>\n",
              "      <th>3</th>\n",
              "      <td>966005983</td>\n",
              "      <td>Brief</td>\n",
              "      <td>Average</td>\n",
              "      <td>4.6</td>\n",
              "      <td>Large</td>\n",
              "      <td>Spring</td>\n",
              "      <td>o-neck</td>\n",
              "      <td>full</td>\n",
              "      <td>silk</td>\n",
              "      <td>chiffon</td>\n",
              "      <td>embroidary</td>\n",
              "      <td>print</td>\n",
              "      <td>1</td>\n",
              "      <td>7213.0</td>\n",
              "      <td>14411.0</td>\n",
              "      <td>5012.0</td>\n",
              "      <td>1455.0</td>\n",
              "    </tr>\n",
              "    <tr>\n",
              "      <th>4</th>\n",
              "      <td>876339541</td>\n",
              "      <td>cute</td>\n",
              "      <td>Low</td>\n",
              "      <td>4.5</td>\n",
              "      <td>Medium</td>\n",
              "      <td>Summer</td>\n",
              "      <td>o-neck</td>\n",
              "      <td>butterfly</td>\n",
              "      <td>chiffonfabric</td>\n",
              "      <td>chiffon</td>\n",
              "      <td>bow</td>\n",
              "      <td>dot</td>\n",
              "      <td>0</td>\n",
              "      <td>7706.0</td>\n",
              "      <td>14676.0</td>\n",
              "      <td>5678.0</td>\n",
              "      <td>1396.0</td>\n",
              "    </tr>\n",
              "  </tbody>\n",
              "</table>\n",
              "</div>\n",
              "    <div class=\"colab-df-buttons\">\n",
              "\n",
              "  <div class=\"colab-df-container\">\n",
              "    <button class=\"colab-df-convert\" onclick=\"convertToInteractive('df-e6a8f932-472e-487a-a2ac-62d367d4c446')\"\n",
              "            title=\"Convert this dataframe to an interactive table.\"\n",
              "            style=\"display:none;\">\n",
              "\n",
              "  <svg xmlns=\"http://www.w3.org/2000/svg\" height=\"24px\" viewBox=\"0 -960 960 960\">\n",
              "    <path d=\"M120-120v-720h720v720H120Zm60-500h600v-160H180v160Zm220 220h160v-160H400v160Zm0 220h160v-160H400v160ZM180-400h160v-160H180v160Zm440 0h160v-160H620v160ZM180-180h160v-160H180v160Zm440 0h160v-160H620v160Z\"/>\n",
              "  </svg>\n",
              "    </button>\n",
              "\n",
              "  <style>\n",
              "    .colab-df-container {\n",
              "      display:flex;\n",
              "      gap: 12px;\n",
              "    }\n",
              "\n",
              "    .colab-df-convert {\n",
              "      background-color: #E8F0FE;\n",
              "      border: none;\n",
              "      border-radius: 50%;\n",
              "      cursor: pointer;\n",
              "      display: none;\n",
              "      fill: #1967D2;\n",
              "      height: 32px;\n",
              "      padding: 0 0 0 0;\n",
              "      width: 32px;\n",
              "    }\n",
              "\n",
              "    .colab-df-convert:hover {\n",
              "      background-color: #E2EBFA;\n",
              "      box-shadow: 0px 1px 2px rgba(60, 64, 67, 0.3), 0px 1px 3px 1px rgba(60, 64, 67, 0.15);\n",
              "      fill: #174EA6;\n",
              "    }\n",
              "\n",
              "    .colab-df-buttons div {\n",
              "      margin-bottom: 4px;\n",
              "    }\n",
              "\n",
              "    [theme=dark] .colab-df-convert {\n",
              "      background-color: #3B4455;\n",
              "      fill: #D2E3FC;\n",
              "    }\n",
              "\n",
              "    [theme=dark] .colab-df-convert:hover {\n",
              "      background-color: #434B5C;\n",
              "      box-shadow: 0px 1px 3px 1px rgba(0, 0, 0, 0.15);\n",
              "      filter: drop-shadow(0px 1px 2px rgba(0, 0, 0, 0.3));\n",
              "      fill: #FFFFFF;\n",
              "    }\n",
              "  </style>\n",
              "\n",
              "    <script>\n",
              "      const buttonEl =\n",
              "        document.querySelector('#df-e6a8f932-472e-487a-a2ac-62d367d4c446 button.colab-df-convert');\n",
              "      buttonEl.style.display =\n",
              "        google.colab.kernel.accessAllowed ? 'block' : 'none';\n",
              "\n",
              "      async function convertToInteractive(key) {\n",
              "        const element = document.querySelector('#df-e6a8f932-472e-487a-a2ac-62d367d4c446');\n",
              "        const dataTable =\n",
              "          await google.colab.kernel.invokeFunction('convertToInteractive',\n",
              "                                                    [key], {});\n",
              "        if (!dataTable) return;\n",
              "\n",
              "        const docLinkHtml = 'Like what you see? Visit the ' +\n",
              "          '<a target=\"_blank\" href=https://colab.research.google.com/notebooks/data_table.ipynb>data table notebook</a>'\n",
              "          + ' to learn more about interactive tables.';\n",
              "        element.innerHTML = '';\n",
              "        dataTable['output_type'] = 'display_data';\n",
              "        await google.colab.output.renderOutput(dataTable, element);\n",
              "        const docLink = document.createElement('div');\n",
              "        docLink.innerHTML = docLinkHtml;\n",
              "        element.appendChild(docLink);\n",
              "      }\n",
              "    </script>\n",
              "  </div>\n",
              "\n",
              "\n",
              "    <div id=\"df-c8082612-e953-4405-9d83-290128b6d14d\">\n",
              "      <button class=\"colab-df-quickchart\" onclick=\"quickchart('df-c8082612-e953-4405-9d83-290128b6d14d')\"\n",
              "                title=\"Suggest charts\"\n",
              "                style=\"display:none;\">\n",
              "\n",
              "<svg xmlns=\"http://www.w3.org/2000/svg\" height=\"24px\"viewBox=\"0 0 24 24\"\n",
              "     width=\"24px\">\n",
              "    <g>\n",
              "        <path d=\"M19 3H5c-1.1 0-2 .9-2 2v14c0 1.1.9 2 2 2h14c1.1 0 2-.9 2-2V5c0-1.1-.9-2-2-2zM9 17H7v-7h2v7zm4 0h-2V7h2v10zm4 0h-2v-4h2v4z\"/>\n",
              "    </g>\n",
              "</svg>\n",
              "      </button>\n",
              "\n",
              "<style>\n",
              "  .colab-df-quickchart {\n",
              "      --bg-color: #E8F0FE;\n",
              "      --fill-color: #1967D2;\n",
              "      --hover-bg-color: #E2EBFA;\n",
              "      --hover-fill-color: #174EA6;\n",
              "      --disabled-fill-color: #AAA;\n",
              "      --disabled-bg-color: #DDD;\n",
              "  }\n",
              "\n",
              "  [theme=dark] .colab-df-quickchart {\n",
              "      --bg-color: #3B4455;\n",
              "      --fill-color: #D2E3FC;\n",
              "      --hover-bg-color: #434B5C;\n",
              "      --hover-fill-color: #FFFFFF;\n",
              "      --disabled-bg-color: #3B4455;\n",
              "      --disabled-fill-color: #666;\n",
              "  }\n",
              "\n",
              "  .colab-df-quickchart {\n",
              "    background-color: var(--bg-color);\n",
              "    border: none;\n",
              "    border-radius: 50%;\n",
              "    cursor: pointer;\n",
              "    display: none;\n",
              "    fill: var(--fill-color);\n",
              "    height: 32px;\n",
              "    padding: 0;\n",
              "    width: 32px;\n",
              "  }\n",
              "\n",
              "  .colab-df-quickchart:hover {\n",
              "    background-color: var(--hover-bg-color);\n",
              "    box-shadow: 0 1px 2px rgba(60, 64, 67, 0.3), 0 1px 3px 1px rgba(60, 64, 67, 0.15);\n",
              "    fill: var(--button-hover-fill-color);\n",
              "  }\n",
              "\n",
              "  .colab-df-quickchart-complete:disabled,\n",
              "  .colab-df-quickchart-complete:disabled:hover {\n",
              "    background-color: var(--disabled-bg-color);\n",
              "    fill: var(--disabled-fill-color);\n",
              "    box-shadow: none;\n",
              "  }\n",
              "\n",
              "  .colab-df-spinner {\n",
              "    border: 2px solid var(--fill-color);\n",
              "    border-color: transparent;\n",
              "    border-bottom-color: var(--fill-color);\n",
              "    animation:\n",
              "      spin 1s steps(1) infinite;\n",
              "  }\n",
              "\n",
              "  @keyframes spin {\n",
              "    0% {\n",
              "      border-color: transparent;\n",
              "      border-bottom-color: var(--fill-color);\n",
              "      border-left-color: var(--fill-color);\n",
              "    }\n",
              "    20% {\n",
              "      border-color: transparent;\n",
              "      border-left-color: var(--fill-color);\n",
              "      border-top-color: var(--fill-color);\n",
              "    }\n",
              "    30% {\n",
              "      border-color: transparent;\n",
              "      border-left-color: var(--fill-color);\n",
              "      border-top-color: var(--fill-color);\n",
              "      border-right-color: var(--fill-color);\n",
              "    }\n",
              "    40% {\n",
              "      border-color: transparent;\n",
              "      border-right-color: var(--fill-color);\n",
              "      border-top-color: var(--fill-color);\n",
              "    }\n",
              "    60% {\n",
              "      border-color: transparent;\n",
              "      border-right-color: var(--fill-color);\n",
              "    }\n",
              "    80% {\n",
              "      border-color: transparent;\n",
              "      border-right-color: var(--fill-color);\n",
              "      border-bottom-color: var(--fill-color);\n",
              "    }\n",
              "    90% {\n",
              "      border-color: transparent;\n",
              "      border-bottom-color: var(--fill-color);\n",
              "    }\n",
              "  }\n",
              "</style>\n",
              "\n",
              "      <script>\n",
              "        async function quickchart(key) {\n",
              "          const quickchartButtonEl =\n",
              "            document.querySelector('#' + key + ' button');\n",
              "          quickchartButtonEl.disabled = true;  // To prevent multiple clicks.\n",
              "          quickchartButtonEl.classList.add('colab-df-spinner');\n",
              "          try {\n",
              "            const charts = await google.colab.kernel.invokeFunction(\n",
              "                'suggestCharts', [key], {});\n",
              "          } catch (error) {\n",
              "            console.error('Error during call to suggestCharts:', error);\n",
              "          }\n",
              "          quickchartButtonEl.classList.remove('colab-df-spinner');\n",
              "          quickchartButtonEl.classList.add('colab-df-quickchart-complete');\n",
              "        }\n",
              "        (() => {\n",
              "          let quickchartButtonEl =\n",
              "            document.querySelector('#df-c8082612-e953-4405-9d83-290128b6d14d button');\n",
              "          quickchartButtonEl.style.display =\n",
              "            google.colab.kernel.accessAllowed ? 'block' : 'none';\n",
              "        })();\n",
              "      </script>\n",
              "    </div>\n",
              "\n",
              "    </div>\n",
              "  </div>\n"
            ],
            "application/vnd.google.colaboratory.intrinsic+json": {
              "type": "dataframe",
              "variable_name": "inp0",
              "summary": "{\n  \"name\": \"inp0\",\n  \"rows\": 479,\n  \"fields\": [\n    {\n      \"column\": \"Dress_ID\",\n      \"properties\": {\n        \"dtype\": \"number\",\n        \"std\": 182235169,\n        \"min\": 123456789,\n        \"max\": 1253973206,\n        \"num_unique_values\": 479,\n        \"samples\": [\n          1118628066,\n          1219677488,\n          743729613\n        ],\n        \"semantic_type\": \"\",\n        \"description\": \"\"\n      }\n    },\n    {\n      \"column\": \"Style\",\n      \"properties\": {\n        \"dtype\": \"category\",\n        \"num_unique_values\": 13,\n        \"samples\": [\n          \"OL\",\n          \"Novelty\",\n          \"Sexy\"\n        ],\n        \"semantic_type\": \"\",\n        \"description\": \"\"\n      }\n    },\n    {\n      \"column\": \"Price\",\n      \"properties\": {\n        \"dtype\": \"category\",\n        \"num_unique_values\": 5,\n        \"samples\": [\n          \"High\",\n          \"very-high\",\n          \"Average\"\n        ],\n        \"semantic_type\": \"\",\n        \"description\": \"\"\n      }\n    },\n    {\n      \"column\": \"Rating\",\n      \"properties\": {\n        \"dtype\": \"number\",\n        \"std\": 2.028941073943482,\n        \"min\": 0.0,\n        \"max\": 5.0,\n        \"num_unique_values\": 17,\n        \"samples\": [\n          4.6,\n          0.0,\n          4.8\n        ],\n        \"semantic_type\": \"\",\n        \"description\": \"\"\n      }\n    },\n    {\n      \"column\": \"Size\",\n      \"properties\": {\n        \"dtype\": \"category\",\n        \"num_unique_values\": 5,\n        \"samples\": [\n          \"Large\",\n          \"Small\",\n          \"Extra Large\"\n        ],\n        \"semantic_type\": \"\",\n        \"description\": \"\"\n      }\n    },\n    {\n      \"column\": \"Season\",\n      \"properties\": {\n        \"dtype\": \"category\",\n        \"num_unique_values\": 4,\n        \"samples\": [\n          \"Autumn\",\n          \"Winter\",\n          \"Summer\"\n        ],\n        \"semantic_type\": \"\",\n        \"description\": \"\"\n      }\n    },\n    {\n      \"column\": \"NeckLine\",\n      \"properties\": {\n        \"dtype\": \"category\",\n        \"num_unique_values\": 16,\n        \"samples\": [\n          \"o-neck\",\n          \"v-neck\",\n          \"turndowncollor\"\n        ],\n        \"semantic_type\": \"\",\n        \"description\": \"\"\n      }\n    },\n    {\n      \"column\": \"SleeveLength\",\n      \"properties\": {\n        \"dtype\": \"category\",\n        \"num_unique_values\": 13,\n        \"samples\": [\n          \"half\",\n          \"capsleeves\",\n          \"sleeveless\"\n        ],\n        \"semantic_type\": \"\",\n        \"description\": \"\"\n      }\n    },\n    {\n      \"column\": \"Material\",\n      \"properties\": {\n        \"dtype\": \"category\",\n        \"num_unique_values\": 22,\n        \"samples\": [\n          \"microfiber\",\n          \"spandex\",\n          \"linen\"\n        ],\n        \"semantic_type\": \"\",\n        \"description\": \"\"\n      }\n    },\n    {\n      \"column\": \"FabricType\",\n      \"properties\": {\n        \"dtype\": \"category\",\n        \"num_unique_values\": 22,\n        \"samples\": [\n          \"chiffon\",\n          \"tulle\",\n          \"woolen\"\n        ],\n        \"semantic_type\": \"\",\n        \"description\": \"\"\n      }\n    },\n    {\n      \"column\": \"Decoration\",\n      \"properties\": {\n        \"dtype\": \"category\",\n        \"num_unique_values\": 24,\n        \"samples\": [\n          \"sequined\",\n          \"pleat\",\n          \"ruffles\"\n        ],\n        \"semantic_type\": \"\",\n        \"description\": \"\"\n      }\n    },\n    {\n      \"column\": \"Pattern Type\",\n      \"properties\": {\n        \"dtype\": \"category\",\n        \"num_unique_values\": 14,\n        \"samples\": [\n          \"floral\",\n          \"splice\",\n          \"animal\"\n        ],\n        \"semantic_type\": \"\",\n        \"description\": \"\"\n      }\n    },\n    {\n      \"column\": \"Recommendation\",\n      \"properties\": {\n        \"dtype\": \"number\",\n        \"std\": 0,\n        \"min\": 0,\n        \"max\": 1,\n        \"num_unique_values\": 2,\n        \"samples\": [\n          0,\n          1\n        ],\n        \"semantic_type\": \"\",\n        \"description\": \"\"\n      }\n    },\n    {\n      \"column\": \"Summer\",\n      \"properties\": {\n        \"dtype\": \"number\",\n        \"std\": 2976.99395911954,\n        \"min\": 2.0,\n        \"max\": 35577.0,\n        \"num_unique_values\": 415,\n        \"samples\": [\n          2456.0,\n          1923.0\n        ],\n        \"semantic_type\": \"\",\n        \"description\": \"\"\n      }\n    },\n    {\n      \"column\": \"Autumn\",\n      \"properties\": {\n        \"dtype\": \"number\",\n        \"std\": 5001.245128180262,\n        \"min\": 1.0,\n        \"max\": 55532.0,\n        \"num_unique_values\": 443,\n        \"samples\": [\n          372.0,\n          546.0\n        ],\n        \"semantic_type\": \"\",\n        \"description\": \"\"\n      }\n    },\n    {\n      \"column\": \"Winter\",\n      \"properties\": {\n        \"dtype\": \"number\",\n        \"std\": 1849.950327087275,\n        \"min\": 0.0,\n        \"max\": 20388.0,\n        \"num_unique_values\": 397,\n        \"samples\": [\n          3769.0,\n          76.0\n        ],\n        \"semantic_type\": \"\",\n        \"description\": \"\"\n      }\n    },\n    {\n      \"column\": \"Spring\",\n      \"properties\": {\n        \"dtype\": \"number\",\n        \"std\": 601.7165145282377,\n        \"min\": 1.0,\n        \"max\": 7374.0,\n        \"num_unique_values\": 292,\n        \"samples\": [\n          675.0,\n          10.0\n        ],\n        \"semantic_type\": \"\",\n        \"description\": \"\"\n      }\n    }\n  ]\n}"
            }
          },
          "metadata": {},
          "execution_count": 87
        }
      ],
      "source": [
        "inp0.head()"
      ]
    },
    {
      "cell_type": "code",
      "execution_count": null,
      "metadata": {
        "id": "ehYBgeEY9rWo"
      },
      "outputs": [],
      "source": [
        "#correcting the Spellings.\n"
      ]
    },
    {
      "cell_type": "markdown",
      "metadata": {
        "id": "bc096N8I9rWo"
      },
      "source": [
        "## Univariate Analysis"
      ]
    },
    {
      "cell_type": "markdown",
      "metadata": {
        "id": "Jihldgl89rWo"
      },
      "source": [
        "### Categorical Unordered Univariate Analysis\n"
      ]
    },
    {
      "cell_type": "markdown",
      "metadata": {
        "id": "Y5uxf-p59rWo"
      },
      "source": [
        "There is a column named ‘Style’ in ‘Attribute Dataset’ which consists of the different style categories of the women apparels. Certain categories whose total sale is less than 50000 across all the seasons is considered under one single category as ‘Others’.\n"
      ]
    },
    {
      "cell_type": "markdown",
      "metadata": {
        "id": "4dA1Gbo39rWo"
      },
      "source": [
        "Which of the following categories in ‘Style’ column can be grouped into ‘Others’ category? and perform the grouping operation in the notebook for further analysis.\n",
        "- Flare, fashion\n",
        "- Novelty, bohemian\n",
        "- OL, fashion, work\n",
        "- Novelty, fashion, Flare\n"
      ]
    },
    {
      "cell_type": "code",
      "execution_count": null,
      "metadata": {
        "colab": {
          "base_uri": "https://localhost:8080/",
          "height": 523
        },
        "id": "D-oppSet9rWo",
        "outputId": "b3c5fe90-07eb-4345-eb85-9743e49fbf1c"
      },
      "outputs": [
        {
          "output_type": "execute_result",
          "data": {
            "text/plain": [
              "Style\n",
              "Brief        139628.0\n",
              "Casual      1105728.0\n",
              "Flare          2089.0\n",
              "Novelty       13286.0\n",
              "OL              289.0\n",
              "Sexy         452794.0\n",
              "bohemian      69117.0\n",
              "cute         371044.0\n",
              "fashion         395.0\n",
              "party        150466.0\n",
              "sexy          87243.0\n",
              "vintage      180574.0\n",
              "work          93095.0\n",
              "dtype: float64"
            ],
            "text/html": [
              "<div>\n",
              "<style scoped>\n",
              "    .dataframe tbody tr th:only-of-type {\n",
              "        vertical-align: middle;\n",
              "    }\n",
              "\n",
              "    .dataframe tbody tr th {\n",
              "        vertical-align: top;\n",
              "    }\n",
              "\n",
              "    .dataframe thead th {\n",
              "        text-align: right;\n",
              "    }\n",
              "</style>\n",
              "<table border=\"1\" class=\"dataframe\">\n",
              "  <thead>\n",
              "    <tr style=\"text-align: right;\">\n",
              "      <th></th>\n",
              "      <th>0</th>\n",
              "    </tr>\n",
              "    <tr>\n",
              "      <th>Style</th>\n",
              "      <th></th>\n",
              "    </tr>\n",
              "  </thead>\n",
              "  <tbody>\n",
              "    <tr>\n",
              "      <th>Brief</th>\n",
              "      <td>139628.0</td>\n",
              "    </tr>\n",
              "    <tr>\n",
              "      <th>Casual</th>\n",
              "      <td>1105728.0</td>\n",
              "    </tr>\n",
              "    <tr>\n",
              "      <th>Flare</th>\n",
              "      <td>2089.0</td>\n",
              "    </tr>\n",
              "    <tr>\n",
              "      <th>Novelty</th>\n",
              "      <td>13286.0</td>\n",
              "    </tr>\n",
              "    <tr>\n",
              "      <th>OL</th>\n",
              "      <td>289.0</td>\n",
              "    </tr>\n",
              "    <tr>\n",
              "      <th>Sexy</th>\n",
              "      <td>452794.0</td>\n",
              "    </tr>\n",
              "    <tr>\n",
              "      <th>bohemian</th>\n",
              "      <td>69117.0</td>\n",
              "    </tr>\n",
              "    <tr>\n",
              "      <th>cute</th>\n",
              "      <td>371044.0</td>\n",
              "    </tr>\n",
              "    <tr>\n",
              "      <th>fashion</th>\n",
              "      <td>395.0</td>\n",
              "    </tr>\n",
              "    <tr>\n",
              "      <th>party</th>\n",
              "      <td>150466.0</td>\n",
              "    </tr>\n",
              "    <tr>\n",
              "      <th>sexy</th>\n",
              "      <td>87243.0</td>\n",
              "    </tr>\n",
              "    <tr>\n",
              "      <th>vintage</th>\n",
              "      <td>180574.0</td>\n",
              "    </tr>\n",
              "    <tr>\n",
              "      <th>work</th>\n",
              "      <td>93095.0</td>\n",
              "    </tr>\n",
              "  </tbody>\n",
              "</table>\n",
              "</div><br><label><b>dtype:</b> float64</label>"
            ]
          },
          "metadata": {},
          "execution_count": 89
        }
      ],
      "source": [
        "inp0.groupby('Style')[['Summer', 'Autumn', 'Winter', 'Spring']].sum().sum(axis=1)"
      ]
    },
    {
      "cell_type": "code",
      "execution_count": null,
      "metadata": {
        "colab": {
          "base_uri": "https://localhost:8080/",
          "height": 523
        },
        "id": "ENPFtGfH9rWo",
        "outputId": "3fefe629-12e6-44ad-8eb9-9bd2742eb8f9"
      },
      "outputs": [
        {
          "output_type": "execute_result",
          "data": {
            "text/plain": [
              "Style\n",
              "Brief        139628.0\n",
              "Casual      1105728.0\n",
              "Flare          2089.0\n",
              "Novelty       13286.0\n",
              "OL              289.0\n",
              "Sexy         452794.0\n",
              "bohemian      69117.0\n",
              "cute         371044.0\n",
              "fashion         395.0\n",
              "party        150466.0\n",
              "sexy          87243.0\n",
              "vintage      180574.0\n",
              "work          93095.0\n",
              "dtype: float64"
            ],
            "text/html": [
              "<div>\n",
              "<style scoped>\n",
              "    .dataframe tbody tr th:only-of-type {\n",
              "        vertical-align: middle;\n",
              "    }\n",
              "\n",
              "    .dataframe tbody tr th {\n",
              "        vertical-align: top;\n",
              "    }\n",
              "\n",
              "    .dataframe thead th {\n",
              "        text-align: right;\n",
              "    }\n",
              "</style>\n",
              "<table border=\"1\" class=\"dataframe\">\n",
              "  <thead>\n",
              "    <tr style=\"text-align: right;\">\n",
              "      <th></th>\n",
              "      <th>0</th>\n",
              "    </tr>\n",
              "    <tr>\n",
              "      <th>Style</th>\n",
              "      <th></th>\n",
              "    </tr>\n",
              "  </thead>\n",
              "  <tbody>\n",
              "    <tr>\n",
              "      <th>Brief</th>\n",
              "      <td>139628.0</td>\n",
              "    </tr>\n",
              "    <tr>\n",
              "      <th>Casual</th>\n",
              "      <td>1105728.0</td>\n",
              "    </tr>\n",
              "    <tr>\n",
              "      <th>Flare</th>\n",
              "      <td>2089.0</td>\n",
              "    </tr>\n",
              "    <tr>\n",
              "      <th>Novelty</th>\n",
              "      <td>13286.0</td>\n",
              "    </tr>\n",
              "    <tr>\n",
              "      <th>OL</th>\n",
              "      <td>289.0</td>\n",
              "    </tr>\n",
              "    <tr>\n",
              "      <th>Sexy</th>\n",
              "      <td>452794.0</td>\n",
              "    </tr>\n",
              "    <tr>\n",
              "      <th>bohemian</th>\n",
              "      <td>69117.0</td>\n",
              "    </tr>\n",
              "    <tr>\n",
              "      <th>cute</th>\n",
              "      <td>371044.0</td>\n",
              "    </tr>\n",
              "    <tr>\n",
              "      <th>fashion</th>\n",
              "      <td>395.0</td>\n",
              "    </tr>\n",
              "    <tr>\n",
              "      <th>party</th>\n",
              "      <td>150466.0</td>\n",
              "    </tr>\n",
              "    <tr>\n",
              "      <th>sexy</th>\n",
              "      <td>87243.0</td>\n",
              "    </tr>\n",
              "    <tr>\n",
              "      <th>vintage</th>\n",
              "      <td>180574.0</td>\n",
              "    </tr>\n",
              "    <tr>\n",
              "      <th>work</th>\n",
              "      <td>93095.0</td>\n",
              "    </tr>\n",
              "  </tbody>\n",
              "</table>\n",
              "</div><br><label><b>dtype:</b> float64</label>"
            ]
          },
          "metadata": {},
          "execution_count": 90
        }
      ],
      "source": [
        "inp0.groupby('Style')[['Summer', 'Autumn', 'Winter', 'Spring']].sum().sum(axis=1)"
      ]
    },
    {
      "cell_type": "code",
      "execution_count": null,
      "metadata": {
        "colab": {
          "base_uri": "https://localhost:8080/"
        },
        "id": "O1rB1ZXZ9rWo",
        "outputId": "feb4f4d5-979d-49e5-b3bb-ce698263adb2"
      },
      "outputs": [
        {
          "output_type": "stream",
          "name": "stdout",
          "text": [
            "0         Sexy\n",
            "1       Casual\n",
            "2      vintage\n",
            "3        Brief\n",
            "4         cute\n",
            "        ...   \n",
            "474      Brief\n",
            "475     Casual\n",
            "476     Casual\n",
            "477     Casual\n",
            "478     Casual\n",
            "Name: Style, Length: 479, dtype: object\n"
          ]
        }
      ],
      "source": [
        "import pandas as pd\n",
        "\n",
        "# Assuming your DataFrame is named 'inp0' and has 'Style', 'Summer', 'Autumn', 'Winter', 'Spring' columns\n",
        "\n",
        "# Calculate total sales for each style category\n",
        "style_sales = inp0.groupby('Style')[['Summer', 'Autumn', 'Winter', 'Spring']].sum().sum(axis=1)\n",
        "\n",
        "# Identify style categories with sales less than 50000\n",
        "styles_to_group = style_sales[style_sales < 50000].index\n",
        "\n",
        "# Group the identified categories into 'Others'\n",
        "inp0['Style'] = inp0['Style'].apply(lambda x: 'Others' if x in styles_to_group else x)\n",
        "print(inp0['Style'])"
      ]
    },
    {
      "cell_type": "code",
      "execution_count": null,
      "metadata": {
        "id": "dpnyH4dm9rWo"
      },
      "outputs": [],
      "source": []
    },
    {
      "cell_type": "code",
      "execution_count": null,
      "metadata": {
        "id": "yQj3vhJW9rWo"
      },
      "outputs": [],
      "source": [
        "# Group \"Style\" categories into \"Others\" which have less than 50000 sales across all the seasons.\n"
      ]
    },
    {
      "cell_type": "code",
      "execution_count": null,
      "metadata": {
        "id": "C9BeU0X69rWp"
      },
      "outputs": [],
      "source": [
        "style_sales = inp0.groupby('Style')[['Spring', 'Summer', 'Autumn', 'Winter']].sum()\n",
        "\n",
        "# Get styles with total sales less than 50000\n",
        "styles_to_group = style_sales[style_sales.sum(axis=1) < 50000].index\n",
        "\n",
        "# Replace those styles with \"Others\" in the original DataFrame\n",
        "inp0['Style'] = inp0['Style'].replace(styles_to_group, 'Others')"
      ]
    },
    {
      "cell_type": "markdown",
      "metadata": {
        "id": "tdO7ojrq9rWp"
      },
      "source": [
        "What is the percentage of “cute” and “Others” category in “Style” column in “Attribute DataSet” respectively?\n",
        "- 46%, 5%\n",
        "- 9%, 2.1%\n",
        "- 2.1%, 5%\n",
        "- 13.8%, 9%\n"
      ]
    },
    {
      "cell_type": "code",
      "execution_count": null,
      "metadata": {
        "id": "f6DLdhd39rWp"
      },
      "outputs": [],
      "source": [
        "# Calculate the percentage of each categories in the \"Style\" variable.\n"
      ]
    },
    {
      "cell_type": "code",
      "execution_count": null,
      "metadata": {
        "colab": {
          "base_uri": "https://localhost:8080/"
        },
        "id": "7ks6ckIT9rWp",
        "outputId": "3dbafb66-ede1-47bc-de8b-39a15fe77b65"
      },
      "outputs": [
        {
          "output_type": "stream",
          "name": "stdout",
          "text": [
            "Style\n",
            "Casual      45.720251\n",
            "Sexy        13.778706\n",
            "party       10.647182\n",
            "cute         9.185804\n",
            "vintage      5.219207\n",
            "bohemian     4.801670\n",
            "Brief        3.549061\n",
            "work         3.549061\n",
            "Others       2.087683\n",
            "sexy         1.461378\n",
            "Name: proportion, dtype: float64\n"
          ]
        }
      ],
      "source": [
        "style_percentages = inp0['Style'].value_counts(normalize=True) * 100\n",
        "print(style_percentages)"
      ]
    },
    {
      "cell_type": "markdown",
      "metadata": {
        "id": "fEhCr4FC9rWp"
      },
      "source": [
        "Similarly Club Neckline, SLeeve length categories into \"Others\" which have less than 50000 sales across all the seasons."
      ]
    },
    {
      "cell_type": "code",
      "execution_count": null,
      "metadata": {
        "id": "gIed84BJ9rWp"
      },
      "outputs": [],
      "source": [
        "# Group \"Sleeve length\" categories into \"Others\" which have less than 50000 sales across all the seasons.\n"
      ]
    },
    {
      "cell_type": "code",
      "execution_count": null,
      "metadata": {
        "id": "3pEwnvjw9rWp"
      },
      "outputs": [],
      "source": [
        "Sleevelength_sales = inp0.groupby('SleeveLength')[['Spring', 'Summer', 'Autumn', 'Winter']].sum()\n",
        "\n",
        "# Get necklines with total sales less than 50000\n",
        "sleevelength_to_group = Sleevelength_sales[Sleevelength_sales.sum(axis=1) < 50000].index\n",
        "\n",
        "# Replace those necklines with \"Others\" in the original DataFrame\n",
        "inp0['SleeveLength'] = inp0['SleeveLength'].replace(sleevelength_to_group, 'Others')"
      ]
    },
    {
      "cell_type": "code",
      "execution_count": null,
      "metadata": {
        "id": "fRol8X9-9rWp"
      },
      "outputs": [],
      "source": [
        "neckline_sales = inp0.groupby('NeckLine')[['Spring', 'Summer', 'Autumn', 'Winter']].sum()\n",
        "\n",
        "# Get necklines with total sales less than 50000\n",
        "necklines_to_group = neckline_sales[neckline_sales.sum(axis=1) < 50000].index\n",
        "\n",
        "# Replace those necklines with \"Others\" in the original DataFrame\n",
        "inp0['NeckLine'] = inp0['NeckLine'].replace(necklines_to_group, 'Others')"
      ]
    },
    {
      "cell_type": "code",
      "execution_count": null,
      "metadata": {
        "id": "MjkiEuFn9rWp"
      },
      "outputs": [],
      "source": [
        "# Group \"Neckline\" categories into \"Others\" which have less than 50000 sales across all the seasons.\n"
      ]
    },
    {
      "cell_type": "markdown",
      "metadata": {
        "id": "UnOx9j7I9rWp"
      },
      "source": [
        "Club material, fabrictype, patterntype and decoration categories into \"Others\" which have less than 25000 sales across all the seasons"
      ]
    },
    {
      "cell_type": "code",
      "execution_count": null,
      "metadata": {
        "id": "s2QOHs5U9rWp"
      },
      "outputs": [],
      "source": [
        "# Group \"material\" categories into \"Others\" which have less than 25000 sales across all the seasons.\n"
      ]
    },
    {
      "cell_type": "code",
      "execution_count": null,
      "metadata": {
        "id": "uSwnzBNc9rWp"
      },
      "outputs": [],
      "source": [
        "# Calculate total sales for each material category\n",
        "material_sales = inp0.groupby('Material')[['Spring', 'Summer', 'Autumn', 'Winter']].sum()\n",
        "\n",
        "# Get materials with total sales less than 25000\n",
        "materials_to_group = material_sales[material_sales.sum(axis=1) < 25000].index\n",
        "\n",
        "# Replace those materials with \"Others\" in the original DataFrame\n",
        "inp0['Material'] = inp0['Material'].replace(materials_to_group, 'Others')"
      ]
    },
    {
      "cell_type": "code",
      "execution_count": null,
      "metadata": {
        "id": "U9akTm5T9rWp"
      },
      "outputs": [],
      "source": [
        "# Group \"fabric type\" categories into \"Others\" which have less than 25000 sales across all the seasons.\n"
      ]
    },
    {
      "cell_type": "code",
      "execution_count": null,
      "metadata": {
        "id": "Y4hFCo8j9rWp"
      },
      "outputs": [],
      "source": [
        "# Calculate total sales for each fabric type category\n",
        "fabric_type_sales = inp0.groupby('FabricType')[['Spring', 'Summer', 'Autumn', 'Winter']].sum()\n",
        "\n",
        "# Get fabric types with total sales less than 25000\n",
        "fabric_types_to_group = fabric_type_sales[fabric_type_sales.sum(axis=1) < 25000].index\n",
        "\n",
        "# Replace those fabric types with \"Others\" in the original DataFrame\n",
        "inp0['FabricType'] = inp0['FabricType'].replace(fabric_types_to_group, 'Others')"
      ]
    },
    {
      "cell_type": "code",
      "execution_count": null,
      "metadata": {
        "id": "g45H_MHg9rWp"
      },
      "outputs": [],
      "source": [
        "# Group \"patern type\" categories into \"Others\" which have less than 25000 sales across all the seasons.\n"
      ]
    },
    {
      "cell_type": "code",
      "execution_count": null,
      "metadata": {
        "id": "FT4tf_qR9rWp"
      },
      "outputs": [],
      "source": [
        "# Calculate total sales for each pattern type category\n",
        "pattern_type_sales = inp0.groupby('Pattern Type')[['Spring', 'Summer', 'Autumn', 'Winter']].sum()\n",
        "\n",
        "# Get pattern types with total sales less than 25000\n",
        "pattern_types_to_group = pattern_type_sales[pattern_type_sales.sum(axis=1) < 25000].index\n",
        "\n",
        "# Replace those pattern types with \"Others\" in the original DataFrame\n",
        "inp0['Pattern Type'] = inp0['Pattern Type'].replace(pattern_types_to_group, 'Others')"
      ]
    },
    {
      "cell_type": "code",
      "execution_count": null,
      "metadata": {
        "id": "mG-iSSfE9rWp"
      },
      "outputs": [],
      "source": [
        "# Group \"decoration\" categories into \"Others\" which have less than 25000 sales across all the seasons.\n"
      ]
    },
    {
      "cell_type": "code",
      "execution_count": null,
      "metadata": {
        "id": "Sug3ZxkE9rWp"
      },
      "outputs": [],
      "source": [
        "# Calculate total sales for each decoration category\n",
        "decoration_sales = inp0.groupby('Decoration')[['Spring', 'Summer', 'Autumn', 'Winter']].sum()\n",
        "\n",
        "# Get decorations with total sales less than 25000\n",
        "decorations_to_group = decoration_sales[decoration_sales.sum(axis=1) < 25000].index\n",
        "\n",
        "# Replace those decorations with \"Others\" in the original DataFrame\n",
        "inp0['Decoration'] = inp0['Decoration'].replace(decorations_to_group, 'Others')"
      ]
    },
    {
      "cell_type": "markdown",
      "metadata": {
        "id": "056HY9oz9rWp"
      },
      "source": [
        "### Caregorical Ordered Univariate Analysis"
      ]
    },
    {
      "cell_type": "markdown",
      "metadata": {
        "id": "LNHhIEA19rWq"
      },
      "source": [
        "Which of the following is an unordered variable in “Attribute DataSet”.\n",
        "- Style\n",
        "- Price\n",
        "- Season\n",
        "- Size\n"
      ]
    },
    {
      "cell_type": "markdown",
      "metadata": {
        "id": "Hs4LTNog9rWq"
      },
      "source": [
        "Style"
      ]
    },
    {
      "cell_type": "markdown",
      "metadata": {
        "id": "gMwAliOR9rWq"
      },
      "source": [
        "### Numerical variable Univariate analysis:"
      ]
    },
    {
      "cell_type": "markdown",
      "metadata": {
        "id": "W-s2m1_69rWq"
      },
      "source": [
        "What is the approximate difference between the maximum value and 75th percentile in “Autumn” column.\n",
        "- Approx 54000\n",
        "- Approx 55000\n",
        "- Approx 52000\n",
        "- Approx 50000\n",
        "\n"
      ]
    },
    {
      "cell_type": "code",
      "execution_count": null,
      "metadata": {
        "id": "GBPjDzU89rWq"
      },
      "outputs": [],
      "source": [
        "# Describe the numerical variale: \"Autumn\".\n"
      ]
    },
    {
      "cell_type": "code",
      "execution_count": null,
      "metadata": {
        "colab": {
          "base_uri": "https://localhost:8080/"
        },
        "id": "yK0_ONsm9rWq",
        "outputId": "78b4e217-bf36-4241-857b-325613cafa83"
      },
      "outputs": [
        {
          "output_type": "stream",
          "name": "stdout",
          "text": [
            "The approximate difference is: 52430.0\n"
          ]
        }
      ],
      "source": [
        "# Calculate the maximum value\n",
        "max_autumn = inp0['Autumn'].max()\n",
        "\n",
        "# Calculate the 75th percentile\n",
        "percentile_75_autumn = inp0['Autumn'].quantile(0.75)\n",
        "\n",
        "# Calculate the difference\n",
        "difference = max_autumn - percentile_75_autumn\n",
        "\n",
        "print(f\"The approximate difference is: {difference}\")"
      ]
    },
    {
      "cell_type": "code",
      "execution_count": null,
      "metadata": {
        "id": "x7MGHQym9rWq"
      },
      "outputs": [],
      "source": [
        "# plot the boxplot of \"Autumn\" column.\n"
      ]
    },
    {
      "cell_type": "code",
      "execution_count": null,
      "metadata": {
        "colab": {
          "base_uri": "https://localhost:8080/",
          "height": 472
        },
        "id": "CD5-JSym9rWq",
        "outputId": "b8b53ed3-a402-46f6-f471-5b576c4cf813"
      },
      "outputs": [
        {
          "output_type": "display_data",
          "data": {
            "text/plain": [
              "<Figure size 640x480 with 1 Axes>"
            ],
            "image/png": "[encoded data removed]"
          },
          "metadata": {}
        }
      ],
      "source": [
        "import seaborn as sns\n",
        "import matplotlib.pyplot as plt\n",
        "\n",
        "# Create the boxplot\n",
        "sns.boxplot(x=inp0['Autumn'])\n",
        "plt.title('Boxplot of Autumn Sales')\n",
        "plt.xlabel('Autumn Sales')\n",
        "plt.show()"
      ]
    },
    {
      "cell_type": "markdown",
      "metadata": {
        "id": "6nE5sfw59rWq"
      },
      "source": [
        "Which of the following season has the highest difference between the maximum value and 99th quantile of sales?\n",
        "- Winter\n",
        "- Summer\n",
        "- Spring\n",
        "- Autumn\n"
      ]
    },
    {
      "cell_type": "code",
      "execution_count": null,
      "metadata": {
        "id": "BulmJVpi9rWq"
      },
      "outputs": [],
      "source": [
        "# Find the maximum and 99th percentile of Winter season.\n"
      ]
    },
    {
      "cell_type": "code",
      "execution_count": null,
      "metadata": {
        "colab": {
          "base_uri": "https://localhost:8080/"
        },
        "id": "28nyQA7Z9rWq",
        "outputId": "151f01a0-37f0-4c79-a475-e56754bd84db"
      },
      "outputs": [
        {
          "output_type": "stream",
          "name": "stdout",
          "text": [
            "Maximum Winter Sales: 20388.0\n",
            "99th Percentile of Winter Sales: 8908.419999999971\n",
            "{20388.0}\n"
          ]
        }
      ],
      "source": [
        "max_winter = inp0['Winter'].max()\n",
        "\n",
        "# Find the 99th percentile\n",
        "percentile_99_winter = inp0['Winter'].quantile(0.99)\n",
        "\n",
        "print(f\"Maximum Winter Sales: {max_winter}\")\n",
        "print(f\"99th Percentile of Winter Sales: {percentile_99_winter}\")\n",
        "print({max_winter} - {percentile_99_winter})"
      ]
    },
    {
      "cell_type": "code",
      "execution_count": null,
      "metadata": {
        "id": "r2XTABRb9rWq"
      },
      "outputs": [],
      "source": [
        "# Find the maximum and 99th percentile of Summer season.\n"
      ]
    },
    {
      "cell_type": "code",
      "execution_count": null,
      "metadata": {
        "colab": {
          "base_uri": "https://localhost:8080/"
        },
        "id": "Hf7Rjohi9rWq",
        "outputId": "028b3327-6ea3-4887-efcb-79053728e630"
      },
      "outputs": [
        {
          "output_type": "stream",
          "name": "stdout",
          "text": [
            "Maximum Summer Sales: 35577.0\n",
            "99th Percentile of Summer Sales: 13953.999999999993\n",
            "{35577.0}\n"
          ]
        }
      ],
      "source": [
        "max_summer = inp0['Summer'].max()\n",
        "\n",
        "# Find the 99th percentile\n",
        "percentile_99_summer = inp0['Summer'].quantile(0.99)\n",
        "\n",
        "print(f\"Maximum Summer Sales: {max_summer}\")\n",
        "print(f\"99th Percentile of Summer Sales: {percentile_99_summer}\")\n",
        "print({max_summer} - {percentile_99_summer})"
      ]
    },
    {
      "cell_type": "code",
      "execution_count": null,
      "metadata": {
        "id": "bgH7-2Fx9rWq"
      },
      "outputs": [],
      "source": [
        "# Find the maximum and 99th percentile of Spring season.\n"
      ]
    },
    {
      "cell_type": "code",
      "execution_count": null,
      "metadata": {
        "colab": {
          "base_uri": "https://localhost:8080/"
        },
        "id": "Pl47OrAX9rWq",
        "outputId": "05915407-f97a-4190-ed59-2dc2f613dd79"
      },
      "outputs": [
        {
          "output_type": "stream",
          "name": "stdout",
          "text": [
            "Maxmium Spring Sales : 7374.0\n",
            "99th Percentile of Spring Sales : 2656.88\n",
            "{7374.0}\n"
          ]
        }
      ],
      "source": [
        "max_spring = inp0['Spring'].max()\n",
        "percentile_99_spring =inp0['Spring'].quantile(0.99)\n",
        "print(f'Maxmium Spring Sales : {max_spring}')\n",
        "print(f'99th Percentile of Spring Sales : {percentile_99_spring}')\n",
        "print({max_spring} - {percentile_99_spring})"
      ]
    },
    {
      "cell_type": "code",
      "execution_count": null,
      "metadata": {
        "id": "lqtzxfs_9rWq"
      },
      "outputs": [],
      "source": [
        "# Find the maximum and 99th percentile of Autumn season.\n"
      ]
    },
    {
      "cell_type": "code",
      "execution_count": null,
      "metadata": {
        "colab": {
          "base_uri": "https://localhost:8080/"
        },
        "id": "Otx__cbb9rWr",
        "outputId": "feed0a9f-cfd3-491f-9dad-549909d18e97"
      },
      "outputs": [
        {
          "output_type": "stream",
          "name": "stdout",
          "text": [
            "Maximum Autumn Sales : 55532.0\n",
            "99th Percentile of Spring Sales : 23960.399999999936\n",
            "{55532.0}\n"
          ]
        }
      ],
      "source": [
        "max_autumn = inp0['Autumn'].max()\n",
        "percentile_99_autumn = inp0['Autumn'].quantile(0.99)\n",
        "print(f'Maximum Autumn Sales : {max_autumn}')\n",
        "print(f'99th Percentile of Spring Sales : {percentile_99_autumn}')\n",
        "print({max_autumn} - {percentile_99_autumn})"
      ]
    },
    {
      "cell_type": "markdown",
      "metadata": {
        "id": "0_0dYaFL9rWr"
      },
      "source": [
        "## Bivariate Analysis"
      ]
    },
    {
      "cell_type": "markdown",
      "metadata": {
        "id": "Q030wMrm9rWr"
      },
      "source": [
        "### Numerical- Categorical analysis"
      ]
    },
    {
      "cell_type": "markdown",
      "metadata": {
        "id": "e6byoB8g9rWr"
      },
      "source": [
        "Which of the following “Price” category has the lowest average value of rating?\n",
        "- very-high\n",
        "- Medium\n",
        "- Low\n",
        "- High\n"
      ]
    },
    {
      "cell_type": "code",
      "execution_count": null,
      "metadata": {
        "id": "qm_9epWS9rWr"
      },
      "outputs": [],
      "source": [
        "# Find the Mean of Ratings for each Price category.\n"
      ]
    },
    {
      "cell_type": "code",
      "execution_count": null,
      "metadata": {
        "id": "ANbcNxsr9rWr"
      },
      "outputs": [],
      "source": []
    },
    {
      "cell_type": "code",
      "execution_count": null,
      "metadata": {
        "colab": {
          "base_uri": "https://localhost:8080/"
        },
        "id": "mTHaAJJR9rWr",
        "outputId": "f3fb3345-6eb9-4a65-d1d5-04c44cdb85e6"
      },
      "outputs": [
        {
          "output_type": "stream",
          "name": "stdout",
          "text": [
            "Price\n",
            "Average      3.464167\n",
            "High         2.914286\n",
            "Low          3.692121\n",
            "Medium       3.156667\n",
            "very-high    3.123810\n",
            "Name: Rating, dtype: float64\n"
          ]
        }
      ],
      "source": [
        "mean_ratings_by_price = inp0.groupby('Price')['Rating'].mean()\n",
        "\n",
        "print(mean_ratings_by_price)"
      ]
    },
    {
      "cell_type": "markdown",
      "metadata": {
        "id": "D_mRu2c49rWr"
      },
      "source": [
        "What is the median of the rating of “vintage” category in Style column?\n",
        "- 4.6\n",
        "- 4.7\n",
        "- 4.55\n",
        "- 0.00\n"
      ]
    },
    {
      "cell_type": "code",
      "execution_count": null,
      "metadata": {
        "id": "rBQAC0rm9rWr"
      },
      "outputs": [],
      "source": [
        "# Find the median of Ratings for each Style category.\n"
      ]
    },
    {
      "cell_type": "code",
      "execution_count": null,
      "metadata": {
        "colab": {
          "base_uri": "https://localhost:8080/",
          "height": 429
        },
        "id": "ExABEZSg9rWr",
        "outputId": "ce2e4bd1-bd60-45af-d1bf-331e372ea972"
      },
      "outputs": [
        {
          "output_type": "execute_result",
          "data": {
            "text/plain": [
              "Style\n",
              "Brief       4.60\n",
              "Casual      4.60\n",
              "Others      0.00\n",
              "Sexy        4.55\n",
              "bohemian    4.60\n",
              "cute        4.55\n",
              "party       4.70\n",
              "sexy        4.50\n",
              "vintage     4.60\n",
              "work        4.70\n",
              "Name: Rating, dtype: float64"
            ],
            "text/html": [
              "<div>\n",
              "<style scoped>\n",
              "    .dataframe tbody tr th:only-of-type {\n",
              "        vertical-align: middle;\n",
              "    }\n",
              "\n",
              "    .dataframe tbody tr th {\n",
              "        vertical-align: top;\n",
              "    }\n",
              "\n",
              "    .dataframe thead th {\n",
              "        text-align: right;\n",
              "    }\n",
              "</style>\n",
              "<table border=\"1\" class=\"dataframe\">\n",
              "  <thead>\n",
              "    <tr style=\"text-align: right;\">\n",
              "      <th></th>\n",
              "      <th>Rating</th>\n",
              "    </tr>\n",
              "    <tr>\n",
              "      <th>Style</th>\n",
              "      <th></th>\n",
              "    </tr>\n",
              "  </thead>\n",
              "  <tbody>\n",
              "    <tr>\n",
              "      <th>Brief</th>\n",
              "      <td>4.60</td>\n",
              "    </tr>\n",
              "    <tr>\n",
              "      <th>Casual</th>\n",
              "      <td>4.60</td>\n",
              "    </tr>\n",
              "    <tr>\n",
              "      <th>Others</th>\n",
              "      <td>0.00</td>\n",
              "    </tr>\n",
              "    <tr>\n",
              "      <th>Sexy</th>\n",
              "      <td>4.55</td>\n",
              "    </tr>\n",
              "    <tr>\n",
              "      <th>bohemian</th>\n",
              "      <td>4.60</td>\n",
              "    </tr>\n",
              "    <tr>\n",
              "      <th>cute</th>\n",
              "      <td>4.55</td>\n",
              "    </tr>\n",
              "    <tr>\n",
              "      <th>party</th>\n",
              "      <td>4.70</td>\n",
              "    </tr>\n",
              "    <tr>\n",
              "      <th>sexy</th>\n",
              "      <td>4.50</td>\n",
              "    </tr>\n",
              "    <tr>\n",
              "      <th>vintage</th>\n",
              "      <td>4.60</td>\n",
              "    </tr>\n",
              "    <tr>\n",
              "      <th>work</th>\n",
              "      <td>4.70</td>\n",
              "    </tr>\n",
              "  </tbody>\n",
              "</table>\n",
              "</div><br><label><b>dtype:</b> float64</label>"
            ]
          },
          "metadata": {},
          "execution_count": 123
        }
      ],
      "source": [
        "inp0.groupby('Style')['Rating'].median()"
      ]
    },
    {
      "cell_type": "markdown",
      "metadata": {
        "id": "okiPeLnY9rWr"
      },
      "source": [
        "Which of the following season has the highest average value of sale for “Recommendation” value equals to 1.\n",
        "- Summer\n",
        "- Spring\n",
        "- Autumn\n",
        "- Winter\n"
      ]
    },
    {
      "cell_type": "code",
      "execution_count": null,
      "metadata": {
        "id": "NjWgR54f9rWr"
      },
      "outputs": [],
      "source": [
        "# Summer sale vs Recommendation.\n"
      ]
    },
    {
      "cell_type": "code",
      "execution_count": null,
      "metadata": {
        "id": "4T9Hw31L9rWr"
      },
      "outputs": [],
      "source": [
        "# Spring sale vs Recommendation.\n"
      ]
    },
    {
      "cell_type": "code",
      "execution_count": null,
      "metadata": {
        "id": "uML_z_Y_9rWr"
      },
      "outputs": [],
      "source": [
        "# Autumn sale vs Recommendation.\n"
      ]
    },
    {
      "cell_type": "code",
      "execution_count": null,
      "metadata": {
        "id": "LD_pwJRm9rWr"
      },
      "outputs": [],
      "source": [
        "# Winter sale vs Recommendation.\n"
      ]
    },
    {
      "cell_type": "code",
      "execution_count": null,
      "metadata": {
        "colab": {
          "base_uri": "https://localhost:8080/"
        },
        "id": "fMT7EXyv9rWr",
        "outputId": "58e539b0-18fb-4d68-ec7d-3fc54277fbb1"
      },
      "outputs": [
        {
          "output_type": "stream",
          "name": "stdout",
          "text": [
            "The season with the highest average sales for Recommendation = 1 is: Autumn\n"
          ]
        }
      ],
      "source": [
        "# Filter data for Recommendation = 1\n",
        "recommended_data = inp0[inp0['Recommendation'] == 1]\n",
        "\n",
        "# Calculate average sales for each season\n",
        "avg_sales_by_season = recommended_data[['Spring', 'Summer', 'Autumn', 'Winter']].mean()\n",
        "\n",
        "# Find the season with the highest average sales\n",
        "highest_avg_sales_season = avg_sales_by_season.idxmax()\n",
        "\n",
        "print(f\"The season with the highest average sales for Recommendation = 1 is: {highest_avg_sales_season}\")"
      ]
    },
    {
      "cell_type": "markdown",
      "metadata": {
        "id": "6DpDW0jb9rWr"
      },
      "source": [
        "### Categorical categorical bivariate analysis\n"
      ]
    },
    {
      "cell_type": "markdown",
      "metadata": {
        "id": "_8potCJo9rWr"
      },
      "source": [
        "Which of the following size categories has the highest positive recommendations?\n",
        "- Medium and extra large\n",
        "- Extra large and small\n",
        "- Free and small\n",
        "- Free and medium\n"
      ]
    },
    {
      "cell_type": "code",
      "execution_count": null,
      "metadata": {
        "id": "uoqJN6f-9rWs"
      },
      "outputs": [],
      "source": [
        "# Size vs Recommendation.\n"
      ]
    },
    {
      "cell_type": "code",
      "execution_count": null,
      "metadata": {
        "colab": {
          "base_uri": "https://localhost:8080/"
        },
        "id": "GN_yHxvL9rWs",
        "outputId": "c0b20653-d2b0-483d-8854-71333a3fa417"
      },
      "outputs": [
        {
          "output_type": "stream",
          "name": "stdout",
          "text": [
            "The size category with the highest positive recommendations is: Free\n"
          ]
        }
      ],
      "source": [
        "size_recommendation_rate = inp0.groupby('Size')['Recommendation'].mean()\n",
        "\n",
        "# Find the size with the highest recommendation rate\n",
        "highest_recommendation_size = size_recommendation_rate.idxmax()\n",
        "\n",
        "print(f\"The size category with the highest positive recommendations is: {highest_recommendation_size}\")"
      ]
    },
    {
      "cell_type": "markdown",
      "metadata": {
        "id": "A7OOt0c59rWs"
      },
      "source": [
        "### Multivariate analysis"
      ]
    },
    {
      "cell_type": "markdown",
      "metadata": {
        "id": "B40QHPFO9rWs"
      },
      "source": [
        "Which of the following pair of “Style” and “Price” category has the highest average of positive recommendations?\n",
        "- Price: medium and style: vintage\n",
        "- Price: medium and style: cute\n",
        "- Price: very high and style: party\n",
        "- Price: low and style: sexy\n"
      ]
    },
    {
      "cell_type": "code",
      "execution_count": null,
      "metadata": {
        "id": "IDG9adcy9rWs"
      },
      "outputs": [],
      "source": [
        "# plot the heat map of Style, price and Recommendation.\n"
      ]
    },
    {
      "cell_type": "code",
      "execution_count": null,
      "metadata": {
        "id": "17cPK5RK9rWs"
      },
      "outputs": [],
      "source": [
        "style_price_recommendation = inp0.groupby(['Style', 'Price'])['Recommendation'].mean().reset_index()\n",
        "heatmap_data = style_price_recommendation.pivot(index='Style', columns='Price', values='Recommendation')"
      ]
    },
    {
      "cell_type": "code",
      "execution_count": null,
      "metadata": {
        "colab": {
          "base_uri": "https://localhost:8080/",
          "height": 718
        },
        "id": "CHA0Z2Wa9rWs",
        "outputId": "15e779d2-ff40-4833-9cea-fef206339ee0"
      },
      "outputs": [
        {
          "output_type": "display_data",
          "data": {
            "text/plain": [
              "<Figure size 1200x800 with 2 Axes>"
            ],
            "image/png": "[encoded data removed]"
          },
          "metadata": {}
        }
      ],
      "source": [
        "import seaborn as sns\n",
        "import matplotlib.pyplot as plt\n",
        "\n",
        "# Group data by style and price, then calculate average recommendation\n",
        "style_price_recommendation = inp0.groupby(['Style', 'Price'])['Recommendation'].mean().reset_index()\n",
        "\n",
        "# Pivot the data to create a matrix for the heatmap\n",
        "heatmap_data = style_price_recommendation.pivot(index='Style', columns='Price', values='Recommendation')\n",
        "\n",
        "# Create the heatmap\n",
        "plt.figure(figsize=(12, 8))  # Adjust figure size as needed\n",
        "sns.heatmap(heatmap_data, annot=True, cmap=\"YlGnBu\")\n",
        "plt.title('Heatmap of Style, Price, and Recommendation')\n",
        "plt.xlabel('Price')\n",
        "plt.ylabel('Style')\n",
        "plt.show()"
      ]
    },
    {
      "cell_type": "markdown",
      "metadata": {
        "id": "Fw9dPZh79rWs"
      },
      "source": [
        "Which of the following material type has no recommendation in summer and winter seasons?\n",
        "- Mix and Milksilk\n",
        "- Nylon and Rayon\n",
        "- Microfiber and Silk\n",
        "- Milksilk and Microfiber\n"
      ]
    },
    {
      "cell_type": "code",
      "execution_count": null,
      "metadata": {
        "id": "bvfmBYwU9rWs"
      },
      "outputs": [],
      "source": [
        "# plot the heat map of Season, material and Recommendation.\n"
      ]
    },
    {
      "cell_type": "code",
      "execution_count": null,
      "metadata": {
        "colab": {
          "base_uri": "https://localhost:8080/",
          "height": 718
        },
        "id": "Xy4e0GxL9rWs",
        "outputId": "2dfed88c-4a4a-43db-893d-dbbde1555973"
      },
      "outputs": [
        {
          "output_type": "display_data",
          "data": {
            "text/plain": [
              "<Figure size 1200x800 with 2 Axes>"
            ],
            "image/png": "[encoded data removed]"
          },
          "metadata": {}
        }
      ],
      "source": [
        "import seaborn as sns\n",
        "import matplotlib.pyplot as plt\n",
        "\n",
        "# Group data by season and material, then calculate average recommendation\n",
        "season_material_recommendation = inp0.groupby(['Season', 'Material'])['Recommendation'].mean().reset_index()\n",
        "\n",
        "# Pivot the data to create a matrix for the heatmap\n",
        "heatmap_data = season_material_recommendation.pivot(index='Season', columns='Material', values='Recommendation')\n",
        "\n",
        "# Create the heatmap\n",
        "plt.figure(figsize=(12, 8))  # Adjust figure size as needed\n",
        "sns.heatmap(heatmap_data, annot=True, cmap=\"YlGnBu\")\n",
        "plt.title('Heatmap of Season, Material, and Recommendation')\n",
        "plt.xlabel('Material')\n",
        "plt.ylabel('Season')\n",
        "plt.show()"
      ]
    },
    {
      "cell_type": "code",
      "execution_count": null,
      "metadata": {
        "id": "rEHaY4mm9rWs",
        "colab": {
          "base_uri": "https://localhost:8080/"
        },
        "outputId": "e9b8f719-92e6-4195-8b8f-18d5a3e0bc24"
      },
      "outputs": [
        {
          "output_type": "execute_result",
          "data": {
            "text/plain": [
              "Index(['Others'], dtype='object', name='Style')"
            ]
          },
          "metadata": {},
          "execution_count": 136
        }
      ],
      "source": [
        "# prompt: In the ‘Attribute Dataset’, there is a column named ‘Style’, which contains the different style categories of women's apparel. Certain categories whose total sales is less than 50,000 across all the seasons are grouped under a single category named ‘Others’.\n",
        "# Which of the following categories under the ‘Style’ column can be grouped in the ‘Others’ category? Perform the grouping operation in the notebook for further analysis.\n",
        "# (note: this can have multiple correct answers, select all which fulfil the requirement)\n",
        "# ACPDS - Univariate Analysis - Graded Questions - Q1\n",
        "# Flare, Fashion\n",
        "# Novelty, Bohemian\n",
        "# Your Answer\n",
        "# OL, Fashion, Work\n",
        "# Novelty, Fashion, Flare\n",
        "\n",
        "# Assuming your DataFrame is named 'inp0' and has 'Style', 'Summer', 'Autumn', 'Winter', 'Spring' columns\n",
        "\n",
        "# Calculate total sales for each style category\n",
        "style_sales = inp0.groupby('Style')[['Summer', 'Autumn', 'Winter', 'Spring']].sum().sum(axis=1)\n",
        "\n",
        "# Identify style categories with sales less than 50000\n",
        "styles_to_group = style_sales[style_sales < 50000].index\n",
        "\n",
        "styles_to_group\n"
      ]
    }
  ],
  "metadata": {
    "kernelspec": {
      "display_name": "Python [conda env:base] *",
      "language": "python",
      "name": "conda-base-py"
    },
    "language_info": {
      "codemirror_mode": {
        "name": "ipython",
        "version": 3
      },
      "file_extension": ".py",
      "mimetype": "text/x-python",
      "name": "python",
      "nbconvert_exporter": "python",
      "pygments_lexer": "ipython3",
      "version": "3.12.7"
    },
    "colab": {
      "provenance": [],
      "toc_visible": true
    }
  },
  "nbformat": 4,
  "nbformat_minor": 0
}